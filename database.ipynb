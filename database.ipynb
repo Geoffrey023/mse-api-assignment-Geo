{
 "cells": [
  {
   "cell_type": "code",
   "execution_count": 1,
   "id": "abdefaa5",
   "metadata": {},
   "outputs": [
    {
     "data": {
      "text/plain": [
       "False"
      ]
     },
     "execution_count": 1,
     "metadata": {},
     "output_type": "execute_result"
    }
   ],
   "source": [
    "import pandas as pd\n",
    "import numpy as np\n",
    "from pathlib import Path\n",
    "from sqlalchemy import create_engine, text\n",
    "from dotenv import load_dotenv\n",
    "import os\n",
    "from fastapi import FastAPI\n",
    "\n",
    "# Load environment variables from .env file\n",
    "load_dotenv()"
   ]
  },
  {
   "cell_type": "code",
   "execution_count": 23,
   "id": "ecbe7537",
   "metadata": {},
   "outputs": [],
   "source": [
    "DIR_WORKSPACE = Path.cwd().parent.parent\n",
    "DIR_DATA = DIR_WORKSPACE / \"data\"\n",
    "DIR_REPORTS_CSV = DIR_DATA / \"csv_files\"\n",
    "DIR_OUTPUT = DIR_DATA / \"master_csv\""
   ]
  },
  {
   "cell_type": "code",
   "execution_count": 3,
   "id": "549eb711",
   "metadata": {},
   "outputs": [
    {
     "data": {
      "text/plain": [
       "WindowsPath('c:/Users/Geoffrey-RISA/Documents/GitHub/data/master_csv')"
      ]
     },
     "execution_count": 3,
     "metadata": {},
     "output_type": "execute_result"
    }
   ],
   "source": [
    "DIR_OUTPUT"
   ]
  },
  {
   "cell_type": "code",
   "execution_count": 4,
   "id": "71c9cd91",
   "metadata": {},
   "outputs": [
    {
     "data": {
      "application/vnd.microsoft.datawrangler.viewer.v0+json": {
       "columns": [
        {
         "name": "index",
         "rawType": "int64",
         "type": "integer"
        },
        {
         "name": "Unnamed: 0",
         "rawType": "int64",
         "type": "integer"
        },
        {
         "name": "counter_id",
         "rawType": "object",
         "type": "string"
        },
        {
         "name": "daily_range_high",
         "rawType": "float64",
         "type": "float"
        },
        {
         "name": "daily_range_low",
         "rawType": "float64",
         "type": "float"
        },
        {
         "name": "ticker",
         "rawType": "object",
         "type": "string"
        },
        {
         "name": "buy_price",
         "rawType": "object",
         "type": "string"
        },
        {
         "name": "sell_price",
         "rawType": "object",
         "type": "string"
        },
        {
         "name": "previous_closing_price",
         "rawType": "float64",
         "type": "float"
        },
        {
         "name": "today_closing_price",
         "rawType": "float64",
         "type": "float"
        },
        {
         "name": "volume_traded",
         "rawType": "float64",
         "type": "float"
        },
        {
         "name": "dividend_mk",
         "rawType": "object",
         "type": "string"
        },
        {
         "name": "dividend_yield_pct",
         "rawType": "float64",
         "type": "float"
        },
        {
         "name": "earnings_yield_pct",
         "rawType": "float64",
         "type": "float"
        },
        {
         "name": "pe_ratio",
         "rawType": "float64",
         "type": "float"
        },
        {
         "name": "pbv_ratio",
         "rawType": "object",
         "type": "string"
        },
        {
         "name": "market_capitalization_mkmn",
         "rawType": "object",
         "type": "string"
        },
        {
         "name": "profit_after_tax_mkmn",
         "rawType": "float64",
         "type": "float"
        },
        {
         "name": "num_shares_issue",
         "rawType": "float64",
         "type": "float"
        },
        {
         "name": "trade_date",
         "rawType": "object",
         "type": "string"
        },
        {
         "name": "print_time",
         "rawType": "object",
         "type": "string"
        },
        {
         "name": "name",
         "rawType": "object",
         "type": "string"
        }
       ],
       "ref": "089e6470-53be-467d-afb2-eb03f83a3f1c",
       "rows": [
        [
         "0",
         "0",
         "1",
         "138.97",
         "137.94",
         "AIRTEL",
         "0",
         "137.96",
         "138.54",
         "137.98",
         "79004.0",
         "2",
         "1.45",
         "2.81",
         "35.53",
         "47.26",
         "1517780",
         "42722.11",
         "11000000000.0",
         "9/19/2025",
         "14:37:47",
         "AIRTEL MALAWI PLC"
        ],
        [
         "1",
         "1",
         "2",
         "15.02",
         "15.02",
         "BHL",
         "15.02",
         "0",
         "15.02",
         "15.02",
         "7042.0",
         "0",
         "0.0",
         "-1.55",
         "-64.44",
         "1.36",
         "88291.39",
         "-1370.11",
         "5878254935.0",
         "9/19/2025",
         "14:37:47",
         "BLANTYRE HOTELS PLC"
        ],
        [
         "2",
         "2",
         "3",
         "637.95",
         "637.91",
         "FDHB",
         "635",
         "637.92",
         "637.95",
         "637.93",
         "101411.0",
         "4.73",
         "0.74",
         "1.68",
         "59.44",
         "45.2",
         "4402374.87",
         "74063.0",
         "6901031250.0",
         "9/19/2025",
         "14:37:47",
         "FDH BANK PLC"
        ],
        [
         "3",
         "3",
         "4",
         "1897.99",
         "1897.99",
         "FMBCH",
         "1897.99",
         "0",
         "1897.99",
         "1897.99",
         "15133.0",
         "3.64",
         "0.19",
         "2.53",
         "39.45",
         "14.18",
         "4665733.92",
         "118254.74",
         "2458250000.0",
         "9/19/2025",
         "14:37:47",
         "FMB CAPITAL HOLDINGS PLC"
        ],
        [
         "4",
         "4",
         "5",
         "17.94",
         "17.94",
         "ICON",
         "0",
         "17.94",
         "17.94",
         "17.94",
         "18168.0",
         "0.29",
         "1.62",
         "20.38",
         "4.91",
         "0.82",
         "119839.2",
         "24424.49",
         "6680000000.0",
         "9/19/2025",
         "14:37:47",
         "ICON PROPERTIES PLC"
        ]
       ],
       "shape": {
        "columns": 21,
        "rows": 5
       }
      },
      "text/html": [
       "<div>\n",
       "<style scoped>\n",
       "    .dataframe tbody tr th:only-of-type {\n",
       "        vertical-align: middle;\n",
       "    }\n",
       "\n",
       "    .dataframe tbody tr th {\n",
       "        vertical-align: top;\n",
       "    }\n",
       "\n",
       "    .dataframe thead th {\n",
       "        text-align: right;\n",
       "    }\n",
       "</style>\n",
       "<table border=\"1\" class=\"dataframe\">\n",
       "  <thead>\n",
       "    <tr style=\"text-align: right;\">\n",
       "      <th></th>\n",
       "      <th>Unnamed: 0</th>\n",
       "      <th>counter_id</th>\n",
       "      <th>daily_range_high</th>\n",
       "      <th>daily_range_low</th>\n",
       "      <th>ticker</th>\n",
       "      <th>buy_price</th>\n",
       "      <th>sell_price</th>\n",
       "      <th>previous_closing_price</th>\n",
       "      <th>today_closing_price</th>\n",
       "      <th>volume_traded</th>\n",
       "      <th>...</th>\n",
       "      <th>dividend_yield_pct</th>\n",
       "      <th>earnings_yield_pct</th>\n",
       "      <th>pe_ratio</th>\n",
       "      <th>pbv_ratio</th>\n",
       "      <th>market_capitalization_mkmn</th>\n",
       "      <th>profit_after_tax_mkmn</th>\n",
       "      <th>num_shares_issue</th>\n",
       "      <th>trade_date</th>\n",
       "      <th>print_time</th>\n",
       "      <th>name</th>\n",
       "    </tr>\n",
       "  </thead>\n",
       "  <tbody>\n",
       "    <tr>\n",
       "      <th>0</th>\n",
       "      <td>0</td>\n",
       "      <td>1</td>\n",
       "      <td>138.97</td>\n",
       "      <td>137.94</td>\n",
       "      <td>AIRTEL</td>\n",
       "      <td>0</td>\n",
       "      <td>137.96</td>\n",
       "      <td>138.54</td>\n",
       "      <td>137.98</td>\n",
       "      <td>79004.0</td>\n",
       "      <td>...</td>\n",
       "      <td>1.45</td>\n",
       "      <td>2.81</td>\n",
       "      <td>35.53</td>\n",
       "      <td>47.26</td>\n",
       "      <td>1517780</td>\n",
       "      <td>42722.11</td>\n",
       "      <td>1.100000e+10</td>\n",
       "      <td>9/19/2025</td>\n",
       "      <td>14:37:47</td>\n",
       "      <td>AIRTEL MALAWI PLC</td>\n",
       "    </tr>\n",
       "    <tr>\n",
       "      <th>1</th>\n",
       "      <td>1</td>\n",
       "      <td>2</td>\n",
       "      <td>15.02</td>\n",
       "      <td>15.02</td>\n",
       "      <td>BHL</td>\n",
       "      <td>15.02</td>\n",
       "      <td>0</td>\n",
       "      <td>15.02</td>\n",
       "      <td>15.02</td>\n",
       "      <td>7042.0</td>\n",
       "      <td>...</td>\n",
       "      <td>0.00</td>\n",
       "      <td>-1.55</td>\n",
       "      <td>-64.44</td>\n",
       "      <td>1.36</td>\n",
       "      <td>88291.39</td>\n",
       "      <td>-1370.11</td>\n",
       "      <td>5.878255e+09</td>\n",
       "      <td>9/19/2025</td>\n",
       "      <td>14:37:47</td>\n",
       "      <td>BLANTYRE HOTELS PLC</td>\n",
       "    </tr>\n",
       "    <tr>\n",
       "      <th>2</th>\n",
       "      <td>2</td>\n",
       "      <td>3</td>\n",
       "      <td>637.95</td>\n",
       "      <td>637.91</td>\n",
       "      <td>FDHB</td>\n",
       "      <td>635</td>\n",
       "      <td>637.92</td>\n",
       "      <td>637.95</td>\n",
       "      <td>637.93</td>\n",
       "      <td>101411.0</td>\n",
       "      <td>...</td>\n",
       "      <td>0.74</td>\n",
       "      <td>1.68</td>\n",
       "      <td>59.44</td>\n",
       "      <td>45.2</td>\n",
       "      <td>4402374.87</td>\n",
       "      <td>74063.00</td>\n",
       "      <td>6.901031e+09</td>\n",
       "      <td>9/19/2025</td>\n",
       "      <td>14:37:47</td>\n",
       "      <td>FDH BANK PLC</td>\n",
       "    </tr>\n",
       "    <tr>\n",
       "      <th>3</th>\n",
       "      <td>3</td>\n",
       "      <td>4</td>\n",
       "      <td>1897.99</td>\n",
       "      <td>1897.99</td>\n",
       "      <td>FMBCH</td>\n",
       "      <td>1897.99</td>\n",
       "      <td>0</td>\n",
       "      <td>1897.99</td>\n",
       "      <td>1897.99</td>\n",
       "      <td>15133.0</td>\n",
       "      <td>...</td>\n",
       "      <td>0.19</td>\n",
       "      <td>2.53</td>\n",
       "      <td>39.45</td>\n",
       "      <td>14.18</td>\n",
       "      <td>4665733.92</td>\n",
       "      <td>118254.74</td>\n",
       "      <td>2.458250e+09</td>\n",
       "      <td>9/19/2025</td>\n",
       "      <td>14:37:47</td>\n",
       "      <td>FMB CAPITAL HOLDINGS PLC</td>\n",
       "    </tr>\n",
       "    <tr>\n",
       "      <th>4</th>\n",
       "      <td>4</td>\n",
       "      <td>5</td>\n",
       "      <td>17.94</td>\n",
       "      <td>17.94</td>\n",
       "      <td>ICON</td>\n",
       "      <td>0</td>\n",
       "      <td>17.94</td>\n",
       "      <td>17.94</td>\n",
       "      <td>17.94</td>\n",
       "      <td>18168.0</td>\n",
       "      <td>...</td>\n",
       "      <td>1.62</td>\n",
       "      <td>20.38</td>\n",
       "      <td>4.91</td>\n",
       "      <td>0.82</td>\n",
       "      <td>119839.2</td>\n",
       "      <td>24424.49</td>\n",
       "      <td>6.680000e+09</td>\n",
       "      <td>9/19/2025</td>\n",
       "      <td>14:37:47</td>\n",
       "      <td>ICON PROPERTIES PLC</td>\n",
       "    </tr>\n",
       "  </tbody>\n",
       "</table>\n",
       "<p>5 rows × 21 columns</p>\n",
       "</div>"
      ],
      "text/plain": [
       "   Unnamed: 0 counter_id  daily_range_high  daily_range_low  ticker buy_price  \\\n",
       "0           0          1            138.97           137.94  AIRTEL         0   \n",
       "1           1          2             15.02            15.02     BHL     15.02   \n",
       "2           2          3            637.95           637.91    FDHB       635   \n",
       "3           3          4           1897.99          1897.99   FMBCH   1897.99   \n",
       "4           4          5             17.94            17.94    ICON         0   \n",
       "\n",
       "  sell_price  previous_closing_price  today_closing_price  volume_traded  ...  \\\n",
       "0     137.96                  138.54               137.98        79004.0  ...   \n",
       "1          0                   15.02                15.02         7042.0  ...   \n",
       "2     637.92                  637.95               637.93       101411.0  ...   \n",
       "3          0                 1897.99              1897.99        15133.0  ...   \n",
       "4      17.94                   17.94                17.94        18168.0  ...   \n",
       "\n",
       "  dividend_yield_pct  earnings_yield_pct  pe_ratio  pbv_ratio  \\\n",
       "0               1.45                2.81     35.53      47.26   \n",
       "1               0.00               -1.55    -64.44       1.36   \n",
       "2               0.74                1.68     59.44       45.2   \n",
       "3               0.19                2.53     39.45      14.18   \n",
       "4               1.62               20.38      4.91       0.82   \n",
       "\n",
       "  market_capitalization_mkmn profit_after_tax_mkmn  num_shares_issue  \\\n",
       "0                    1517780              42722.11      1.100000e+10   \n",
       "1                   88291.39              -1370.11      5.878255e+09   \n",
       "2                 4402374.87              74063.00      6.901031e+09   \n",
       "3                 4665733.92             118254.74      2.458250e+09   \n",
       "4                   119839.2              24424.49      6.680000e+09   \n",
       "\n",
       "   trade_date print_time                      name  \n",
       "0   9/19/2025   14:37:47         AIRTEL MALAWI PLC  \n",
       "1   9/19/2025   14:37:47       BLANTYRE HOTELS PLC  \n",
       "2   9/19/2025   14:37:47              FDH BANK PLC  \n",
       "3   9/19/2025   14:37:47  FMB CAPITAL HOLDINGS PLC  \n",
       "4   9/19/2025   14:37:47       ICON PROPERTIES PLC  \n",
       "\n",
       "[5 rows x 21 columns]"
      ]
     },
     "execution_count": 4,
     "metadata": {},
     "output_type": "execute_result"
    }
   ],
   "source": [
    "df=pd.read_csv(DIR_OUTPUT / r\"C:\\Users\\Geoffrey-RISA\\Documents\\GitHub\\AIMS-DSCBI-WEEK-3\\mse-api-assignment-Geo\\data\\master_csv\\master_csv.csv\")\n",
    "df.head()"
   ]
  },
  {
   "cell_type": "code",
   "execution_count": 5,
   "id": "85310315",
   "metadata": {},
   "outputs": [
    {
     "data": {
      "application/vnd.microsoft.datawrangler.viewer.v0+json": {
       "columns": [
        {
         "name": "index",
         "rawType": "int64",
         "type": "integer"
        },
        {
         "name": "Unnamed: 0",
         "rawType": "int64",
         "type": "integer"
        },
        {
         "name": "counter_id",
         "rawType": "object",
         "type": "string"
        },
        {
         "name": "daily_range_high",
         "rawType": "float64",
         "type": "float"
        },
        {
         "name": "daily_range_low",
         "rawType": "float64",
         "type": "float"
        },
        {
         "name": "ticker",
         "rawType": "object",
         "type": "string"
        },
        {
         "name": "buy_price",
         "rawType": "object",
         "type": "string"
        },
        {
         "name": "sell_price",
         "rawType": "object",
         "type": "string"
        },
        {
         "name": "previous_closing_price",
         "rawType": "float64",
         "type": "float"
        },
        {
         "name": "today_closing_price",
         "rawType": "float64",
         "type": "float"
        },
        {
         "name": "volume_traded",
         "rawType": "float64",
         "type": "float"
        },
        {
         "name": "dividend_mk",
         "rawType": "object",
         "type": "string"
        },
        {
         "name": "dividend_yield_pct",
         "rawType": "float64",
         "type": "float"
        },
        {
         "name": "earnings_yield_pct",
         "rawType": "float64",
         "type": "float"
        },
        {
         "name": "pe_ratio",
         "rawType": "float64",
         "type": "float"
        },
        {
         "name": "pbv_ratio",
         "rawType": "object",
         "type": "string"
        },
        {
         "name": "market_capitalization_mkmn",
         "rawType": "object",
         "type": "string"
        },
        {
         "name": "profit_after_tax_mkmn",
         "rawType": "float64",
         "type": "float"
        },
        {
         "name": "num_shares_issue",
         "rawType": "float64",
         "type": "float"
        },
        {
         "name": "trade_date",
         "rawType": "object",
         "type": "string"
        },
        {
         "name": "print_time",
         "rawType": "object",
         "type": "string"
        },
        {
         "name": "name",
         "rawType": "object",
         "type": "string"
        }
       ],
       "ref": "af09c103-9f7f-4024-a73c-8053e8d5b5c1",
       "rows": [
        [
         "0",
         "0",
         "1",
         "138.97",
         "137.94",
         "AIRTEL",
         "0",
         "137.96",
         "138.54",
         "137.98",
         "79004.0",
         "2",
         "1.45",
         "2.81",
         "35.53",
         "47.26",
         "1517780",
         "42722.11",
         "11000000000.0",
         "9/19/2025",
         "14:37:47",
         "AIRTEL MALAWI PLC"
        ],
        [
         "1",
         "1",
         "2",
         "15.02",
         "15.02",
         "BHL",
         "15.02",
         "0",
         "15.02",
         "15.02",
         "7042.0",
         "0",
         "0.0",
         "-1.55",
         "-64.44",
         "1.36",
         "88291.39",
         "-1370.11",
         "5878254935.0",
         "9/19/2025",
         "14:37:47",
         "BLANTYRE HOTELS PLC"
        ],
        [
         "2",
         "2",
         "3",
         "637.95",
         "637.91",
         "FDHB",
         "635",
         "637.92",
         "637.95",
         "637.93",
         "101411.0",
         "4.73",
         "0.74",
         "1.68",
         "59.44",
         "45.2",
         "4402374.87",
         "74063.0",
         "6901031250.0",
         "9/19/2025",
         "14:37:47",
         "FDH BANK PLC"
        ],
        [
         "3",
         "3",
         "4",
         "1897.99",
         "1897.99",
         "FMBCH",
         "1897.99",
         "0",
         "1897.99",
         "1897.99",
         "15133.0",
         "3.64",
         "0.19",
         "2.53",
         "39.45",
         "14.18",
         "4665733.92",
         "118254.74",
         "2458250000.0",
         "9/19/2025",
         "14:37:47",
         "FMB CAPITAL HOLDINGS PLC"
        ],
        [
         "4",
         "4",
         "5",
         "17.94",
         "17.94",
         "ICON",
         "0",
         "17.94",
         "17.94",
         "17.94",
         "18168.0",
         "0.29",
         "1.62",
         "20.38",
         "4.91",
         "0.82",
         "119839.2",
         "24424.49",
         "6680000000.0",
         "9/19/2025",
         "14:37:47",
         "ICON PROPERTIES PLC"
        ]
       ],
       "shape": {
        "columns": 21,
        "rows": 5
       }
      },
      "text/html": [
       "<div>\n",
       "<style scoped>\n",
       "    .dataframe tbody tr th:only-of-type {\n",
       "        vertical-align: middle;\n",
       "    }\n",
       "\n",
       "    .dataframe tbody tr th {\n",
       "        vertical-align: top;\n",
       "    }\n",
       "\n",
       "    .dataframe thead th {\n",
       "        text-align: right;\n",
       "    }\n",
       "</style>\n",
       "<table border=\"1\" class=\"dataframe\">\n",
       "  <thead>\n",
       "    <tr style=\"text-align: right;\">\n",
       "      <th></th>\n",
       "      <th>Unnamed: 0</th>\n",
       "      <th>counter_id</th>\n",
       "      <th>daily_range_high</th>\n",
       "      <th>daily_range_low</th>\n",
       "      <th>ticker</th>\n",
       "      <th>buy_price</th>\n",
       "      <th>sell_price</th>\n",
       "      <th>previous_closing_price</th>\n",
       "      <th>today_closing_price</th>\n",
       "      <th>volume_traded</th>\n",
       "      <th>...</th>\n",
       "      <th>dividend_yield_pct</th>\n",
       "      <th>earnings_yield_pct</th>\n",
       "      <th>pe_ratio</th>\n",
       "      <th>pbv_ratio</th>\n",
       "      <th>market_capitalization_mkmn</th>\n",
       "      <th>profit_after_tax_mkmn</th>\n",
       "      <th>num_shares_issue</th>\n",
       "      <th>trade_date</th>\n",
       "      <th>print_time</th>\n",
       "      <th>name</th>\n",
       "    </tr>\n",
       "  </thead>\n",
       "  <tbody>\n",
       "    <tr>\n",
       "      <th>0</th>\n",
       "      <td>0</td>\n",
       "      <td>1</td>\n",
       "      <td>138.97</td>\n",
       "      <td>137.94</td>\n",
       "      <td>AIRTEL</td>\n",
       "      <td>0</td>\n",
       "      <td>137.96</td>\n",
       "      <td>138.54</td>\n",
       "      <td>137.98</td>\n",
       "      <td>79004.0</td>\n",
       "      <td>...</td>\n",
       "      <td>1.45</td>\n",
       "      <td>2.81</td>\n",
       "      <td>35.53</td>\n",
       "      <td>47.26</td>\n",
       "      <td>1517780</td>\n",
       "      <td>42722.11</td>\n",
       "      <td>1.100000e+10</td>\n",
       "      <td>9/19/2025</td>\n",
       "      <td>14:37:47</td>\n",
       "      <td>AIRTEL MALAWI PLC</td>\n",
       "    </tr>\n",
       "    <tr>\n",
       "      <th>1</th>\n",
       "      <td>1</td>\n",
       "      <td>2</td>\n",
       "      <td>15.02</td>\n",
       "      <td>15.02</td>\n",
       "      <td>BHL</td>\n",
       "      <td>15.02</td>\n",
       "      <td>0</td>\n",
       "      <td>15.02</td>\n",
       "      <td>15.02</td>\n",
       "      <td>7042.0</td>\n",
       "      <td>...</td>\n",
       "      <td>0.00</td>\n",
       "      <td>-1.55</td>\n",
       "      <td>-64.44</td>\n",
       "      <td>1.36</td>\n",
       "      <td>88291.39</td>\n",
       "      <td>-1370.11</td>\n",
       "      <td>5.878255e+09</td>\n",
       "      <td>9/19/2025</td>\n",
       "      <td>14:37:47</td>\n",
       "      <td>BLANTYRE HOTELS PLC</td>\n",
       "    </tr>\n",
       "    <tr>\n",
       "      <th>2</th>\n",
       "      <td>2</td>\n",
       "      <td>3</td>\n",
       "      <td>637.95</td>\n",
       "      <td>637.91</td>\n",
       "      <td>FDHB</td>\n",
       "      <td>635</td>\n",
       "      <td>637.92</td>\n",
       "      <td>637.95</td>\n",
       "      <td>637.93</td>\n",
       "      <td>101411.0</td>\n",
       "      <td>...</td>\n",
       "      <td>0.74</td>\n",
       "      <td>1.68</td>\n",
       "      <td>59.44</td>\n",
       "      <td>45.2</td>\n",
       "      <td>4402374.87</td>\n",
       "      <td>74063.00</td>\n",
       "      <td>6.901031e+09</td>\n",
       "      <td>9/19/2025</td>\n",
       "      <td>14:37:47</td>\n",
       "      <td>FDH BANK PLC</td>\n",
       "    </tr>\n",
       "    <tr>\n",
       "      <th>3</th>\n",
       "      <td>3</td>\n",
       "      <td>4</td>\n",
       "      <td>1897.99</td>\n",
       "      <td>1897.99</td>\n",
       "      <td>FMBCH</td>\n",
       "      <td>1897.99</td>\n",
       "      <td>0</td>\n",
       "      <td>1897.99</td>\n",
       "      <td>1897.99</td>\n",
       "      <td>15133.0</td>\n",
       "      <td>...</td>\n",
       "      <td>0.19</td>\n",
       "      <td>2.53</td>\n",
       "      <td>39.45</td>\n",
       "      <td>14.18</td>\n",
       "      <td>4665733.92</td>\n",
       "      <td>118254.74</td>\n",
       "      <td>2.458250e+09</td>\n",
       "      <td>9/19/2025</td>\n",
       "      <td>14:37:47</td>\n",
       "      <td>FMB CAPITAL HOLDINGS PLC</td>\n",
       "    </tr>\n",
       "    <tr>\n",
       "      <th>4</th>\n",
       "      <td>4</td>\n",
       "      <td>5</td>\n",
       "      <td>17.94</td>\n",
       "      <td>17.94</td>\n",
       "      <td>ICON</td>\n",
       "      <td>0</td>\n",
       "      <td>17.94</td>\n",
       "      <td>17.94</td>\n",
       "      <td>17.94</td>\n",
       "      <td>18168.0</td>\n",
       "      <td>...</td>\n",
       "      <td>1.62</td>\n",
       "      <td>20.38</td>\n",
       "      <td>4.91</td>\n",
       "      <td>0.82</td>\n",
       "      <td>119839.2</td>\n",
       "      <td>24424.49</td>\n",
       "      <td>6.680000e+09</td>\n",
       "      <td>9/19/2025</td>\n",
       "      <td>14:37:47</td>\n",
       "      <td>ICON PROPERTIES PLC</td>\n",
       "    </tr>\n",
       "  </tbody>\n",
       "</table>\n",
       "<p>5 rows × 21 columns</p>\n",
       "</div>"
      ],
      "text/plain": [
       "   Unnamed: 0 counter_id  daily_range_high  daily_range_low  ticker buy_price  \\\n",
       "0           0          1            138.97           137.94  AIRTEL         0   \n",
       "1           1          2             15.02            15.02     BHL     15.02   \n",
       "2           2          3            637.95           637.91    FDHB       635   \n",
       "3           3          4           1897.99          1897.99   FMBCH   1897.99   \n",
       "4           4          5             17.94            17.94    ICON         0   \n",
       "\n",
       "  sell_price  previous_closing_price  today_closing_price  volume_traded  ...  \\\n",
       "0     137.96                  138.54               137.98        79004.0  ...   \n",
       "1          0                   15.02                15.02         7042.0  ...   \n",
       "2     637.92                  637.95               637.93       101411.0  ...   \n",
       "3          0                 1897.99              1897.99        15133.0  ...   \n",
       "4      17.94                   17.94                17.94        18168.0  ...   \n",
       "\n",
       "  dividend_yield_pct  earnings_yield_pct  pe_ratio  pbv_ratio  \\\n",
       "0               1.45                2.81     35.53      47.26   \n",
       "1               0.00               -1.55    -64.44       1.36   \n",
       "2               0.74                1.68     59.44       45.2   \n",
       "3               0.19                2.53     39.45      14.18   \n",
       "4               1.62               20.38      4.91       0.82   \n",
       "\n",
       "  market_capitalization_mkmn profit_after_tax_mkmn  num_shares_issue  \\\n",
       "0                    1517780              42722.11      1.100000e+10   \n",
       "1                   88291.39              -1370.11      5.878255e+09   \n",
       "2                 4402374.87              74063.00      6.901031e+09   \n",
       "3                 4665733.92             118254.74      2.458250e+09   \n",
       "4                   119839.2              24424.49      6.680000e+09   \n",
       "\n",
       "   trade_date print_time                      name  \n",
       "0   9/19/2025   14:37:47         AIRTEL MALAWI PLC  \n",
       "1   9/19/2025   14:37:47       BLANTYRE HOTELS PLC  \n",
       "2   9/19/2025   14:37:47              FDH BANK PLC  \n",
       "3   9/19/2025   14:37:47  FMB CAPITAL HOLDINGS PLC  \n",
       "4   9/19/2025   14:37:47       ICON PROPERTIES PLC  \n",
       "\n",
       "[5 rows x 21 columns]"
      ]
     },
     "execution_count": 5,
     "metadata": {},
     "output_type": "execute_result"
    }
   ],
   "source": [
    "df=pd.read_csv(r\"C:\\Users\\Geoffrey-RISA\\Documents\\GitHub\\AIMS-DSCBI-WEEK-3\\mse-api-assignment-Geo\\data\\master_csv\\master_csv.csv\")\n",
    "df.head()"
   ]
  },
  {
   "cell_type": "code",
   "execution_count": 6,
   "id": "396155ff",
   "metadata": {},
   "outputs": [
    {
     "name": "stdout",
     "output_type": "stream",
     "text": [
      "<class 'pandas.core.frame.DataFrame'>\n",
      "RangeIndex: 26810 entries, 0 to 26809\n",
      "Data columns (total 21 columns):\n",
      " #   Column                      Non-Null Count  Dtype  \n",
      "---  ------                      --------------  -----  \n",
      " 0   Unnamed: 0                  26810 non-null  int64  \n",
      " 1   counter_id                  26810 non-null  object \n",
      " 2   daily_range_high            11207 non-null  float64\n",
      " 3   daily_range_low             11207 non-null  float64\n",
      " 4   ticker                      26810 non-null  object \n",
      " 5   buy_price                   25014 non-null  object \n",
      " 6   sell_price                  25217 non-null  object \n",
      " 7   previous_closing_price      26809 non-null  float64\n",
      " 8   today_closing_price         25151 non-null  float64\n",
      " 9   volume_traded               25147 non-null  float64\n",
      " 10  dividend_mk                 26608 non-null  object \n",
      " 11  dividend_yield_pct          26609 non-null  float64\n",
      " 12  earnings_yield_pct          26449 non-null  float64\n",
      " 13  pe_ratio                    26449 non-null  float64\n",
      " 14  pbv_ratio                   26796 non-null  object \n",
      " 15  market_capitalization_mkmn  26809 non-null  object \n",
      " 16  profit_after_tax_mkmn       26809 non-null  float64\n",
      " 17  num_shares_issue            26780 non-null  float64\n",
      " 18  trade_date                  26810 non-null  object \n",
      " 19  print_time                  25560 non-null  object \n",
      " 20  name                        26810 non-null  object \n",
      "dtypes: float64(10), int64(1), object(10)\n",
      "memory usage: 4.3+ MB\n"
     ]
    }
   ],
   "source": [
    "df.info()"
   ]
  },
  {
   "cell_type": "code",
   "execution_count": 7,
   "id": "2e053055",
   "metadata": {},
   "outputs": [
    {
     "data": {
      "text/plain": [
       "array(['AIRTEL', 'BHL', 'FDHB', 'FMBCH', 'ICON', 'ILLOVO', 'MPICO', 'NBM',\n",
       "       'NBS', 'NICO', 'NITL', 'OMU', 'PCL', 'STANDARD', 'SUNBIRD', 'TNM',\n",
       "       'OML', 'MPICO CD', 'NBM CD', 'NICO CD', 'PCL CD', 'Standard CD',\n",
       "       'Sunbird CD', 'TNM CD', 'MPICO TS', 'BHL CD', 'BHL XD', 'NITL XD',\n",
       "       'NITL CD', 'NBS TS', 'NICO TS', 'Sunbird', 'PCL TS', 'Sunbird H',\n",
       "       'SUNBIRD H', 'StandardCD', 'SUNBIRDCD', 'NITL TS', 'SUNBIRD TS',\n",
       "       'TNM TS', 'NBM XD', 'StandardTS', 'TNM TS XD', 'TNM TS CD',\n",
       "       'FMB CA', 'Sunbird XD', 'PCL XD', 'MPICO XD', 'NICO XD',\n",
       "       'Standard XD', 'TNM XD', 'FMBTS CA XD', 'Sunbird TS',\n",
       "       'FMBTS CA CD', 'SunbirdXD TS', 'SunbirdCD TS', 'NBS-LA*'],\n",
       "      dtype=object)"
      ]
     },
     "execution_count": 7,
     "metadata": {},
     "output_type": "execute_result"
    }
   ],
   "source": [
    "df['ticker'].unique()"
   ]
  },
  {
   "cell_type": "code",
   "execution_count": 8,
   "id": "987550fb",
   "metadata": {},
   "outputs": [],
   "source": [
    "companies={'AIRTEL':'Airtel Malawi plc', \n",
    "       'BHL':'Blantyre Hotels Plc', \n",
    "       'FDHB':'FDH Bank plc', \n",
    "       'FMBCH':'FMB Capital Holdings plc', \n",
    "       'ICON':'ICON Properties plc',\n",
    "       'ILLOVO':'Illovo Sugar Malawi plc', \n",
    "       'MPICO':'Malawi Property Investment Company plc',\n",
    "       'NBM':'National Bank of Malawi',\n",
    "       'NBS':'NBS Bank plc', \n",
    "       'NICO':'NICO Holdings plc',\n",
    "       'NITL':'National Investment Trust Plc',\n",
    "       'OMU':'Old Mutual Limited', \n",
    "       'PCL':'Press Corporation plc', \n",
    "       'STANDARD':'Standard Bank Malawi plc',\n",
    "       'SUNBIRD':'Sunbird Tourism plc',\n",
    "       'TNM':'Telekom Networks Malawi plc',\n",
    "       'OML':'Old Mutual Limited', \n",
    "       'MPICO CD':'Malawi Property Investment Company plc',\n",
    "       'NBM CD':'National Bank of Malawi', \n",
    "       'NICO CD':'NICO Holdings plc', \n",
    "       'PCL CD':'Press Corporation plc',\n",
    "       'Standard CD':'Standard Bank Malawi plc',\n",
    "       'Sunbird CD':'Sunbird Tourism plc',\n",
    "       'TNM CD':'Telekom Networks Malawi plc', \n",
    "       'MPICO TS':'Malawi Property Investment Company plc', \n",
    "       'BHL CD':'Blantyre Hotels Plc',\n",
    "       'BHL XD':'Blantyre Hotels Plc', \n",
    "       'NITL XD':'National Investment Trust Plc',\n",
    "       'NITL CD':'National Investment Trust Plc',\n",
    "       'NBS TS':'NBS Bank plc', \n",
    "       'NICO TS':'NICO Holdings plc', \n",
    "       'Sunbird':'Sunbird Tourism plc',\n",
    "       'PCL TS':'Press Corporation plc',\n",
    "       'Sunbird H':'Sunbird Tourism plc',\n",
    "       'SUNBIRD H':'Sunbird Tourism plc',\n",
    "       'StandardCD':'Standard Bank Malawi plc', \n",
    "       'SUNBIRDCD':'Sunbird Tourism plc', \n",
    "       'NITL TS':'National Investment Trust Plc',\n",
    "       'SUNBIRD TS':'Sunbird Tourism plc',\n",
    "       'TNM TS':'Telekom Networks Malawi plc',\n",
    "       'NBM XD':'National Bank of Malawi',\n",
    "       'StandardTS':'Standard Bank Malawi plc',\n",
    "       'TNM TS XD':'Telekom Networks Malawi plc', \n",
    "       'TNM TS CD':'Telekom Networks Malawi plc',\n",
    "       'FMB CA':'FMB Capital Holdings plc', \n",
    "       'Sunbird XD':'Sunbird Tourism plc',\n",
    "       'PCL XD':'Press Corporation plc',\n",
    "       'MPICO XD':'Malawi Property Investment Company plc',\n",
    "       'NICO XD':'NICO Holdings plc',\n",
    "       'Standard XD':'Standard Bank Malawi plc',\n",
    "       'TNM XD':'Telekom Networks Malawi plc',\n",
    "       'FMBTS CA XD':'FMB Capital Holdings plc', \n",
    "       'Sunbird TS':'Sunbird Tourism plc',\n",
    "       'FMBTS CA CD':'FMB Capital Holdings plc', \n",
    "       'SunbirdXD TS':'Sunbird Tourism plc',\n",
    "       'SunbirdCD TS':'Sunbird Tourism plc',\n",
    "       'NBS-LA*':'NBS Bank plc'}"
   ]
  },
  {
   "cell_type": "code",
   "execution_count": 9,
   "id": "2b983fed",
   "metadata": {},
   "outputs": [
    {
     "data": {
      "application/vnd.microsoft.datawrangler.viewer.v0+json": {
       "columns": [
        {
         "name": "index",
         "rawType": "int64",
         "type": "integer"
        },
        {
         "name": "Unnamed: 0",
         "rawType": "int64",
         "type": "integer"
        },
        {
         "name": "counter_id",
         "rawType": "object",
         "type": "string"
        },
        {
         "name": "daily_range_high",
         "rawType": "float64",
         "type": "float"
        },
        {
         "name": "daily_range_low",
         "rawType": "float64",
         "type": "float"
        },
        {
         "name": "ticker",
         "rawType": "object",
         "type": "string"
        },
        {
         "name": "buy_price",
         "rawType": "object",
         "type": "string"
        },
        {
         "name": "sell_price",
         "rawType": "object",
         "type": "string"
        },
        {
         "name": "previous_closing_price",
         "rawType": "float64",
         "type": "float"
        },
        {
         "name": "today_closing_price",
         "rawType": "float64",
         "type": "float"
        },
        {
         "name": "volume_traded",
         "rawType": "float64",
         "type": "float"
        },
        {
         "name": "dividend_mk",
         "rawType": "object",
         "type": "string"
        },
        {
         "name": "dividend_yield_pct",
         "rawType": "float64",
         "type": "float"
        },
        {
         "name": "earnings_yield_pct",
         "rawType": "float64",
         "type": "float"
        },
        {
         "name": "pe_ratio",
         "rawType": "float64",
         "type": "float"
        },
        {
         "name": "pbv_ratio",
         "rawType": "object",
         "type": "string"
        },
        {
         "name": "market_capitalization_mkmn",
         "rawType": "object",
         "type": "string"
        },
        {
         "name": "profit_after_tax_mkmn",
         "rawType": "float64",
         "type": "float"
        },
        {
         "name": "num_shares_issue",
         "rawType": "float64",
         "type": "float"
        },
        {
         "name": "trade_date",
         "rawType": "object",
         "type": "string"
        },
        {
         "name": "print_time",
         "rawType": "object",
         "type": "string"
        },
        {
         "name": "name",
         "rawType": "object",
         "type": "string"
        }
       ],
       "ref": "276a7852-3a8e-4770-82e5-a54beec9ae12",
       "rows": [
        [
         "0",
         "0",
         "1",
         "138.97",
         "137.94",
         "AIRTEL",
         "0",
         "137.96",
         "138.54",
         "137.98",
         "79004.0",
         "2",
         "1.45",
         "2.81",
         "35.53",
         "47.26",
         "1517780",
         "42722.11",
         "11000000000.0",
         "9/19/2025",
         "14:37:47",
         "AIRTEL MALAWI PLC"
        ],
        [
         "1",
         "1",
         "2",
         "15.02",
         "15.02",
         "BHL",
         "15.02",
         "0",
         "15.02",
         "15.02",
         "7042.0",
         "0",
         "0.0",
         "-1.55",
         "-64.44",
         "1.36",
         "88291.39",
         "-1370.11",
         "5878254935.0",
         "9/19/2025",
         "14:37:47",
         "BLANTYRE HOTELS PLC"
        ],
        [
         "2",
         "2",
         "3",
         "637.95",
         "637.91",
         "FDHB",
         "635",
         "637.92",
         "637.95",
         "637.93",
         "101411.0",
         "4.73",
         "0.74",
         "1.68",
         "59.44",
         "45.2",
         "4402374.87",
         "74063.0",
         "6901031250.0",
         "9/19/2025",
         "14:37:47",
         "FDH BANK PLC"
        ],
        [
         "3",
         "3",
         "4",
         "1897.99",
         "1897.99",
         "FMBCH",
         "1897.99",
         "0",
         "1897.99",
         "1897.99",
         "15133.0",
         "3.64",
         "0.19",
         "2.53",
         "39.45",
         "14.18",
         "4665733.92",
         "118254.74",
         "2458250000.0",
         "9/19/2025",
         "14:37:47",
         "FMB CAPITAL HOLDINGS PLC"
        ],
        [
         "4",
         "4",
         "5",
         "17.94",
         "17.94",
         "ICON",
         "0",
         "17.94",
         "17.94",
         "17.94",
         "18168.0",
         "0.29",
         "1.62",
         "20.38",
         "4.91",
         "0.82",
         "119839.2",
         "24424.49",
         "6680000000.0",
         "9/19/2025",
         "14:37:47",
         "ICON PROPERTIES PLC"
        ]
       ],
       "shape": {
        "columns": 21,
        "rows": 5
       }
      },
      "text/html": [
       "<div>\n",
       "<style scoped>\n",
       "    .dataframe tbody tr th:only-of-type {\n",
       "        vertical-align: middle;\n",
       "    }\n",
       "\n",
       "    .dataframe tbody tr th {\n",
       "        vertical-align: top;\n",
       "    }\n",
       "\n",
       "    .dataframe thead th {\n",
       "        text-align: right;\n",
       "    }\n",
       "</style>\n",
       "<table border=\"1\" class=\"dataframe\">\n",
       "  <thead>\n",
       "    <tr style=\"text-align: right;\">\n",
       "      <th></th>\n",
       "      <th>Unnamed: 0</th>\n",
       "      <th>counter_id</th>\n",
       "      <th>daily_range_high</th>\n",
       "      <th>daily_range_low</th>\n",
       "      <th>ticker</th>\n",
       "      <th>buy_price</th>\n",
       "      <th>sell_price</th>\n",
       "      <th>previous_closing_price</th>\n",
       "      <th>today_closing_price</th>\n",
       "      <th>volume_traded</th>\n",
       "      <th>...</th>\n",
       "      <th>dividend_yield_pct</th>\n",
       "      <th>earnings_yield_pct</th>\n",
       "      <th>pe_ratio</th>\n",
       "      <th>pbv_ratio</th>\n",
       "      <th>market_capitalization_mkmn</th>\n",
       "      <th>profit_after_tax_mkmn</th>\n",
       "      <th>num_shares_issue</th>\n",
       "      <th>trade_date</th>\n",
       "      <th>print_time</th>\n",
       "      <th>name</th>\n",
       "    </tr>\n",
       "  </thead>\n",
       "  <tbody>\n",
       "    <tr>\n",
       "      <th>0</th>\n",
       "      <td>0</td>\n",
       "      <td>1</td>\n",
       "      <td>138.97</td>\n",
       "      <td>137.94</td>\n",
       "      <td>AIRTEL</td>\n",
       "      <td>0</td>\n",
       "      <td>137.96</td>\n",
       "      <td>138.54</td>\n",
       "      <td>137.98</td>\n",
       "      <td>79004.0</td>\n",
       "      <td>...</td>\n",
       "      <td>1.45</td>\n",
       "      <td>2.81</td>\n",
       "      <td>35.53</td>\n",
       "      <td>47.26</td>\n",
       "      <td>1517780</td>\n",
       "      <td>42722.11</td>\n",
       "      <td>1.100000e+10</td>\n",
       "      <td>9/19/2025</td>\n",
       "      <td>14:37:47</td>\n",
       "      <td>AIRTEL MALAWI PLC</td>\n",
       "    </tr>\n",
       "    <tr>\n",
       "      <th>1</th>\n",
       "      <td>1</td>\n",
       "      <td>2</td>\n",
       "      <td>15.02</td>\n",
       "      <td>15.02</td>\n",
       "      <td>BHL</td>\n",
       "      <td>15.02</td>\n",
       "      <td>0</td>\n",
       "      <td>15.02</td>\n",
       "      <td>15.02</td>\n",
       "      <td>7042.0</td>\n",
       "      <td>...</td>\n",
       "      <td>0.00</td>\n",
       "      <td>-1.55</td>\n",
       "      <td>-64.44</td>\n",
       "      <td>1.36</td>\n",
       "      <td>88291.39</td>\n",
       "      <td>-1370.11</td>\n",
       "      <td>5.878255e+09</td>\n",
       "      <td>9/19/2025</td>\n",
       "      <td>14:37:47</td>\n",
       "      <td>BLANTYRE HOTELS PLC</td>\n",
       "    </tr>\n",
       "    <tr>\n",
       "      <th>2</th>\n",
       "      <td>2</td>\n",
       "      <td>3</td>\n",
       "      <td>637.95</td>\n",
       "      <td>637.91</td>\n",
       "      <td>FDHB</td>\n",
       "      <td>635</td>\n",
       "      <td>637.92</td>\n",
       "      <td>637.95</td>\n",
       "      <td>637.93</td>\n",
       "      <td>101411.0</td>\n",
       "      <td>...</td>\n",
       "      <td>0.74</td>\n",
       "      <td>1.68</td>\n",
       "      <td>59.44</td>\n",
       "      <td>45.2</td>\n",
       "      <td>4402374.87</td>\n",
       "      <td>74063.00</td>\n",
       "      <td>6.901031e+09</td>\n",
       "      <td>9/19/2025</td>\n",
       "      <td>14:37:47</td>\n",
       "      <td>FDH BANK PLC</td>\n",
       "    </tr>\n",
       "    <tr>\n",
       "      <th>3</th>\n",
       "      <td>3</td>\n",
       "      <td>4</td>\n",
       "      <td>1897.99</td>\n",
       "      <td>1897.99</td>\n",
       "      <td>FMBCH</td>\n",
       "      <td>1897.99</td>\n",
       "      <td>0</td>\n",
       "      <td>1897.99</td>\n",
       "      <td>1897.99</td>\n",
       "      <td>15133.0</td>\n",
       "      <td>...</td>\n",
       "      <td>0.19</td>\n",
       "      <td>2.53</td>\n",
       "      <td>39.45</td>\n",
       "      <td>14.18</td>\n",
       "      <td>4665733.92</td>\n",
       "      <td>118254.74</td>\n",
       "      <td>2.458250e+09</td>\n",
       "      <td>9/19/2025</td>\n",
       "      <td>14:37:47</td>\n",
       "      <td>FMB CAPITAL HOLDINGS PLC</td>\n",
       "    </tr>\n",
       "    <tr>\n",
       "      <th>4</th>\n",
       "      <td>4</td>\n",
       "      <td>5</td>\n",
       "      <td>17.94</td>\n",
       "      <td>17.94</td>\n",
       "      <td>ICON</td>\n",
       "      <td>0</td>\n",
       "      <td>17.94</td>\n",
       "      <td>17.94</td>\n",
       "      <td>17.94</td>\n",
       "      <td>18168.0</td>\n",
       "      <td>...</td>\n",
       "      <td>1.62</td>\n",
       "      <td>20.38</td>\n",
       "      <td>4.91</td>\n",
       "      <td>0.82</td>\n",
       "      <td>119839.2</td>\n",
       "      <td>24424.49</td>\n",
       "      <td>6.680000e+09</td>\n",
       "      <td>9/19/2025</td>\n",
       "      <td>14:37:47</td>\n",
       "      <td>ICON PROPERTIES PLC</td>\n",
       "    </tr>\n",
       "  </tbody>\n",
       "</table>\n",
       "<p>5 rows × 21 columns</p>\n",
       "</div>"
      ],
      "text/plain": [
       "   Unnamed: 0 counter_id  daily_range_high  daily_range_low  ticker buy_price  \\\n",
       "0           0          1            138.97           137.94  AIRTEL         0   \n",
       "1           1          2             15.02            15.02     BHL     15.02   \n",
       "2           2          3            637.95           637.91    FDHB       635   \n",
       "3           3          4           1897.99          1897.99   FMBCH   1897.99   \n",
       "4           4          5             17.94            17.94    ICON         0   \n",
       "\n",
       "  sell_price  previous_closing_price  today_closing_price  volume_traded  ...  \\\n",
       "0     137.96                  138.54               137.98        79004.0  ...   \n",
       "1          0                   15.02                15.02         7042.0  ...   \n",
       "2     637.92                  637.95               637.93       101411.0  ...   \n",
       "3          0                 1897.99              1897.99        15133.0  ...   \n",
       "4      17.94                   17.94                17.94        18168.0  ...   \n",
       "\n",
       "  dividend_yield_pct  earnings_yield_pct  pe_ratio  pbv_ratio  \\\n",
       "0               1.45                2.81     35.53      47.26   \n",
       "1               0.00               -1.55    -64.44       1.36   \n",
       "2               0.74                1.68     59.44       45.2   \n",
       "3               0.19                2.53     39.45      14.18   \n",
       "4               1.62               20.38      4.91       0.82   \n",
       "\n",
       "  market_capitalization_mkmn profit_after_tax_mkmn  num_shares_issue  \\\n",
       "0                    1517780              42722.11      1.100000e+10   \n",
       "1                   88291.39              -1370.11      5.878255e+09   \n",
       "2                 4402374.87              74063.00      6.901031e+09   \n",
       "3                 4665733.92             118254.74      2.458250e+09   \n",
       "4                   119839.2              24424.49      6.680000e+09   \n",
       "\n",
       "   trade_date print_time                      name  \n",
       "0   9/19/2025   14:37:47         AIRTEL MALAWI PLC  \n",
       "1   9/19/2025   14:37:47       BLANTYRE HOTELS PLC  \n",
       "2   9/19/2025   14:37:47              FDH BANK PLC  \n",
       "3   9/19/2025   14:37:47  FMB CAPITAL HOLDINGS PLC  \n",
       "4   9/19/2025   14:37:47       ICON PROPERTIES PLC  \n",
       "\n",
       "[5 rows x 21 columns]"
      ]
     },
     "execution_count": 9,
     "metadata": {},
     "output_type": "execute_result"
    }
   ],
   "source": [
    "def company(row):\n",
    "    return companies[row['ticker']].upper()\n",
    "df['name']=df.apply(company,axis=1)\n",
    "df = df.rename(columns={\"ticker\": \"ticker\"})\n",
    "df.head()"
   ]
  },
  {
   "cell_type": "code",
   "execution_count": 24,
   "id": "9dd3f983",
   "metadata": {},
   "outputs": [],
   "source": [
    "df_prices=df.copy()\n"
   ]
  },
  {
   "cell_type": "code",
   "execution_count": 11,
   "id": "5c2810b4",
   "metadata": {},
   "outputs": [
    {
     "data": {
      "application/vnd.microsoft.datawrangler.viewer.v0+json": {
       "columns": [
        {
         "name": "index",
         "rawType": "int64",
         "type": "integer"
        },
        {
         "name": "Company Name",
         "rawType": "object",
         "type": "string"
        },
        {
         "name": "Symbol",
         "rawType": "object",
         "type": "string"
        },
        {
         "name": "ISIN",
         "rawType": "object",
         "type": "string"
        },
        {
         "name": "Listing Price",
         "rawType": "float64",
         "type": "float"
        },
        {
         "name": "Date Listed",
         "rawType": "object",
         "type": "string"
        }
       ],
       "ref": "fa0e0abd-d925-46a8-b7cb-ca847e837af2",
       "rows": [
        [
         "0",
         "AIRTEL MALAWI PLC",
         "AIRTEL",
         "MWAIRT001156",
         "12.69",
         "24-Feb-20"
        ],
        [
         "1",
         "BLANTYRE HOTELS PLC",
         "BHL",
         "MWBHL0010029",
         "0.84",
         "25-Mar-97"
        ],
        [
         "2",
         "FDH BANK PLC",
         "FDHB",
         "MWFDHB001166",
         "10.0",
         "3-Aug-20"
        ],
        [
         "3",
         "FMB CAPITAL HOLDINGS PLC",
         "FMBCH",
         "MWFMB0010138",
         "45.01",
         "18-Sep-17"
        ],
        [
         "4",
         "ICON PROPERTIES PLC",
         "ICON",
         "MWICON001146",
         "8.75",
         "21-Jan-19"
        ]
       ],
       "shape": {
        "columns": 5,
        "rows": 5
       }
      },
      "text/html": [
       "<div>\n",
       "<style scoped>\n",
       "    .dataframe tbody tr th:only-of-type {\n",
       "        vertical-align: middle;\n",
       "    }\n",
       "\n",
       "    .dataframe tbody tr th {\n",
       "        vertical-align: top;\n",
       "    }\n",
       "\n",
       "    .dataframe thead th {\n",
       "        text-align: right;\n",
       "    }\n",
       "</style>\n",
       "<table border=\"1\" class=\"dataframe\">\n",
       "  <thead>\n",
       "    <tr style=\"text-align: right;\">\n",
       "      <th></th>\n",
       "      <th>Company Name</th>\n",
       "      <th>Symbol</th>\n",
       "      <th>ISIN</th>\n",
       "      <th>Listing Price</th>\n",
       "      <th>Date Listed</th>\n",
       "    </tr>\n",
       "  </thead>\n",
       "  <tbody>\n",
       "    <tr>\n",
       "      <th>0</th>\n",
       "      <td>AIRTEL MALAWI PLC</td>\n",
       "      <td>AIRTEL</td>\n",
       "      <td>MWAIRT001156</td>\n",
       "      <td>12.69</td>\n",
       "      <td>24-Feb-20</td>\n",
       "    </tr>\n",
       "    <tr>\n",
       "      <th>1</th>\n",
       "      <td>BLANTYRE HOTELS PLC</td>\n",
       "      <td>BHL</td>\n",
       "      <td>MWBHL0010029</td>\n",
       "      <td>0.84</td>\n",
       "      <td>25-Mar-97</td>\n",
       "    </tr>\n",
       "    <tr>\n",
       "      <th>2</th>\n",
       "      <td>FDH BANK PLC</td>\n",
       "      <td>FDHB</td>\n",
       "      <td>MWFDHB001166</td>\n",
       "      <td>10.00</td>\n",
       "      <td>3-Aug-20</td>\n",
       "    </tr>\n",
       "    <tr>\n",
       "      <th>3</th>\n",
       "      <td>FMB CAPITAL HOLDINGS PLC</td>\n",
       "      <td>FMBCH</td>\n",
       "      <td>MWFMB0010138</td>\n",
       "      <td>45.01</td>\n",
       "      <td>18-Sep-17</td>\n",
       "    </tr>\n",
       "    <tr>\n",
       "      <th>4</th>\n",
       "      <td>ICON PROPERTIES PLC</td>\n",
       "      <td>ICON</td>\n",
       "      <td>MWICON001146</td>\n",
       "      <td>8.75</td>\n",
       "      <td>21-Jan-19</td>\n",
       "    </tr>\n",
       "  </tbody>\n",
       "</table>\n",
       "</div>"
      ],
      "text/plain": [
       "               Company Name  Symbol          ISIN  Listing Price Date Listed\n",
       "0         AIRTEL MALAWI PLC  AIRTEL  MWAIRT001156          12.69   24-Feb-20\n",
       "1       BLANTYRE HOTELS PLC     BHL  MWBHL0010029           0.84   25-Mar-97\n",
       "2              FDH BANK PLC    FDHB  MWFDHB001166          10.00    3-Aug-20\n",
       "3  FMB CAPITAL HOLDINGS PLC   FMBCH  MWFMB0010138          45.01   18-Sep-17\n",
       "4       ICON PROPERTIES PLC    ICON  MWICON001146           8.75   21-Jan-19"
      ]
     },
     "execution_count": 11,
     "metadata": {},
     "output_type": "execute_result"
    }
   ],
   "source": [
    "df=pd.read_csv(r\"C:\\Users\\Geoffrey-RISA\\Documents\\GitHub\\AIMS-DSCBI-WEEK-3\\mse-api-assignment-Geo\\data\\master_csv\\site_data.csv\")\n",
    "df.head()"
   ]
  },
  {
   "cell_type": "code",
   "execution_count": 12,
   "id": "56f2d6c4",
   "metadata": {},
   "outputs": [
    {
     "data": {
      "application/vnd.microsoft.datawrangler.viewer.v0+json": {
       "columns": [
        {
         "name": "index",
         "rawType": "int64",
         "type": "integer"
        },
        {
         "name": "Unnamed: 0",
         "rawType": "int64",
         "type": "integer"
        },
        {
         "name": "counter_id",
         "rawType": "object",
         "type": "string"
        },
        {
         "name": "daily_range_high",
         "rawType": "float64",
         "type": "float"
        },
        {
         "name": "daily_range_low",
         "rawType": "float64",
         "type": "float"
        },
        {
         "name": "ticker",
         "rawType": "object",
         "type": "string"
        },
        {
         "name": "buy_price",
         "rawType": "object",
         "type": "string"
        },
        {
         "name": "sell_price",
         "rawType": "object",
         "type": "string"
        },
        {
         "name": "previous_closing_price",
         "rawType": "float64",
         "type": "float"
        },
        {
         "name": "today_closing_price",
         "rawType": "float64",
         "type": "float"
        },
        {
         "name": "volume_traded",
         "rawType": "float64",
         "type": "float"
        },
        {
         "name": "dividend_mk",
         "rawType": "object",
         "type": "string"
        },
        {
         "name": "dividend_yield_pct",
         "rawType": "float64",
         "type": "float"
        },
        {
         "name": "earnings_yield_pct",
         "rawType": "float64",
         "type": "float"
        },
        {
         "name": "pe_ratio",
         "rawType": "float64",
         "type": "float"
        },
        {
         "name": "pbv_ratio",
         "rawType": "object",
         "type": "string"
        },
        {
         "name": "market_capitalization_mkmn",
         "rawType": "object",
         "type": "string"
        },
        {
         "name": "profit_after_tax_mkmn",
         "rawType": "float64",
         "type": "float"
        },
        {
         "name": "num_shares_issue",
         "rawType": "float64",
         "type": "float"
        },
        {
         "name": "trade_date",
         "rawType": "object",
         "type": "string"
        },
        {
         "name": "print_time",
         "rawType": "object",
         "type": "string"
        },
        {
         "name": "name",
         "rawType": "object",
         "type": "string"
        },
        {
         "name": "open_mwk",
         "rawType": "float64",
         "type": "float"
        }
       ],
       "ref": "b23f7e21-0f3e-4a66-abea-2259c5689e58",
       "rows": [
        [
         "0",
         "0",
         "MWAIRT001156",
         "138.97",
         "137.94",
         "AIRTEL",
         "0",
         "137.96",
         "138.54",
         "137.98",
         "79004.0",
         "2",
         "1.45",
         "2.81",
         "35.53",
         "47.26",
         "1517780",
         "42722.11",
         "11000000000.0",
         "9/19/2025",
         "14:37:47",
         "AIRTEL MALAWI PLC",
         "12.69"
        ],
        [
         "1",
         "1",
         "MWBHL0010029",
         "15.02",
         "15.02",
         "BHL",
         "15.02",
         "0",
         "15.02",
         "15.02",
         "7042.0",
         "0",
         "0.0",
         "-1.55",
         "-64.44",
         "1.36",
         "88291.39",
         "-1370.11",
         "5878254935.0",
         "9/19/2025",
         "14:37:47",
         "BLANTYRE HOTELS PLC",
         "0.84"
        ],
        [
         "2",
         "2",
         "MWFDHB001166",
         "637.95",
         "637.91",
         "FDHB",
         "635",
         "637.92",
         "637.95",
         "637.93",
         "101411.0",
         "4.73",
         "0.74",
         "1.68",
         "59.44",
         "45.2",
         "4402374.87",
         "74063.0",
         "6901031250.0",
         "9/19/2025",
         "14:37:47",
         "FDH BANK PLC",
         "10.0"
        ],
        [
         "3",
         "3",
         "MWFMB0010138",
         "1897.99",
         "1897.99",
         "FMBCH",
         "1897.99",
         "0",
         "1897.99",
         "1897.99",
         "15133.0",
         "3.64",
         "0.19",
         "2.53",
         "39.45",
         "14.18",
         "4665733.92",
         "118254.74",
         "2458250000.0",
         "9/19/2025",
         "14:37:47",
         "FMB CAPITAL HOLDINGS PLC",
         "45.01"
        ],
        [
         "4",
         "4",
         "MWICON001146",
         "17.94",
         "17.94",
         "ICON",
         "0",
         "17.94",
         "17.94",
         "17.94",
         "18168.0",
         "0.29",
         "1.62",
         "20.38",
         "4.91",
         "0.82",
         "119839.2",
         "24424.49",
         "6680000000.0",
         "9/19/2025",
         "14:37:47",
         "ICON PROPERTIES PLC",
         "8.75"
        ]
       ],
       "shape": {
        "columns": 22,
        "rows": 5
       }
      },
      "text/html": [
       "<div>\n",
       "<style scoped>\n",
       "    .dataframe tbody tr th:only-of-type {\n",
       "        vertical-align: middle;\n",
       "    }\n",
       "\n",
       "    .dataframe tbody tr th {\n",
       "        vertical-align: top;\n",
       "    }\n",
       "\n",
       "    .dataframe thead th {\n",
       "        text-align: right;\n",
       "    }\n",
       "</style>\n",
       "<table border=\"1\" class=\"dataframe\">\n",
       "  <thead>\n",
       "    <tr style=\"text-align: right;\">\n",
       "      <th></th>\n",
       "      <th>Unnamed: 0</th>\n",
       "      <th>counter_id</th>\n",
       "      <th>daily_range_high</th>\n",
       "      <th>daily_range_low</th>\n",
       "      <th>ticker</th>\n",
       "      <th>buy_price</th>\n",
       "      <th>sell_price</th>\n",
       "      <th>previous_closing_price</th>\n",
       "      <th>today_closing_price</th>\n",
       "      <th>volume_traded</th>\n",
       "      <th>...</th>\n",
       "      <th>earnings_yield_pct</th>\n",
       "      <th>pe_ratio</th>\n",
       "      <th>pbv_ratio</th>\n",
       "      <th>market_capitalization_mkmn</th>\n",
       "      <th>profit_after_tax_mkmn</th>\n",
       "      <th>num_shares_issue</th>\n",
       "      <th>trade_date</th>\n",
       "      <th>print_time</th>\n",
       "      <th>name</th>\n",
       "      <th>open_mwk</th>\n",
       "    </tr>\n",
       "  </thead>\n",
       "  <tbody>\n",
       "    <tr>\n",
       "      <th>0</th>\n",
       "      <td>0</td>\n",
       "      <td>MWAIRT001156</td>\n",
       "      <td>138.97</td>\n",
       "      <td>137.94</td>\n",
       "      <td>AIRTEL</td>\n",
       "      <td>0</td>\n",
       "      <td>137.96</td>\n",
       "      <td>138.54</td>\n",
       "      <td>137.98</td>\n",
       "      <td>79004.0</td>\n",
       "      <td>...</td>\n",
       "      <td>2.81</td>\n",
       "      <td>35.53</td>\n",
       "      <td>47.26</td>\n",
       "      <td>1517780</td>\n",
       "      <td>42722.11</td>\n",
       "      <td>1.100000e+10</td>\n",
       "      <td>9/19/2025</td>\n",
       "      <td>14:37:47</td>\n",
       "      <td>AIRTEL MALAWI PLC</td>\n",
       "      <td>12.69</td>\n",
       "    </tr>\n",
       "    <tr>\n",
       "      <th>1</th>\n",
       "      <td>1</td>\n",
       "      <td>MWBHL0010029</td>\n",
       "      <td>15.02</td>\n",
       "      <td>15.02</td>\n",
       "      <td>BHL</td>\n",
       "      <td>15.02</td>\n",
       "      <td>0</td>\n",
       "      <td>15.02</td>\n",
       "      <td>15.02</td>\n",
       "      <td>7042.0</td>\n",
       "      <td>...</td>\n",
       "      <td>-1.55</td>\n",
       "      <td>-64.44</td>\n",
       "      <td>1.36</td>\n",
       "      <td>88291.39</td>\n",
       "      <td>-1370.11</td>\n",
       "      <td>5.878255e+09</td>\n",
       "      <td>9/19/2025</td>\n",
       "      <td>14:37:47</td>\n",
       "      <td>BLANTYRE HOTELS PLC</td>\n",
       "      <td>0.84</td>\n",
       "    </tr>\n",
       "    <tr>\n",
       "      <th>2</th>\n",
       "      <td>2</td>\n",
       "      <td>MWFDHB001166</td>\n",
       "      <td>637.95</td>\n",
       "      <td>637.91</td>\n",
       "      <td>FDHB</td>\n",
       "      <td>635</td>\n",
       "      <td>637.92</td>\n",
       "      <td>637.95</td>\n",
       "      <td>637.93</td>\n",
       "      <td>101411.0</td>\n",
       "      <td>...</td>\n",
       "      <td>1.68</td>\n",
       "      <td>59.44</td>\n",
       "      <td>45.2</td>\n",
       "      <td>4402374.87</td>\n",
       "      <td>74063.00</td>\n",
       "      <td>6.901031e+09</td>\n",
       "      <td>9/19/2025</td>\n",
       "      <td>14:37:47</td>\n",
       "      <td>FDH BANK PLC</td>\n",
       "      <td>10.00</td>\n",
       "    </tr>\n",
       "    <tr>\n",
       "      <th>3</th>\n",
       "      <td>3</td>\n",
       "      <td>MWFMB0010138</td>\n",
       "      <td>1897.99</td>\n",
       "      <td>1897.99</td>\n",
       "      <td>FMBCH</td>\n",
       "      <td>1897.99</td>\n",
       "      <td>0</td>\n",
       "      <td>1897.99</td>\n",
       "      <td>1897.99</td>\n",
       "      <td>15133.0</td>\n",
       "      <td>...</td>\n",
       "      <td>2.53</td>\n",
       "      <td>39.45</td>\n",
       "      <td>14.18</td>\n",
       "      <td>4665733.92</td>\n",
       "      <td>118254.74</td>\n",
       "      <td>2.458250e+09</td>\n",
       "      <td>9/19/2025</td>\n",
       "      <td>14:37:47</td>\n",
       "      <td>FMB CAPITAL HOLDINGS PLC</td>\n",
       "      <td>45.01</td>\n",
       "    </tr>\n",
       "    <tr>\n",
       "      <th>4</th>\n",
       "      <td>4</td>\n",
       "      <td>MWICON001146</td>\n",
       "      <td>17.94</td>\n",
       "      <td>17.94</td>\n",
       "      <td>ICON</td>\n",
       "      <td>0</td>\n",
       "      <td>17.94</td>\n",
       "      <td>17.94</td>\n",
       "      <td>17.94</td>\n",
       "      <td>18168.0</td>\n",
       "      <td>...</td>\n",
       "      <td>20.38</td>\n",
       "      <td>4.91</td>\n",
       "      <td>0.82</td>\n",
       "      <td>119839.2</td>\n",
       "      <td>24424.49</td>\n",
       "      <td>6.680000e+09</td>\n",
       "      <td>9/19/2025</td>\n",
       "      <td>14:37:47</td>\n",
       "      <td>ICON PROPERTIES PLC</td>\n",
       "      <td>8.75</td>\n",
       "    </tr>\n",
       "  </tbody>\n",
       "</table>\n",
       "<p>5 rows × 22 columns</p>\n",
       "</div>"
      ],
      "text/plain": [
       "   Unnamed: 0    counter_id  daily_range_high  daily_range_low  ticker  \\\n",
       "0           0  MWAIRT001156            138.97           137.94  AIRTEL   \n",
       "1           1  MWBHL0010029             15.02            15.02     BHL   \n",
       "2           2  MWFDHB001166            637.95           637.91    FDHB   \n",
       "3           3  MWFMB0010138           1897.99          1897.99   FMBCH   \n",
       "4           4  MWICON001146             17.94            17.94    ICON   \n",
       "\n",
       "  buy_price sell_price  previous_closing_price  today_closing_price  \\\n",
       "0         0     137.96                  138.54               137.98   \n",
       "1     15.02          0                   15.02                15.02   \n",
       "2       635     637.92                  637.95               637.93   \n",
       "3   1897.99          0                 1897.99              1897.99   \n",
       "4         0      17.94                   17.94                17.94   \n",
       "\n",
       "   volume_traded  ... earnings_yield_pct  pe_ratio  pbv_ratio  \\\n",
       "0        79004.0  ...               2.81     35.53      47.26   \n",
       "1         7042.0  ...              -1.55    -64.44       1.36   \n",
       "2       101411.0  ...               1.68     59.44       45.2   \n",
       "3        15133.0  ...               2.53     39.45      14.18   \n",
       "4        18168.0  ...              20.38      4.91       0.82   \n",
       "\n",
       "   market_capitalization_mkmn profit_after_tax_mkmn num_shares_issue  \\\n",
       "0                     1517780              42722.11     1.100000e+10   \n",
       "1                    88291.39              -1370.11     5.878255e+09   \n",
       "2                  4402374.87              74063.00     6.901031e+09   \n",
       "3                  4665733.92             118254.74     2.458250e+09   \n",
       "4                    119839.2              24424.49     6.680000e+09   \n",
       "\n",
       "   trade_date  print_time                      name open_mwk  \n",
       "0   9/19/2025    14:37:47         AIRTEL MALAWI PLC    12.69  \n",
       "1   9/19/2025    14:37:47       BLANTYRE HOTELS PLC     0.84  \n",
       "2   9/19/2025    14:37:47              FDH BANK PLC    10.00  \n",
       "3   9/19/2025    14:37:47  FMB CAPITAL HOLDINGS PLC    45.01  \n",
       "4   9/19/2025    14:37:47       ICON PROPERTIES PLC     8.75  \n",
       "\n",
       "[5 rows x 22 columns]"
      ]
     },
     "execution_count": 12,
     "metadata": {},
     "output_type": "execute_result"
    }
   ],
   "source": [
    "\n",
    "df=pd.read_csv(r\"C:\\Users\\Geoffrey-RISA\\Documents\\GitHub\\AIMS-DSCBI-WEEK-3\\mse-api-assignment-Geo\\data\\master_csv\\site_data.csv\")\n",
    "ids={}\n",
    "for ticker, id in zip(df['Company Name'].values,df['ISIN'].values):\n",
    "    ids[ticker]=id\n",
    "df_prices['counter_id']=df_prices['name'].apply(lambda x:ids[x])\n",
    "#df_prices.head()\n",
    "\n",
    "prices={}\n",
    "for ticker, price in zip(df['Company Name'].values,df['Listing Price'].values):\n",
    "    prices[ticker]=price\n",
    "df_prices['open_mwk']=df_prices['name'].apply(lambda x:prices[x])\n",
    "df_prices.head()"
   ]
  },
  {
   "cell_type": "code",
   "execution_count": 13,
   "id": "253f2b45",
   "metadata": {},
   "outputs": [],
   "source": [
    "#extract only the required fields\n",
    "df_prices=df_prices[['counter_id','trade_date','open_mwk','daily_range_high', 'daily_range_low','today_closing_price','volume_traded' ]]\n",
    "df_prices.columns=['counter_id','trade_date','open_mwk','high_mwk','low_mwk','close_mwk','volume']"
   ]
  },
  {
   "cell_type": "code",
   "execution_count": 14,
   "id": "abe41860",
   "metadata": {},
   "outputs": [
    {
     "data": {
      "application/vnd.microsoft.datawrangler.viewer.v0+json": {
       "columns": [
        {
         "name": "index",
         "rawType": "int64",
         "type": "integer"
        },
        {
         "name": "counter_id",
         "rawType": "object",
         "type": "string"
        },
        {
         "name": "trade_date",
         "rawType": "object",
         "type": "string"
        },
        {
         "name": "open_mwk",
         "rawType": "float64",
         "type": "float"
        },
        {
         "name": "high_mwk",
         "rawType": "float64",
         "type": "float"
        },
        {
         "name": "low_mwk",
         "rawType": "float64",
         "type": "float"
        },
        {
         "name": "close_mwk",
         "rawType": "float64",
         "type": "float"
        },
        {
         "name": "volume",
         "rawType": "float64",
         "type": "float"
        }
       ],
       "ref": "1f71dbb0-fc39-4e1c-bd62-d060a2762217",
       "rows": [],
       "shape": {
        "columns": 7,
        "rows": 0
       }
      },
      "text/html": [
       "<div>\n",
       "<style scoped>\n",
       "    .dataframe tbody tr th:only-of-type {\n",
       "        vertical-align: middle;\n",
       "    }\n",
       "\n",
       "    .dataframe tbody tr th {\n",
       "        vertical-align: top;\n",
       "    }\n",
       "\n",
       "    .dataframe thead th {\n",
       "        text-align: right;\n",
       "    }\n",
       "</style>\n",
       "<table border=\"1\" class=\"dataframe\">\n",
       "  <thead>\n",
       "    <tr style=\"text-align: right;\">\n",
       "      <th></th>\n",
       "      <th>counter_id</th>\n",
       "      <th>trade_date</th>\n",
       "      <th>open_mwk</th>\n",
       "      <th>high_mwk</th>\n",
       "      <th>low_mwk</th>\n",
       "      <th>close_mwk</th>\n",
       "      <th>volume</th>\n",
       "    </tr>\n",
       "  </thead>\n",
       "  <tbody>\n",
       "  </tbody>\n",
       "</table>\n",
       "</div>"
      ],
      "text/plain": [
       "Empty DataFrame\n",
       "Columns: [counter_id, trade_date, open_mwk, high_mwk, low_mwk, close_mwk, volume]\n",
       "Index: []"
      ]
     },
     "execution_count": 14,
     "metadata": {},
     "output_type": "execute_result"
    }
   ],
   "source": [
    "df_prices[df_prices['close_mwk']=='20000(SB)']"
   ]
  },
  {
   "cell_type": "code",
   "execution_count": 15,
   "id": "78a1cc7f",
   "metadata": {},
   "outputs": [
    {
     "name": "stdout",
     "output_type": "stream",
     "text": [
      "<class 'pandas.core.frame.DataFrame'>\n",
      "RangeIndex: 26810 entries, 0 to 26809\n",
      "Data columns (total 7 columns):\n",
      " #   Column      Non-Null Count  Dtype         \n",
      "---  ------      --------------  -----         \n",
      " 0   counter_id  26810 non-null  object        \n",
      " 1   trade_date  26810 non-null  datetime64[ns]\n",
      " 2   open_mwk    26810 non-null  float64       \n",
      " 3   high_mwk    11207 non-null  float64       \n",
      " 4   low_mwk     11207 non-null  float64       \n",
      " 5   close_mwk   25151 non-null  float64       \n",
      " 6   volume      25147 non-null  float64       \n",
      "dtypes: datetime64[ns](1), float64(5), object(1)\n",
      "memory usage: 1.4+ MB\n"
     ]
    }
   ],
   "source": [
    "#df_prices.to_csv(DIR_OUTPUT / \"master_dataset.csv\")\n",
    "df_prices['volume']=df_prices['volume'].astype(float)\n",
    "df_prices['trade_date'] = pd.to_datetime(df_prices['trade_date'])\n",
    "df_prices['close_mwk']=df_prices['close_mwk'].astype(float)\n",
    "df_prices.info()"
   ]
  },
  {
   "cell_type": "code",
   "execution_count": 16,
   "id": "66cd79ed",
   "metadata": {},
   "outputs": [],
   "source": [
    "load_dotenv()  \n",
    "\n",
    "PGHOST = os.getenv(\"PGHOST\", \"localhost\")\n",
    "PGPORT = os.getenv(\"PGPORT\", \"5432\")\n",
    "PGDATABASE = os.getenv(\"PGDATABASE\", \"mse_db\")\n",
    "PGUSER = os.getenv(\"PGUSER\", \"geo\")\n",
    "PGPASSWORD = os.getenv(\"PGPASSWORD\", \"\")"
   ]
  },
  {
   "cell_type": "code",
   "execution_count": 17,
   "id": "2a6f5902",
   "metadata": {},
   "outputs": [
    {
     "name": "stdout",
     "output_type": "stream",
     "text": [
      "PostgreSQL Connection Settings:\n",
      "Host: localhost\n",
      "Port: 5432\n",
      "Database: mse_db\n",
      "User: geo\n",
      "Password: [NOT SET]\n"
     ]
    }
   ],
   "source": [
    "print(\"PostgreSQL Connection Settings:\")\n",
    "print(f\"Host: {PGHOST}\")\n",
    "print(f\"Port: {PGPORT}\")\n",
    "print(f\"Database: {PGDATABASE}\")\n",
    "print(f\"User: {PGUSER}\")\n",
    "print(f\"Password: {'[SET]' if PGPASSWORD else '[NOT SET]'}\")"
   ]
  },
  {
   "cell_type": "code",
   "execution_count": 18,
   "id": "bb5d75ad",
   "metadata": {},
   "outputs": [
    {
     "name": "stdout",
     "output_type": "stream",
     "text": [
      "Connection psql string: postgresql+psycopg2://geo:@localhost:5432/mse_db\n"
     ]
    }
   ],
   "source": [
    "# Create SQLAlchemy engine (no password needed for local connections)\n",
    "connection_string = f\"postgresql+psycopg2://{PGUSER}:{PGPASSWORD}@{PGHOST}:{PGPORT}/{PGDATABASE}\"\n",
    "print(\"Connection psql string:\", connection_string)"
   ]
  },
  {
   "cell_type": "code",
   "execution_count": 19,
   "id": "672aa874",
   "metadata": {},
   "outputs": [
    {
     "name": "stdout",
     "output_type": "stream",
     "text": [
      "Connected as: ('geo', 'mse_db')\n"
     ]
    }
   ],
   "source": [
    "engine = create_engine(\n",
    "    connection_string,\n",
    "    pool_pre_ping=True,\n",
    ")\n",
    "\n",
    "# Test the connection\n",
    "with engine.connect() as conn:\n",
    "    who = conn.execute(text(\"SELECT current_user, current_database();\")).fetchone()\n",
    "    print(\"Connected as:\", who)"
   ]
  },
  {
   "cell_type": "code",
   "execution_count": 20,
   "id": "c9ec863c",
   "metadata": {},
   "outputs": [],
   "source": [
    "engine = create_engine(\n",
    "    connection_string,\n",
    "    pool_pre_ping=True,\n",
    ")\n",
    "# create a table\n",
    "query = \"\"\"create table if not exists counters (counter_id text primary key, ticker text not null, name text not null, listing_price real not null, date_listed date not null);\"\"\"\n",
    "with engine.begin() as conn:\n",
    "    conn.execute(text(query))"
   ]
  },
  {
   "cell_type": "code",
   "execution_count": 22,
   "id": "80c3cdc3",
   "metadata": {},
   "outputs": [
    {
     "name": "stderr",
     "output_type": "stream",
     "text": [
      "C:\\Users\\Geoffrey-RISA\\AppData\\Local\\Temp\\ipykernel_15596\\1463308007.py:5: UserWarning: Could not infer format, so each element will be parsed individually, falling back to `dateutil`. To ensure parsing is consistent and as-expected, please specify a format.\n",
      "  df['date_listed'] = pd.to_datetime(df['date_listed']).dt.date\n"
     ]
    },
    {
     "data": {
      "application/vnd.microsoft.datawrangler.viewer.v0+json": {
       "columns": [
        {
         "name": "index",
         "rawType": "int64",
         "type": "integer"
        },
        {
         "name": "counter_id",
         "rawType": "object",
         "type": "string"
        },
        {
         "name": "ticker",
         "rawType": "object",
         "type": "string"
        },
        {
         "name": "name",
         "rawType": "object",
         "type": "string"
        },
        {
         "name": "listing_price",
         "rawType": "float64",
         "type": "float"
        },
        {
         "name": "date_listed",
         "rawType": "object",
         "type": "unknown"
        }
       ],
       "ref": "29d709cf-2687-4b49-9f9a-c1a111507cf0",
       "rows": [
        [
         "0",
         "MWAIRT001156",
         "AIRTEL",
         "AIRTEL MALAWI PLC",
         "12.69",
         "2020-02-24"
        ],
        [
         "1",
         "MWBHL0010029",
         "BHL",
         "BLANTYRE HOTELS PLC",
         "0.84",
         "1997-03-25"
        ],
        [
         "2",
         "MWFDHB001166",
         "FDHB",
         "FDH BANK PLC",
         "10.0",
         "2020-08-03"
        ],
        [
         "3",
         "MWFMB0010138",
         "FMBCH",
         "FMB CAPITAL HOLDINGS PLC",
         "45.01",
         "2017-09-18"
        ],
        [
         "4",
         "MWICON001146",
         "ICON",
         "ICON PROPERTIES PLC",
         "8.75",
         "2019-01-21"
        ]
       ],
       "shape": {
        "columns": 5,
        "rows": 5
       }
      },
      "text/html": [
       "<div>\n",
       "<style scoped>\n",
       "    .dataframe tbody tr th:only-of-type {\n",
       "        vertical-align: middle;\n",
       "    }\n",
       "\n",
       "    .dataframe tbody tr th {\n",
       "        vertical-align: top;\n",
       "    }\n",
       "\n",
       "    .dataframe thead th {\n",
       "        text-align: right;\n",
       "    }\n",
       "</style>\n",
       "<table border=\"1\" class=\"dataframe\">\n",
       "  <thead>\n",
       "    <tr style=\"text-align: right;\">\n",
       "      <th></th>\n",
       "      <th>counter_id</th>\n",
       "      <th>ticker</th>\n",
       "      <th>name</th>\n",
       "      <th>listing_price</th>\n",
       "      <th>date_listed</th>\n",
       "    </tr>\n",
       "  </thead>\n",
       "  <tbody>\n",
       "    <tr>\n",
       "      <th>0</th>\n",
       "      <td>MWAIRT001156</td>\n",
       "      <td>AIRTEL</td>\n",
       "      <td>AIRTEL MALAWI PLC</td>\n",
       "      <td>12.69</td>\n",
       "      <td>2020-02-24</td>\n",
       "    </tr>\n",
       "    <tr>\n",
       "      <th>1</th>\n",
       "      <td>MWBHL0010029</td>\n",
       "      <td>BHL</td>\n",
       "      <td>BLANTYRE HOTELS PLC</td>\n",
       "      <td>0.84</td>\n",
       "      <td>1997-03-25</td>\n",
       "    </tr>\n",
       "    <tr>\n",
       "      <th>2</th>\n",
       "      <td>MWFDHB001166</td>\n",
       "      <td>FDHB</td>\n",
       "      <td>FDH BANK PLC</td>\n",
       "      <td>10.00</td>\n",
       "      <td>2020-08-03</td>\n",
       "    </tr>\n",
       "    <tr>\n",
       "      <th>3</th>\n",
       "      <td>MWFMB0010138</td>\n",
       "      <td>FMBCH</td>\n",
       "      <td>FMB CAPITAL HOLDINGS PLC</td>\n",
       "      <td>45.01</td>\n",
       "      <td>2017-09-18</td>\n",
       "    </tr>\n",
       "    <tr>\n",
       "      <th>4</th>\n",
       "      <td>MWICON001146</td>\n",
       "      <td>ICON</td>\n",
       "      <td>ICON PROPERTIES PLC</td>\n",
       "      <td>8.75</td>\n",
       "      <td>2019-01-21</td>\n",
       "    </tr>\n",
       "  </tbody>\n",
       "</table>\n",
       "</div>"
      ],
      "text/plain": [
       "     counter_id  ticker                      name  listing_price date_listed\n",
       "0  MWAIRT001156  AIRTEL         AIRTEL MALAWI PLC          12.69  2020-02-24\n",
       "1  MWBHL0010029     BHL       BLANTYRE HOTELS PLC           0.84  1997-03-25\n",
       "2  MWFDHB001166    FDHB              FDH BANK PLC          10.00  2020-08-03\n",
       "3  MWFMB0010138   FMBCH  FMB CAPITAL HOLDINGS PLC          45.01  2017-09-18\n",
       "4  MWICON001146    ICON       ICON PROPERTIES PLC           8.75  2019-01-21"
      ]
     },
     "execution_count": 22,
     "metadata": {},
     "output_type": "execute_result"
    }
   ],
   "source": [
    "df=pd.read_csv(r\"C:\\Users\\Geoffrey-RISA\\Documents\\GitHub\\AIMS-DSCBI-WEEK-3\\mse-api-assignment-Geo\\data\\master_csv\\site_data.csv\")\n",
    "df.head()\n",
    "df.columns=['name', 'ticker', 'counter_id', 'listing_price', 'date_listed']\n",
    "df=df[['counter_id', 'ticker', 'name', 'listing_price', 'date_listed']]\n",
    "df['date_listed'] = pd.to_datetime(df['date_listed']).dt.date\n",
    "df['listing_price'] = df['listing_price'].astype(float)\n",
    "df.head()"
   ]
  },
  {
   "cell_type": "code",
   "execution_count": null,
   "id": "0e861dd6",
   "metadata": {},
   "outputs": [
    {
     "data": {
      "text/plain": [
       "16"
      ]
     },
     "execution_count": 69,
     "metadata": {},
     "output_type": "execute_result"
    }
   ],
   "source": [
    "df.to_sql('counters', engine, if_exists='append', index=False)"
   ]
  },
  {
   "cell_type": "code",
   "execution_count": null,
   "id": "cb400092",
   "metadata": {},
   "outputs": [],
   "source": [
    "# Create prices_daily table\n",
    "query=\"\"\"create table if not exists prices (\n",
    "    counter_id text REFERENCES counters(counter_id),\n",
    "    trade_date date,\n",
    "    open_mwk real,\n",
    "    high_mwk real,\n",
    "    low_mwk real,\n",
    "    close_mwk real,\n",
    "    volume real\n",
    "    );\"\"\"\n",
    "with engine.begin() as conn:\n",
    "    conn.execute(text(query))"
   ]
  },
  {
   "cell_type": "code",
   "execution_count": null,
   "id": "9ae50913",
   "metadata": {},
   "outputs": [
    {
     "data": {
      "application/vnd.microsoft.datawrangler.viewer.v0+json": {
       "columns": [
        {
         "name": "index",
         "rawType": "int64",
         "type": "integer"
        },
        {
         "name": "counter_id",
         "rawType": "object",
         "type": "string"
        },
        {
         "name": "trade_date",
         "rawType": "datetime64[ns]",
         "type": "datetime"
        },
        {
         "name": "open_mwk",
         "rawType": "float64",
         "type": "float"
        },
        {
         "name": "high_mwk",
         "rawType": "float64",
         "type": "float"
        },
        {
         "name": "low_mwk",
         "rawType": "float64",
         "type": "float"
        },
        {
         "name": "close_mwk",
         "rawType": "float64",
         "type": "float"
        },
        {
         "name": "volume",
         "rawType": "float64",
         "type": "float"
        }
       ],
       "ref": "6e1cbd00-6398-431f-b0ee-5254a01e5761",
       "rows": [
        [
         "0",
         "MWAIRT001156",
         "2025-09-19 00:00:00",
         "12.69",
         "138.97",
         "137.94",
         "137.98",
         "79004.0"
        ],
        [
         "1",
         "MWBHL0010029",
         "2025-09-19 00:00:00",
         "0.84",
         "15.02",
         "15.02",
         "15.02",
         "7042.0"
        ],
        [
         "2",
         "MWFDHB001166",
         "2025-09-19 00:00:00",
         "10.0",
         "637.95",
         "637.91",
         "637.93",
         "101411.0"
        ],
        [
         "3",
         "MWFMB0010138",
         "2025-09-19 00:00:00",
         "45.01",
         "1897.99",
         "1897.99",
         "1897.99",
         "15133.0"
        ],
        [
         "4",
         "MWICON001146",
         "2025-09-19 00:00:00",
         "8.75",
         "17.94",
         "17.94",
         "17.94",
         "18168.0"
        ]
       ],
       "shape": {
        "columns": 7,
        "rows": 5
       }
      },
      "text/html": [
       "<div>\n",
       "<style scoped>\n",
       "    .dataframe tbody tr th:only-of-type {\n",
       "        vertical-align: middle;\n",
       "    }\n",
       "\n",
       "    .dataframe tbody tr th {\n",
       "        vertical-align: top;\n",
       "    }\n",
       "\n",
       "    .dataframe thead th {\n",
       "        text-align: right;\n",
       "    }\n",
       "</style>\n",
       "<table border=\"1\" class=\"dataframe\">\n",
       "  <thead>\n",
       "    <tr style=\"text-align: right;\">\n",
       "      <th></th>\n",
       "      <th>counter_id</th>\n",
       "      <th>trade_date</th>\n",
       "      <th>open_mwk</th>\n",
       "      <th>high_mwk</th>\n",
       "      <th>low_mwk</th>\n",
       "      <th>close_mwk</th>\n",
       "      <th>volume</th>\n",
       "    </tr>\n",
       "  </thead>\n",
       "  <tbody>\n",
       "    <tr>\n",
       "      <th>0</th>\n",
       "      <td>MWAIRT001156</td>\n",
       "      <td>2025-09-19</td>\n",
       "      <td>12.69</td>\n",
       "      <td>138.97</td>\n",
       "      <td>137.94</td>\n",
       "      <td>137.98</td>\n",
       "      <td>79004.0</td>\n",
       "    </tr>\n",
       "    <tr>\n",
       "      <th>1</th>\n",
       "      <td>MWBHL0010029</td>\n",
       "      <td>2025-09-19</td>\n",
       "      <td>0.84</td>\n",
       "      <td>15.02</td>\n",
       "      <td>15.02</td>\n",
       "      <td>15.02</td>\n",
       "      <td>7042.0</td>\n",
       "    </tr>\n",
       "    <tr>\n",
       "      <th>2</th>\n",
       "      <td>MWFDHB001166</td>\n",
       "      <td>2025-09-19</td>\n",
       "      <td>10.00</td>\n",
       "      <td>637.95</td>\n",
       "      <td>637.91</td>\n",
       "      <td>637.93</td>\n",
       "      <td>101411.0</td>\n",
       "    </tr>\n",
       "    <tr>\n",
       "      <th>3</th>\n",
       "      <td>MWFMB0010138</td>\n",
       "      <td>2025-09-19</td>\n",
       "      <td>45.01</td>\n",
       "      <td>1897.99</td>\n",
       "      <td>1897.99</td>\n",
       "      <td>1897.99</td>\n",
       "      <td>15133.0</td>\n",
       "    </tr>\n",
       "    <tr>\n",
       "      <th>4</th>\n",
       "      <td>MWICON001146</td>\n",
       "      <td>2025-09-19</td>\n",
       "      <td>8.75</td>\n",
       "      <td>17.94</td>\n",
       "      <td>17.94</td>\n",
       "      <td>17.94</td>\n",
       "      <td>18168.0</td>\n",
       "    </tr>\n",
       "  </tbody>\n",
       "</table>\n",
       "</div>"
      ],
      "text/plain": [
       "     counter_id trade_date  open_mwk  high_mwk  low_mwk  close_mwk    volume\n",
       "0  MWAIRT001156 2025-09-19     12.69    138.97   137.94     137.98   79004.0\n",
       "1  MWBHL0010029 2025-09-19      0.84     15.02    15.02      15.02    7042.0\n",
       "2  MWFDHB001166 2025-09-19     10.00    637.95   637.91     637.93  101411.0\n",
       "3  MWFMB0010138 2025-09-19     45.01   1897.99  1897.99    1897.99   15133.0\n",
       "4  MWICON001146 2025-09-19      8.75     17.94    17.94      17.94   18168.0"
      ]
     },
     "execution_count": 28,
     "metadata": {},
     "output_type": "execute_result"
    }
   ],
   "source": [
    "df_prices.head()"
   ]
  },
  {
   "cell_type": "code",
   "execution_count": null,
   "id": "5ebac039",
   "metadata": {},
   "outputs": [
    {
     "data": {
      "text/plain": [
       "810"
      ]
     },
     "execution_count": 29,
     "metadata": {},
     "output_type": "execute_result"
    }
   ],
   "source": [
    "df_prices.to_sql('prices', engine, if_exists='append', index=False)"
   ]
  }
 ],
 "metadata": {
  "kernelspec": {
   "display_name": ".venv-ntl",
   "language": "python",
   "name": "python3"
  },
  "language_info": {
   "codemirror_mode": {
    "name": "ipython",
    "version": 3
   },
   "file_extension": ".py",
   "mimetype": "text/x-python",
   "name": "python",
   "nbconvert_exporter": "python",
   "pygments_lexer": "ipython3",
   "version": "3.11.6"
  }
 },
 "nbformat": 4,
 "nbformat_minor": 5
}
