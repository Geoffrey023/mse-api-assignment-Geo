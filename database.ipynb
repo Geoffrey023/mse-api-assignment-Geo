{
 "cells": [
  {
   "cell_type": "code",
   "execution_count": 71,
   "id": "abdefaa5",
   "metadata": {},
   "outputs": [
    {
     "data": {
      "text/plain": [
       "False"
      ]
     },
     "execution_count": 71,
     "metadata": {},
     "output_type": "execute_result"
    }
   ],
   "source": [
    "import pandas as pd\n",
    "import numpy as np\n",
    "from pathlib import Path\n",
    "from sqlalchemy import create_engine, text\n",
    "from dotenv import load_dotenv\n",
    "import os\n",
    "from fastapi import FastAPI\n",
    "\n",
    "# Load environment variables from .env file\n",
    "load_dotenv()"
   ]
  },
  {
   "cell_type": "code",
   "execution_count": 72,
   "id": "ecbe7537",
   "metadata": {},
   "outputs": [],
   "source": [
    "DIR_WORKSPACE = Path.cwd().parent.parent\n",
    "DIR_DATA = DIR_WORKSPACE / \"data\"\n",
    "DIR_REPORTS_CSV = DIR_DATA / \"csv_files\"\n",
    "DIR_OUTPUT = DIR_DATA / \"master_csv\""
   ]
  },
  {
   "cell_type": "code",
   "execution_count": 73,
   "id": "549eb711",
   "metadata": {},
   "outputs": [
    {
     "data": {
      "text/plain": [
       "WindowsPath('c:/Users/Geoffrey-RISA/Documents/GitHub/data/master_csv')"
      ]
     },
     "execution_count": 73,
     "metadata": {},
     "output_type": "execute_result"
    }
   ],
   "source": [
    "DIR_OUTPUT"
   ]
  },
  {
   "cell_type": "code",
   "execution_count": 74,
   "id": "71c9cd91",
   "metadata": {},
   "outputs": [
    {
     "data": {
      "application/vnd.microsoft.datawrangler.viewer.v0+json": {
       "columns": [
        {
         "name": "index",
         "rawType": "int64",
         "type": "integer"
        },
        {
         "name": "Unnamed: 0",
         "rawType": "int64",
         "type": "integer"
        },
        {
         "name": "counter_id",
         "rawType": "object",
         "type": "string"
        },
        {
         "name": "daily_range_high",
         "rawType": "float64",
         "type": "float"
        },
        {
         "name": "daily_range_low",
         "rawType": "float64",
         "type": "float"
        },
        {
         "name": "ticker",
         "rawType": "object",
         "type": "string"
        },
        {
         "name": "buy_price",
         "rawType": "object",
         "type": "string"
        },
        {
         "name": "sell_price",
         "rawType": "object",
         "type": "string"
        },
        {
         "name": "previous_closing_price",
         "rawType": "float64",
         "type": "float"
        },
        {
         "name": "today_closing_price",
         "rawType": "float64",
         "type": "float"
        },
        {
         "name": "volume_traded",
         "rawType": "float64",
         "type": "float"
        },
        {
         "name": "dividend_mk",
         "rawType": "object",
         "type": "string"
        },
        {
         "name": "dividend_yield_pct",
         "rawType": "float64",
         "type": "float"
        },
        {
         "name": "earnings_yield_pct",
         "rawType": "float64",
         "type": "float"
        },
        {
         "name": "pe_ratio",
         "rawType": "float64",
         "type": "float"
        },
        {
         "name": "pbv_ratio",
         "rawType": "object",
         "type": "string"
        },
        {
         "name": "market_capitalization_mkmn",
         "rawType": "object",
         "type": "string"
        },
        {
         "name": "profit_after_tax_mkmn",
         "rawType": "float64",
         "type": "float"
        },
        {
         "name": "num_shares_issue",
         "rawType": "float64",
         "type": "float"
        },
        {
         "name": "trade_date",
         "rawType": "object",
         "type": "string"
        },
        {
         "name": "print_time",
         "rawType": "object",
         "type": "string"
        },
        {
         "name": "name",
         "rawType": "object",
         "type": "string"
        }
       ],
       "ref": "3f26eb76-cc57-4b63-8e2e-ee96659bfe44",
       "rows": [
        [
         "0",
         "0",
         "1",
         "138.97",
         "137.94",
         "AIRTEL",
         "0",
         "137.96",
         "138.54",
         "137.98",
         "79004.0",
         "2",
         "1.45",
         "2.81",
         "35.53",
         "47.26",
         "1517780",
         "42722.11",
         "11000000000.0",
         "9/19/2025",
         "14:37:47",
         "AIRTEL MALAWI PLC"
        ],
        [
         "1",
         "1",
         "2",
         "15.02",
         "15.02",
         "BHL",
         "15.02",
         "0",
         "15.02",
         "15.02",
         "7042.0",
         "0",
         "0.0",
         "-1.55",
         "-64.44",
         "1.36",
         "88291.39",
         "-1370.11",
         "5878254935.0",
         "9/19/2025",
         "14:37:47",
         "BLANTYRE HOTELS PLC"
        ],
        [
         "2",
         "2",
         "3",
         "637.95",
         "637.91",
         "FDHB",
         "635",
         "637.92",
         "637.95",
         "637.93",
         "101411.0",
         "4.73",
         "0.74",
         "1.68",
         "59.44",
         "45.2",
         "4402374.87",
         "74063.0",
         "6901031250.0",
         "9/19/2025",
         "14:37:47",
         "FDH BANK PLC"
        ],
        [
         "3",
         "3",
         "4",
         "1897.99",
         "1897.99",
         "FMBCH",
         "1897.99",
         "0",
         "1897.99",
         "1897.99",
         "15133.0",
         "3.64",
         "0.19",
         "2.53",
         "39.45",
         "14.18",
         "4665733.92",
         "118254.74",
         "2458250000.0",
         "9/19/2025",
         "14:37:47",
         "FMB CAPITAL HOLDINGS PLC"
        ],
        [
         "4",
         "4",
         "5",
         "17.94",
         "17.94",
         "ICON",
         "0",
         "17.94",
         "17.94",
         "17.94",
         "18168.0",
         "0.29",
         "1.62",
         "20.38",
         "4.91",
         "0.82",
         "119839.2",
         "24424.49",
         "6680000000.0",
         "9/19/2025",
         "14:37:47",
         "ICON PROPERTIES PLC"
        ]
       ],
       "shape": {
        "columns": 21,
        "rows": 5
       }
      },
      "text/html": [
       "<div>\n",
       "<style scoped>\n",
       "    .dataframe tbody tr th:only-of-type {\n",
       "        vertical-align: middle;\n",
       "    }\n",
       "\n",
       "    .dataframe tbody tr th {\n",
       "        vertical-align: top;\n",
       "    }\n",
       "\n",
       "    .dataframe thead th {\n",
       "        text-align: right;\n",
       "    }\n",
       "</style>\n",
       "<table border=\"1\" class=\"dataframe\">\n",
       "  <thead>\n",
       "    <tr style=\"text-align: right;\">\n",
       "      <th></th>\n",
       "      <th>Unnamed: 0</th>\n",
       "      <th>counter_id</th>\n",
       "      <th>daily_range_high</th>\n",
       "      <th>daily_range_low</th>\n",
       "      <th>ticker</th>\n",
       "      <th>buy_price</th>\n",
       "      <th>sell_price</th>\n",
       "      <th>previous_closing_price</th>\n",
       "      <th>today_closing_price</th>\n",
       "      <th>volume_traded</th>\n",
       "      <th>...</th>\n",
       "      <th>dividend_yield_pct</th>\n",
       "      <th>earnings_yield_pct</th>\n",
       "      <th>pe_ratio</th>\n",
       "      <th>pbv_ratio</th>\n",
       "      <th>market_capitalization_mkmn</th>\n",
       "      <th>profit_after_tax_mkmn</th>\n",
       "      <th>num_shares_issue</th>\n",
       "      <th>trade_date</th>\n",
       "      <th>print_time</th>\n",
       "      <th>name</th>\n",
       "    </tr>\n",
       "  </thead>\n",
       "  <tbody>\n",
       "    <tr>\n",
       "      <th>0</th>\n",
       "      <td>0</td>\n",
       "      <td>1</td>\n",
       "      <td>138.97</td>\n",
       "      <td>137.94</td>\n",
       "      <td>AIRTEL</td>\n",
       "      <td>0</td>\n",
       "      <td>137.96</td>\n",
       "      <td>138.54</td>\n",
       "      <td>137.98</td>\n",
       "      <td>79004.0</td>\n",
       "      <td>...</td>\n",
       "      <td>1.45</td>\n",
       "      <td>2.81</td>\n",
       "      <td>35.53</td>\n",
       "      <td>47.26</td>\n",
       "      <td>1517780</td>\n",
       "      <td>42722.11</td>\n",
       "      <td>1.100000e+10</td>\n",
       "      <td>9/19/2025</td>\n",
       "      <td>14:37:47</td>\n",
       "      <td>AIRTEL MALAWI PLC</td>\n",
       "    </tr>\n",
       "    <tr>\n",
       "      <th>1</th>\n",
       "      <td>1</td>\n",
       "      <td>2</td>\n",
       "      <td>15.02</td>\n",
       "      <td>15.02</td>\n",
       "      <td>BHL</td>\n",
       "      <td>15.02</td>\n",
       "      <td>0</td>\n",
       "      <td>15.02</td>\n",
       "      <td>15.02</td>\n",
       "      <td>7042.0</td>\n",
       "      <td>...</td>\n",
       "      <td>0.00</td>\n",
       "      <td>-1.55</td>\n",
       "      <td>-64.44</td>\n",
       "      <td>1.36</td>\n",
       "      <td>88291.39</td>\n",
       "      <td>-1370.11</td>\n",
       "      <td>5.878255e+09</td>\n",
       "      <td>9/19/2025</td>\n",
       "      <td>14:37:47</td>\n",
       "      <td>BLANTYRE HOTELS PLC</td>\n",
       "    </tr>\n",
       "    <tr>\n",
       "      <th>2</th>\n",
       "      <td>2</td>\n",
       "      <td>3</td>\n",
       "      <td>637.95</td>\n",
       "      <td>637.91</td>\n",
       "      <td>FDHB</td>\n",
       "      <td>635</td>\n",
       "      <td>637.92</td>\n",
       "      <td>637.95</td>\n",
       "      <td>637.93</td>\n",
       "      <td>101411.0</td>\n",
       "      <td>...</td>\n",
       "      <td>0.74</td>\n",
       "      <td>1.68</td>\n",
       "      <td>59.44</td>\n",
       "      <td>45.2</td>\n",
       "      <td>4402374.87</td>\n",
       "      <td>74063.00</td>\n",
       "      <td>6.901031e+09</td>\n",
       "      <td>9/19/2025</td>\n",
       "      <td>14:37:47</td>\n",
       "      <td>FDH BANK PLC</td>\n",
       "    </tr>\n",
       "    <tr>\n",
       "      <th>3</th>\n",
       "      <td>3</td>\n",
       "      <td>4</td>\n",
       "      <td>1897.99</td>\n",
       "      <td>1897.99</td>\n",
       "      <td>FMBCH</td>\n",
       "      <td>1897.99</td>\n",
       "      <td>0</td>\n",
       "      <td>1897.99</td>\n",
       "      <td>1897.99</td>\n",
       "      <td>15133.0</td>\n",
       "      <td>...</td>\n",
       "      <td>0.19</td>\n",
       "      <td>2.53</td>\n",
       "      <td>39.45</td>\n",
       "      <td>14.18</td>\n",
       "      <td>4665733.92</td>\n",
       "      <td>118254.74</td>\n",
       "      <td>2.458250e+09</td>\n",
       "      <td>9/19/2025</td>\n",
       "      <td>14:37:47</td>\n",
       "      <td>FMB CAPITAL HOLDINGS PLC</td>\n",
       "    </tr>\n",
       "    <tr>\n",
       "      <th>4</th>\n",
       "      <td>4</td>\n",
       "      <td>5</td>\n",
       "      <td>17.94</td>\n",
       "      <td>17.94</td>\n",
       "      <td>ICON</td>\n",
       "      <td>0</td>\n",
       "      <td>17.94</td>\n",
       "      <td>17.94</td>\n",
       "      <td>17.94</td>\n",
       "      <td>18168.0</td>\n",
       "      <td>...</td>\n",
       "      <td>1.62</td>\n",
       "      <td>20.38</td>\n",
       "      <td>4.91</td>\n",
       "      <td>0.82</td>\n",
       "      <td>119839.2</td>\n",
       "      <td>24424.49</td>\n",
       "      <td>6.680000e+09</td>\n",
       "      <td>9/19/2025</td>\n",
       "      <td>14:37:47</td>\n",
       "      <td>ICON PROPERTIES PLC</td>\n",
       "    </tr>\n",
       "  </tbody>\n",
       "</table>\n",
       "<p>5 rows × 21 columns</p>\n",
       "</div>"
      ],
      "text/plain": [
       "   Unnamed: 0 counter_id  daily_range_high  daily_range_low  ticker buy_price  \\\n",
       "0           0          1            138.97           137.94  AIRTEL         0   \n",
       "1           1          2             15.02            15.02     BHL     15.02   \n",
       "2           2          3            637.95           637.91    FDHB       635   \n",
       "3           3          4           1897.99          1897.99   FMBCH   1897.99   \n",
       "4           4          5             17.94            17.94    ICON         0   \n",
       "\n",
       "  sell_price  previous_closing_price  today_closing_price  volume_traded  ...  \\\n",
       "0     137.96                  138.54               137.98        79004.0  ...   \n",
       "1          0                   15.02                15.02         7042.0  ...   \n",
       "2     637.92                  637.95               637.93       101411.0  ...   \n",
       "3          0                 1897.99              1897.99        15133.0  ...   \n",
       "4      17.94                   17.94                17.94        18168.0  ...   \n",
       "\n",
       "  dividend_yield_pct  earnings_yield_pct  pe_ratio  pbv_ratio  \\\n",
       "0               1.45                2.81     35.53      47.26   \n",
       "1               0.00               -1.55    -64.44       1.36   \n",
       "2               0.74                1.68     59.44       45.2   \n",
       "3               0.19                2.53     39.45      14.18   \n",
       "4               1.62               20.38      4.91       0.82   \n",
       "\n",
       "  market_capitalization_mkmn profit_after_tax_mkmn  num_shares_issue  \\\n",
       "0                    1517780              42722.11      1.100000e+10   \n",
       "1                   88291.39              -1370.11      5.878255e+09   \n",
       "2                 4402374.87              74063.00      6.901031e+09   \n",
       "3                 4665733.92             118254.74      2.458250e+09   \n",
       "4                   119839.2              24424.49      6.680000e+09   \n",
       "\n",
       "   trade_date print_time                      name  \n",
       "0   9/19/2025   14:37:47         AIRTEL MALAWI PLC  \n",
       "1   9/19/2025   14:37:47       BLANTYRE HOTELS PLC  \n",
       "2   9/19/2025   14:37:47              FDH BANK PLC  \n",
       "3   9/19/2025   14:37:47  FMB CAPITAL HOLDINGS PLC  \n",
       "4   9/19/2025   14:37:47       ICON PROPERTIES PLC  \n",
       "\n",
       "[5 rows x 21 columns]"
      ]
     },
     "execution_count": 74,
     "metadata": {},
     "output_type": "execute_result"
    }
   ],
   "source": [
    "df=pd.read_csv(DIR_OUTPUT / r\"C:\\Users\\Geoffrey-RISA\\Documents\\GitHub\\AIMS-DSCBI-WEEK-3\\mse-api-assignment-Geo\\data\\master_csv\\master_csv.csv\")\n",
    "df.head()"
   ]
  },
  {
   "cell_type": "code",
   "execution_count": 75,
   "id": "396155ff",
   "metadata": {},
   "outputs": [
    {
     "name": "stdout",
     "output_type": "stream",
     "text": [
      "<class 'pandas.core.frame.DataFrame'>\n",
      "RangeIndex: 26810 entries, 0 to 26809\n",
      "Data columns (total 21 columns):\n",
      " #   Column                      Non-Null Count  Dtype  \n",
      "---  ------                      --------------  -----  \n",
      " 0   Unnamed: 0                  26810 non-null  int64  \n",
      " 1   counter_id                  26810 non-null  object \n",
      " 2   daily_range_high            11207 non-null  float64\n",
      " 3   daily_range_low             11207 non-null  float64\n",
      " 4   ticker                      26810 non-null  object \n",
      " 5   buy_price                   25014 non-null  object \n",
      " 6   sell_price                  25217 non-null  object \n",
      " 7   previous_closing_price      26809 non-null  float64\n",
      " 8   today_closing_price         25151 non-null  float64\n",
      " 9   volume_traded               25147 non-null  float64\n",
      " 10  dividend_mk                 26608 non-null  object \n",
      " 11  dividend_yield_pct          26609 non-null  float64\n",
      " 12  earnings_yield_pct          26449 non-null  float64\n",
      " 13  pe_ratio                    26449 non-null  float64\n",
      " 14  pbv_ratio                   26796 non-null  object \n",
      " 15  market_capitalization_mkmn  26809 non-null  object \n",
      " 16  profit_after_tax_mkmn       26809 non-null  float64\n",
      " 17  num_shares_issue            26780 non-null  float64\n",
      " 18  trade_date                  26810 non-null  object \n",
      " 19  print_time                  25560 non-null  object \n",
      " 20  name                        26810 non-null  object \n",
      "dtypes: float64(10), int64(1), object(10)\n",
      "memory usage: 4.3+ MB\n"
     ]
    }
   ],
   "source": [
    "df.info()"
   ]
  },
  {
   "cell_type": "code",
   "execution_count": 76,
   "id": "2e053055",
   "metadata": {},
   "outputs": [
    {
     "data": {
      "text/plain": [
       "array(['AIRTEL', 'BHL', 'FDHB', 'FMBCH', 'ICON', 'ILLOVO', 'MPICO', 'NBM',\n",
       "       'NBS', 'NICO', 'NITL', 'OMU', 'PCL', 'STANDARD', 'SUNBIRD', 'TNM',\n",
       "       'OML', 'MPICO CD', 'NBM CD', 'NICO CD', 'PCL CD', 'Standard CD',\n",
       "       'Sunbird CD', 'TNM CD', 'MPICO TS', 'BHL CD', 'BHL XD', 'NITL XD',\n",
       "       'NITL CD', 'NBS TS', 'NICO TS', 'Sunbird', 'PCL TS', 'Sunbird H',\n",
       "       'SUNBIRD H', 'StandardCD', 'SUNBIRDCD', 'NITL TS', 'SUNBIRD TS',\n",
       "       'TNM TS', 'NBM XD', 'StandardTS', 'TNM TS XD', 'TNM TS CD',\n",
       "       'FMB CA', 'Sunbird XD', 'PCL XD', 'MPICO XD', 'NICO XD',\n",
       "       'Standard XD', 'TNM XD', 'FMBTS CA XD', 'Sunbird TS',\n",
       "       'FMBTS CA CD', 'SunbirdXD TS', 'SunbirdCD TS', 'NBS-LA*'],\n",
       "      dtype=object)"
      ]
     },
     "execution_count": 76,
     "metadata": {},
     "output_type": "execute_result"
    }
   ],
   "source": [
    "df['ticker'].unique()"
   ]
  },
  {
   "cell_type": "code",
   "execution_count": 77,
   "id": "987550fb",
   "metadata": {},
   "outputs": [],
   "source": [
    "companies={'AIRTEL':'Airtel Malawi plc', \n",
    "       'BHL':'Blantyre Hotels Plc', \n",
    "       'FDHB':'FDH Bank plc', \n",
    "       'FMBCH':'FMB Capital Holdings plc', \n",
    "       'ICON':'ICON Properties plc',\n",
    "       'ILLOVO':'Illovo Sugar Malawi plc', \n",
    "       'MPICO':'Malawi Property Investment Company plc',\n",
    "       'NBM':'National Bank of Malawi',\n",
    "       'NBS':'NBS Bank plc', \n",
    "       'NICO':'NICO Holdings plc',\n",
    "       'NITL':'National Investment Trust Plc',\n",
    "       'OMU':'Old Mutual Limited', \n",
    "       'PCL':'Press Corporation plc', \n",
    "       'STANDARD':'Standard Bank Malawi plc',\n",
    "       'SUNBIRD':'Sunbird Tourism plc',\n",
    "       'TNM':'Telekom Networks Malawi plc',\n",
    "       'OML':'Old Mutual Limited', \n",
    "       'MPICO CD':'Malawi Property Investment Company plc',\n",
    "       'NBM CD':'National Bank of Malawi', \n",
    "       'NICO CD':'NICO Holdings plc', \n",
    "       'PCL CD':'Press Corporation plc',\n",
    "       'Standard CD':'Standard Bank Malawi plc',\n",
    "       'Sunbird CD':'Sunbird Tourism plc',\n",
    "       'TNM CD':'Telekom Networks Malawi plc', \n",
    "       'MPICO TS':'Malawi Property Investment Company plc', \n",
    "       'BHL CD':'Blantyre Hotels Plc',\n",
    "       'BHL XD':'Blantyre Hotels Plc', \n",
    "       'NITL XD':'National Investment Trust Plc',\n",
    "       'NITL CD':'National Investment Trust Plc',\n",
    "       'NBS TS':'NBS Bank plc', \n",
    "       'NICO TS':'NICO Holdings plc', \n",
    "       'Sunbird':'Sunbird Tourism plc',\n",
    "       'PCL TS':'Press Corporation plc',\n",
    "       'Sunbird H':'Sunbird Tourism plc',\n",
    "       'SUNBIRD H':'Sunbird Tourism plc',\n",
    "       'StandardCD':'Standard Bank Malawi plc', \n",
    "       'SUNBIRDCD':'Sunbird Tourism plc', \n",
    "       'NITL TS':'National Investment Trust Plc',\n",
    "       'SUNBIRD TS':'Sunbird Tourism plc',\n",
    "       'TNM TS':'Telekom Networks Malawi plc',\n",
    "       'NBM XD':'National Bank of Malawi',\n",
    "       'StandardTS':'Standard Bank Malawi plc',\n",
    "       'TNM TS XD':'Telekom Networks Malawi plc', \n",
    "       'TNM TS CD':'Telekom Networks Malawi plc',\n",
    "       'FMB CA':'FMB Capital Holdings plc', \n",
    "       'Sunbird XD':'Sunbird Tourism plc',\n",
    "       'PCL XD':'Press Corporation plc',\n",
    "       'MPICO XD':'Malawi Property Investment Company plc',\n",
    "       'NICO XD':'NICO Holdings plc',\n",
    "       'Standard XD':'Standard Bank Malawi plc',\n",
    "       'TNM XD':'Telekom Networks Malawi plc',\n",
    "       'FMBTS CA XD':'FMB Capital Holdings plc', \n",
    "       'Sunbird TS':'Sunbird Tourism plc',\n",
    "       'FMBTS CA CD':'FMB Capital Holdings plc', \n",
    "       'SunbirdXD TS':'Sunbird Tourism plc',\n",
    "       'SunbirdCD TS':'Sunbird Tourism plc',\n",
    "       'NBS-LA*':'NBS Bank plc'}"
   ]
  },
  {
   "cell_type": "code",
   "execution_count": 78,
   "id": "2b983fed",
   "metadata": {},
   "outputs": [
    {
     "data": {
      "application/vnd.microsoft.datawrangler.viewer.v0+json": {
       "columns": [
        {
         "name": "index",
         "rawType": "int64",
         "type": "integer"
        },
        {
         "name": "Unnamed: 0",
         "rawType": "int64",
         "type": "integer"
        },
        {
         "name": "counter_id",
         "rawType": "object",
         "type": "string"
        },
        {
         "name": "daily_range_high",
         "rawType": "float64",
         "type": "float"
        },
        {
         "name": "daily_range_low",
         "rawType": "float64",
         "type": "float"
        },
        {
         "name": "ticker",
         "rawType": "object",
         "type": "string"
        },
        {
         "name": "buy_price",
         "rawType": "object",
         "type": "string"
        },
        {
         "name": "sell_price",
         "rawType": "object",
         "type": "string"
        },
        {
         "name": "previous_closing_price",
         "rawType": "float64",
         "type": "float"
        },
        {
         "name": "today_closing_price",
         "rawType": "float64",
         "type": "float"
        },
        {
         "name": "volume_traded",
         "rawType": "float64",
         "type": "float"
        },
        {
         "name": "dividend_mk",
         "rawType": "object",
         "type": "string"
        },
        {
         "name": "dividend_yield_pct",
         "rawType": "float64",
         "type": "float"
        },
        {
         "name": "earnings_yield_pct",
         "rawType": "float64",
         "type": "float"
        },
        {
         "name": "pe_ratio",
         "rawType": "float64",
         "type": "float"
        },
        {
         "name": "pbv_ratio",
         "rawType": "object",
         "type": "string"
        },
        {
         "name": "market_capitalization_mkmn",
         "rawType": "object",
         "type": "string"
        },
        {
         "name": "profit_after_tax_mkmn",
         "rawType": "float64",
         "type": "float"
        },
        {
         "name": "num_shares_issue",
         "rawType": "float64",
         "type": "float"
        },
        {
         "name": "trade_date",
         "rawType": "object",
         "type": "string"
        },
        {
         "name": "print_time",
         "rawType": "object",
         "type": "string"
        },
        {
         "name": "name",
         "rawType": "object",
         "type": "string"
        }
       ],
       "ref": "5bf7b125-375c-4f5b-9b7e-18a47af6725b",
       "rows": [
        [
         "0",
         "0",
         "1",
         "138.97",
         "137.94",
         "AIRTEL",
         "0",
         "137.96",
         "138.54",
         "137.98",
         "79004.0",
         "2",
         "1.45",
         "2.81",
         "35.53",
         "47.26",
         "1517780",
         "42722.11",
         "11000000000.0",
         "9/19/2025",
         "14:37:47",
         "AIRTEL MALAWI PLC"
        ],
        [
         "1",
         "1",
         "2",
         "15.02",
         "15.02",
         "BHL",
         "15.02",
         "0",
         "15.02",
         "15.02",
         "7042.0",
         "0",
         "0.0",
         "-1.55",
         "-64.44",
         "1.36",
         "88291.39",
         "-1370.11",
         "5878254935.0",
         "9/19/2025",
         "14:37:47",
         "BLANTYRE HOTELS PLC"
        ],
        [
         "2",
         "2",
         "3",
         "637.95",
         "637.91",
         "FDHB",
         "635",
         "637.92",
         "637.95",
         "637.93",
         "101411.0",
         "4.73",
         "0.74",
         "1.68",
         "59.44",
         "45.2",
         "4402374.87",
         "74063.0",
         "6901031250.0",
         "9/19/2025",
         "14:37:47",
         "FDH BANK PLC"
        ],
        [
         "3",
         "3",
         "4",
         "1897.99",
         "1897.99",
         "FMBCH",
         "1897.99",
         "0",
         "1897.99",
         "1897.99",
         "15133.0",
         "3.64",
         "0.19",
         "2.53",
         "39.45",
         "14.18",
         "4665733.92",
         "118254.74",
         "2458250000.0",
         "9/19/2025",
         "14:37:47",
         "FMB CAPITAL HOLDINGS PLC"
        ],
        [
         "4",
         "4",
         "5",
         "17.94",
         "17.94",
         "ICON",
         "0",
         "17.94",
         "17.94",
         "17.94",
         "18168.0",
         "0.29",
         "1.62",
         "20.38",
         "4.91",
         "0.82",
         "119839.2",
         "24424.49",
         "6680000000.0",
         "9/19/2025",
         "14:37:47",
         "ICON PROPERTIES PLC"
        ]
       ],
       "shape": {
        "columns": 21,
        "rows": 5
       }
      },
      "text/html": [
       "<div>\n",
       "<style scoped>\n",
       "    .dataframe tbody tr th:only-of-type {\n",
       "        vertical-align: middle;\n",
       "    }\n",
       "\n",
       "    .dataframe tbody tr th {\n",
       "        vertical-align: top;\n",
       "    }\n",
       "\n",
       "    .dataframe thead th {\n",
       "        text-align: right;\n",
       "    }\n",
       "</style>\n",
       "<table border=\"1\" class=\"dataframe\">\n",
       "  <thead>\n",
       "    <tr style=\"text-align: right;\">\n",
       "      <th></th>\n",
       "      <th>Unnamed: 0</th>\n",
       "      <th>counter_id</th>\n",
       "      <th>daily_range_high</th>\n",
       "      <th>daily_range_low</th>\n",
       "      <th>ticker</th>\n",
       "      <th>buy_price</th>\n",
       "      <th>sell_price</th>\n",
       "      <th>previous_closing_price</th>\n",
       "      <th>today_closing_price</th>\n",
       "      <th>volume_traded</th>\n",
       "      <th>...</th>\n",
       "      <th>dividend_yield_pct</th>\n",
       "      <th>earnings_yield_pct</th>\n",
       "      <th>pe_ratio</th>\n",
       "      <th>pbv_ratio</th>\n",
       "      <th>market_capitalization_mkmn</th>\n",
       "      <th>profit_after_tax_mkmn</th>\n",
       "      <th>num_shares_issue</th>\n",
       "      <th>trade_date</th>\n",
       "      <th>print_time</th>\n",
       "      <th>name</th>\n",
       "    </tr>\n",
       "  </thead>\n",
       "  <tbody>\n",
       "    <tr>\n",
       "      <th>0</th>\n",
       "      <td>0</td>\n",
       "      <td>1</td>\n",
       "      <td>138.97</td>\n",
       "      <td>137.94</td>\n",
       "      <td>AIRTEL</td>\n",
       "      <td>0</td>\n",
       "      <td>137.96</td>\n",
       "      <td>138.54</td>\n",
       "      <td>137.98</td>\n",
       "      <td>79004.0</td>\n",
       "      <td>...</td>\n",
       "      <td>1.45</td>\n",
       "      <td>2.81</td>\n",
       "      <td>35.53</td>\n",
       "      <td>47.26</td>\n",
       "      <td>1517780</td>\n",
       "      <td>42722.11</td>\n",
       "      <td>1.100000e+10</td>\n",
       "      <td>9/19/2025</td>\n",
       "      <td>14:37:47</td>\n",
       "      <td>AIRTEL MALAWI PLC</td>\n",
       "    </tr>\n",
       "    <tr>\n",
       "      <th>1</th>\n",
       "      <td>1</td>\n",
       "      <td>2</td>\n",
       "      <td>15.02</td>\n",
       "      <td>15.02</td>\n",
       "      <td>BHL</td>\n",
       "      <td>15.02</td>\n",
       "      <td>0</td>\n",
       "      <td>15.02</td>\n",
       "      <td>15.02</td>\n",
       "      <td>7042.0</td>\n",
       "      <td>...</td>\n",
       "      <td>0.00</td>\n",
       "      <td>-1.55</td>\n",
       "      <td>-64.44</td>\n",
       "      <td>1.36</td>\n",
       "      <td>88291.39</td>\n",
       "      <td>-1370.11</td>\n",
       "      <td>5.878255e+09</td>\n",
       "      <td>9/19/2025</td>\n",
       "      <td>14:37:47</td>\n",
       "      <td>BLANTYRE HOTELS PLC</td>\n",
       "    </tr>\n",
       "    <tr>\n",
       "      <th>2</th>\n",
       "      <td>2</td>\n",
       "      <td>3</td>\n",
       "      <td>637.95</td>\n",
       "      <td>637.91</td>\n",
       "      <td>FDHB</td>\n",
       "      <td>635</td>\n",
       "      <td>637.92</td>\n",
       "      <td>637.95</td>\n",
       "      <td>637.93</td>\n",
       "      <td>101411.0</td>\n",
       "      <td>...</td>\n",
       "      <td>0.74</td>\n",
       "      <td>1.68</td>\n",
       "      <td>59.44</td>\n",
       "      <td>45.2</td>\n",
       "      <td>4402374.87</td>\n",
       "      <td>74063.00</td>\n",
       "      <td>6.901031e+09</td>\n",
       "      <td>9/19/2025</td>\n",
       "      <td>14:37:47</td>\n",
       "      <td>FDH BANK PLC</td>\n",
       "    </tr>\n",
       "    <tr>\n",
       "      <th>3</th>\n",
       "      <td>3</td>\n",
       "      <td>4</td>\n",
       "      <td>1897.99</td>\n",
       "      <td>1897.99</td>\n",
       "      <td>FMBCH</td>\n",
       "      <td>1897.99</td>\n",
       "      <td>0</td>\n",
       "      <td>1897.99</td>\n",
       "      <td>1897.99</td>\n",
       "      <td>15133.0</td>\n",
       "      <td>...</td>\n",
       "      <td>0.19</td>\n",
       "      <td>2.53</td>\n",
       "      <td>39.45</td>\n",
       "      <td>14.18</td>\n",
       "      <td>4665733.92</td>\n",
       "      <td>118254.74</td>\n",
       "      <td>2.458250e+09</td>\n",
       "      <td>9/19/2025</td>\n",
       "      <td>14:37:47</td>\n",
       "      <td>FMB CAPITAL HOLDINGS PLC</td>\n",
       "    </tr>\n",
       "    <tr>\n",
       "      <th>4</th>\n",
       "      <td>4</td>\n",
       "      <td>5</td>\n",
       "      <td>17.94</td>\n",
       "      <td>17.94</td>\n",
       "      <td>ICON</td>\n",
       "      <td>0</td>\n",
       "      <td>17.94</td>\n",
       "      <td>17.94</td>\n",
       "      <td>17.94</td>\n",
       "      <td>18168.0</td>\n",
       "      <td>...</td>\n",
       "      <td>1.62</td>\n",
       "      <td>20.38</td>\n",
       "      <td>4.91</td>\n",
       "      <td>0.82</td>\n",
       "      <td>119839.2</td>\n",
       "      <td>24424.49</td>\n",
       "      <td>6.680000e+09</td>\n",
       "      <td>9/19/2025</td>\n",
       "      <td>14:37:47</td>\n",
       "      <td>ICON PROPERTIES PLC</td>\n",
       "    </tr>\n",
       "  </tbody>\n",
       "</table>\n",
       "<p>5 rows × 21 columns</p>\n",
       "</div>"
      ],
      "text/plain": [
       "   Unnamed: 0 counter_id  daily_range_high  daily_range_low  ticker buy_price  \\\n",
       "0           0          1            138.97           137.94  AIRTEL         0   \n",
       "1           1          2             15.02            15.02     BHL     15.02   \n",
       "2           2          3            637.95           637.91    FDHB       635   \n",
       "3           3          4           1897.99          1897.99   FMBCH   1897.99   \n",
       "4           4          5             17.94            17.94    ICON         0   \n",
       "\n",
       "  sell_price  previous_closing_price  today_closing_price  volume_traded  ...  \\\n",
       "0     137.96                  138.54               137.98        79004.0  ...   \n",
       "1          0                   15.02                15.02         7042.0  ...   \n",
       "2     637.92                  637.95               637.93       101411.0  ...   \n",
       "3          0                 1897.99              1897.99        15133.0  ...   \n",
       "4      17.94                   17.94                17.94        18168.0  ...   \n",
       "\n",
       "  dividend_yield_pct  earnings_yield_pct  pe_ratio  pbv_ratio  \\\n",
       "0               1.45                2.81     35.53      47.26   \n",
       "1               0.00               -1.55    -64.44       1.36   \n",
       "2               0.74                1.68     59.44       45.2   \n",
       "3               0.19                2.53     39.45      14.18   \n",
       "4               1.62               20.38      4.91       0.82   \n",
       "\n",
       "  market_capitalization_mkmn profit_after_tax_mkmn  num_shares_issue  \\\n",
       "0                    1517780              42722.11      1.100000e+10   \n",
       "1                   88291.39              -1370.11      5.878255e+09   \n",
       "2                 4402374.87              74063.00      6.901031e+09   \n",
       "3                 4665733.92             118254.74      2.458250e+09   \n",
       "4                   119839.2              24424.49      6.680000e+09   \n",
       "\n",
       "   trade_date print_time                      name  \n",
       "0   9/19/2025   14:37:47         AIRTEL MALAWI PLC  \n",
       "1   9/19/2025   14:37:47       BLANTYRE HOTELS PLC  \n",
       "2   9/19/2025   14:37:47              FDH BANK PLC  \n",
       "3   9/19/2025   14:37:47  FMB CAPITAL HOLDINGS PLC  \n",
       "4   9/19/2025   14:37:47       ICON PROPERTIES PLC  \n",
       "\n",
       "[5 rows x 21 columns]"
      ]
     },
     "execution_count": 78,
     "metadata": {},
     "output_type": "execute_result"
    }
   ],
   "source": [
    "def company(row):\n",
    "    return companies[row['ticker']].upper()\n",
    "df['name']=df.apply(company,axis=1)\n",
    "df = df.rename(columns={\"ticker\": \"ticker\"})\n",
    "df.head()"
   ]
  },
  {
   "cell_type": "code",
   "execution_count": 79,
   "id": "9dd3f983",
   "metadata": {},
   "outputs": [],
   "source": [
    "df_prices=df.copy()\n"
   ]
  },
  {
   "cell_type": "code",
   "execution_count": 80,
   "id": "5c2810b4",
   "metadata": {},
   "outputs": [
    {
     "data": {
      "application/vnd.microsoft.datawrangler.viewer.v0+json": {
       "columns": [
        {
         "name": "index",
         "rawType": "int64",
         "type": "integer"
        },
        {
         "name": "Company Name",
         "rawType": "object",
         "type": "string"
        },
        {
         "name": "Symbol",
         "rawType": "object",
         "type": "string"
        },
        {
         "name": "ISIN",
         "rawType": "object",
         "type": "string"
        },
        {
         "name": "Listing Price",
         "rawType": "float64",
         "type": "float"
        },
        {
         "name": "Date Listed",
         "rawType": "object",
         "type": "string"
        }
       ],
       "ref": "0eba2a37-8994-4e1b-a4da-8564350ae418",
       "rows": [
        [
         "0",
         "AIRTEL MALAWI PLC",
         "AIRTEL",
         "MWAIRT001156",
         "12.69",
         "24-Feb-20"
        ],
        [
         "1",
         "BLANTYRE HOTELS PLC",
         "BHL",
         "MWBHL0010029",
         "0.84",
         "25-Mar-97"
        ],
        [
         "2",
         "FDH BANK PLC",
         "FDHB",
         "MWFDHB001166",
         "10.0",
         "3-Aug-20"
        ],
        [
         "3",
         "FMB CAPITAL HOLDINGS PLC",
         "FMBCH",
         "MWFMB0010138",
         "45.01",
         "18-Sep-17"
        ],
        [
         "4",
         "ICON PROPERTIES PLC",
         "ICON",
         "MWICON001146",
         "8.75",
         "21-Jan-19"
        ]
       ],
       "shape": {
        "columns": 5,
        "rows": 5
       }
      },
      "text/html": [
       "<div>\n",
       "<style scoped>\n",
       "    .dataframe tbody tr th:only-of-type {\n",
       "        vertical-align: middle;\n",
       "    }\n",
       "\n",
       "    .dataframe tbody tr th {\n",
       "        vertical-align: top;\n",
       "    }\n",
       "\n",
       "    .dataframe thead th {\n",
       "        text-align: right;\n",
       "    }\n",
       "</style>\n",
       "<table border=\"1\" class=\"dataframe\">\n",
       "  <thead>\n",
       "    <tr style=\"text-align: right;\">\n",
       "      <th></th>\n",
       "      <th>Company Name</th>\n",
       "      <th>Symbol</th>\n",
       "      <th>ISIN</th>\n",
       "      <th>Listing Price</th>\n",
       "      <th>Date Listed</th>\n",
       "    </tr>\n",
       "  </thead>\n",
       "  <tbody>\n",
       "    <tr>\n",
       "      <th>0</th>\n",
       "      <td>AIRTEL MALAWI PLC</td>\n",
       "      <td>AIRTEL</td>\n",
       "      <td>MWAIRT001156</td>\n",
       "      <td>12.69</td>\n",
       "      <td>24-Feb-20</td>\n",
       "    </tr>\n",
       "    <tr>\n",
       "      <th>1</th>\n",
       "      <td>BLANTYRE HOTELS PLC</td>\n",
       "      <td>BHL</td>\n",
       "      <td>MWBHL0010029</td>\n",
       "      <td>0.84</td>\n",
       "      <td>25-Mar-97</td>\n",
       "    </tr>\n",
       "    <tr>\n",
       "      <th>2</th>\n",
       "      <td>FDH BANK PLC</td>\n",
       "      <td>FDHB</td>\n",
       "      <td>MWFDHB001166</td>\n",
       "      <td>10.00</td>\n",
       "      <td>3-Aug-20</td>\n",
       "    </tr>\n",
       "    <tr>\n",
       "      <th>3</th>\n",
       "      <td>FMB CAPITAL HOLDINGS PLC</td>\n",
       "      <td>FMBCH</td>\n",
       "      <td>MWFMB0010138</td>\n",
       "      <td>45.01</td>\n",
       "      <td>18-Sep-17</td>\n",
       "    </tr>\n",
       "    <tr>\n",
       "      <th>4</th>\n",
       "      <td>ICON PROPERTIES PLC</td>\n",
       "      <td>ICON</td>\n",
       "      <td>MWICON001146</td>\n",
       "      <td>8.75</td>\n",
       "      <td>21-Jan-19</td>\n",
       "    </tr>\n",
       "  </tbody>\n",
       "</table>\n",
       "</div>"
      ],
      "text/plain": [
       "               Company Name  Symbol          ISIN  Listing Price Date Listed\n",
       "0         AIRTEL MALAWI PLC  AIRTEL  MWAIRT001156          12.69   24-Feb-20\n",
       "1       BLANTYRE HOTELS PLC     BHL  MWBHL0010029           0.84   25-Mar-97\n",
       "2              FDH BANK PLC    FDHB  MWFDHB001166          10.00    3-Aug-20\n",
       "3  FMB CAPITAL HOLDINGS PLC   FMBCH  MWFMB0010138          45.01   18-Sep-17\n",
       "4       ICON PROPERTIES PLC    ICON  MWICON001146           8.75   21-Jan-19"
      ]
     },
     "execution_count": 80,
     "metadata": {},
     "output_type": "execute_result"
    }
   ],
   "source": [
    "df=pd.read_csv(r\"C:\\Users\\Geoffrey-RISA\\Documents\\GitHub\\AIMS-DSCBI-WEEK-3\\mse-api-assignment-Geo\\data\\master_csv\\site_data.csv\")\n",
    "df.head()"
   ]
  },
  {
   "cell_type": "code",
   "execution_count": 81,
   "id": "56f2d6c4",
   "metadata": {},
   "outputs": [
    {
     "data": {
      "application/vnd.microsoft.datawrangler.viewer.v0+json": {
       "columns": [
        {
         "name": "index",
         "rawType": "int64",
         "type": "integer"
        },
        {
         "name": "Company Name",
         "rawType": "object",
         "type": "string"
        },
        {
         "name": "Symbol",
         "rawType": "object",
         "type": "string"
        },
        {
         "name": "ISIN",
         "rawType": "object",
         "type": "string"
        },
        {
         "name": "Listing Price",
         "rawType": "float64",
         "type": "float"
        },
        {
         "name": "Date Listed",
         "rawType": "object",
         "type": "string"
        }
       ],
       "ref": "8656f0a4-ed5c-4313-80ec-bdf2965aef75",
       "rows": [
        [
         "0",
         "AIRTEL MALAWI PLC",
         "AIRTEL",
         "MWAIRT001156",
         "12.69",
         "24-Feb-20"
        ],
        [
         "1",
         "BLANTYRE HOTELS PLC",
         "BHL",
         "MWBHL0010029",
         "0.84",
         "25-Mar-97"
        ],
        [
         "2",
         "FDH BANK PLC",
         "FDHB",
         "MWFDHB001166",
         "10.0",
         "3-Aug-20"
        ],
        [
         "3",
         "FMB CAPITAL HOLDINGS PLC",
         "FMBCH",
         "MWFMB0010138",
         "45.01",
         "18-Sep-17"
        ],
        [
         "4",
         "ICON PROPERTIES PLC",
         "ICON",
         "MWICON001146",
         "8.75",
         "21-Jan-19"
        ]
       ],
       "shape": {
        "columns": 5,
        "rows": 5
       }
      },
      "text/html": [
       "<div>\n",
       "<style scoped>\n",
       "    .dataframe tbody tr th:only-of-type {\n",
       "        vertical-align: middle;\n",
       "    }\n",
       "\n",
       "    .dataframe tbody tr th {\n",
       "        vertical-align: top;\n",
       "    }\n",
       "\n",
       "    .dataframe thead th {\n",
       "        text-align: right;\n",
       "    }\n",
       "</style>\n",
       "<table border=\"1\" class=\"dataframe\">\n",
       "  <thead>\n",
       "    <tr style=\"text-align: right;\">\n",
       "      <th></th>\n",
       "      <th>Company Name</th>\n",
       "      <th>Symbol</th>\n",
       "      <th>ISIN</th>\n",
       "      <th>Listing Price</th>\n",
       "      <th>Date Listed</th>\n",
       "    </tr>\n",
       "  </thead>\n",
       "  <tbody>\n",
       "    <tr>\n",
       "      <th>0</th>\n",
       "      <td>AIRTEL MALAWI PLC</td>\n",
       "      <td>AIRTEL</td>\n",
       "      <td>MWAIRT001156</td>\n",
       "      <td>12.69</td>\n",
       "      <td>24-Feb-20</td>\n",
       "    </tr>\n",
       "    <tr>\n",
       "      <th>1</th>\n",
       "      <td>BLANTYRE HOTELS PLC</td>\n",
       "      <td>BHL</td>\n",
       "      <td>MWBHL0010029</td>\n",
       "      <td>0.84</td>\n",
       "      <td>25-Mar-97</td>\n",
       "    </tr>\n",
       "    <tr>\n",
       "      <th>2</th>\n",
       "      <td>FDH BANK PLC</td>\n",
       "      <td>FDHB</td>\n",
       "      <td>MWFDHB001166</td>\n",
       "      <td>10.00</td>\n",
       "      <td>3-Aug-20</td>\n",
       "    </tr>\n",
       "    <tr>\n",
       "      <th>3</th>\n",
       "      <td>FMB CAPITAL HOLDINGS PLC</td>\n",
       "      <td>FMBCH</td>\n",
       "      <td>MWFMB0010138</td>\n",
       "      <td>45.01</td>\n",
       "      <td>18-Sep-17</td>\n",
       "    </tr>\n",
       "    <tr>\n",
       "      <th>4</th>\n",
       "      <td>ICON PROPERTIES PLC</td>\n",
       "      <td>ICON</td>\n",
       "      <td>MWICON001146</td>\n",
       "      <td>8.75</td>\n",
       "      <td>21-Jan-19</td>\n",
       "    </tr>\n",
       "  </tbody>\n",
       "</table>\n",
       "</div>"
      ],
      "text/plain": [
       "               Company Name  Symbol          ISIN  Listing Price Date Listed\n",
       "0         AIRTEL MALAWI PLC  AIRTEL  MWAIRT001156          12.69   24-Feb-20\n",
       "1       BLANTYRE HOTELS PLC     BHL  MWBHL0010029           0.84   25-Mar-97\n",
       "2              FDH BANK PLC    FDHB  MWFDHB001166          10.00    3-Aug-20\n",
       "3  FMB CAPITAL HOLDINGS PLC   FMBCH  MWFMB0010138          45.01   18-Sep-17\n",
       "4       ICON PROPERTIES PLC    ICON  MWICON001146           8.75   21-Jan-19"
      ]
     },
     "execution_count": 81,
     "metadata": {},
     "output_type": "execute_result"
    }
   ],
   "source": [
    "\n",
    "df=pd.read_csv(r\"C:\\Users\\Geoffrey-RISA\\Documents\\GitHub\\AIMS-DSCBI-WEEK-3\\mse-api-assignment-Geo\\data\\master_csv\\site_data.csv\")\n",
    "ids={}\n",
    "for ticker, id in zip(df['Company Name'].values,df['ISIN'].values):\n",
    "    ids[ticker]=id\n",
    "df_prices['counter_id']=df_prices['name'].apply(lambda x:ids[x])\n",
    "#df_prices.head()\n",
    "\n",
    "prices={}\n",
    "for ticker, price in zip(df['Company Name'].values,df['Listing Price'].values):\n",
    "    prices[ticker]=price\n",
    "df_prices['open_mwk']=df_prices['name'].apply(lambda x:prices[x])\n",
    "df.head()"
   ]
  },
  {
   "cell_type": "code",
   "execution_count": 82,
   "id": "253f2b45",
   "metadata": {},
   "outputs": [],
   "source": [
    "#extract only the required fields\n",
    "df_prices=df_prices[['counter_id','trade_date','open_mwk','daily_range_high', 'daily_range_low','today_closing_price','volume_traded' ]]\n",
    "df_prices.columns=['counter_id','trade_date','open_mwk','high_mwk','low_mwk','close_mwk','volume']"
   ]
  },
  {
   "cell_type": "code",
   "execution_count": 83,
   "id": "abe41860",
   "metadata": {},
   "outputs": [
    {
     "data": {
      "application/vnd.microsoft.datawrangler.viewer.v0+json": {
       "columns": [
        {
         "name": "index",
         "rawType": "int64",
         "type": "integer"
        },
        {
         "name": "counter_id",
         "rawType": "object",
         "type": "string"
        },
        {
         "name": "trade_date",
         "rawType": "object",
         "type": "string"
        },
        {
         "name": "open_mwk",
         "rawType": "float64",
         "type": "float"
        },
        {
         "name": "high_mwk",
         "rawType": "float64",
         "type": "float"
        },
        {
         "name": "low_mwk",
         "rawType": "float64",
         "type": "float"
        },
        {
         "name": "close_mwk",
         "rawType": "float64",
         "type": "float"
        },
        {
         "name": "volume",
         "rawType": "float64",
         "type": "float"
        }
       ],
       "ref": "a40c0350-29ed-49bc-8dba-70b3aed6f145",
       "rows": [],
       "shape": {
        "columns": 7,
        "rows": 0
       }
      },
      "text/html": [
       "<div>\n",
       "<style scoped>\n",
       "    .dataframe tbody tr th:only-of-type {\n",
       "        vertical-align: middle;\n",
       "    }\n",
       "\n",
       "    .dataframe tbody tr th {\n",
       "        vertical-align: top;\n",
       "    }\n",
       "\n",
       "    .dataframe thead th {\n",
       "        text-align: right;\n",
       "    }\n",
       "</style>\n",
       "<table border=\"1\" class=\"dataframe\">\n",
       "  <thead>\n",
       "    <tr style=\"text-align: right;\">\n",
       "      <th></th>\n",
       "      <th>counter_id</th>\n",
       "      <th>trade_date</th>\n",
       "      <th>open_mwk</th>\n",
       "      <th>high_mwk</th>\n",
       "      <th>low_mwk</th>\n",
       "      <th>close_mwk</th>\n",
       "      <th>volume</th>\n",
       "    </tr>\n",
       "  </thead>\n",
       "  <tbody>\n",
       "  </tbody>\n",
       "</table>\n",
       "</div>"
      ],
      "text/plain": [
       "Empty DataFrame\n",
       "Columns: [counter_id, trade_date, open_mwk, high_mwk, low_mwk, close_mwk, volume]\n",
       "Index: []"
      ]
     },
     "execution_count": 83,
     "metadata": {},
     "output_type": "execute_result"
    }
   ],
   "source": [
    "df_prices[df_prices['close_mwk']=='20000(SB)']"
   ]
  },
  {
   "cell_type": "code",
   "execution_count": 84,
   "id": "78a1cc7f",
   "metadata": {},
   "outputs": [
    {
     "name": "stdout",
     "output_type": "stream",
     "text": [
      "<class 'pandas.core.frame.DataFrame'>\n",
      "RangeIndex: 26810 entries, 0 to 26809\n",
      "Data columns (total 7 columns):\n",
      " #   Column      Non-Null Count  Dtype         \n",
      "---  ------      --------------  -----         \n",
      " 0   counter_id  26810 non-null  object        \n",
      " 1   trade_date  26810 non-null  datetime64[ns]\n",
      " 2   open_mwk    26810 non-null  float64       \n",
      " 3   high_mwk    11207 non-null  float64       \n",
      " 4   low_mwk     11207 non-null  float64       \n",
      " 5   close_mwk   25151 non-null  float64       \n",
      " 6   volume      25147 non-null  float64       \n",
      "dtypes: datetime64[ns](1), float64(5), object(1)\n",
      "memory usage: 1.4+ MB\n"
     ]
    }
   ],
   "source": [
    "#df_prices.to_csv(DIR_OUTPUT / \"master_dataset.csv\")\n",
    "df_prices['volume']=df_prices['volume'].astype(float)\n",
    "df_prices['trade_date'] = pd.to_datetime(df_prices['trade_date'])\n",
    "df_prices['close_mwk']=df_prices['close_mwk'].astype(float)\n",
    "df_prices.info()"
   ]
  },
  {
   "cell_type": "code",
   "execution_count": 85,
   "id": "66cd79ed",
   "metadata": {},
   "outputs": [],
   "source": [
    "load_dotenv()  \n",
    "\n",
    "PGHOST = os.getenv(\"PGHOST\", \"localhost\")\n",
    "PGPORT = os.getenv(\"PGPORT\", \"5432\")\n",
    "PGDATABASE = os.getenv(\"PGDATABASE\", \"mse_db\")\n",
    "PGUSER = os.getenv(\"PGUSER\", \"geo\")\n",
    "PGPASSWORD = os.getenv(\"PGPASSWORD\", \"\")"
   ]
  },
  {
   "cell_type": "code",
   "execution_count": 86,
   "id": "2a6f5902",
   "metadata": {},
   "outputs": [
    {
     "name": "stdout",
     "output_type": "stream",
     "text": [
      "PostgreSQL Connection Settings:\n",
      "Host: localhost\n",
      "Port: 5432\n",
      "Database: mse_db\n",
      "User: geo\n",
      "Password: [NOT SET]\n"
     ]
    }
   ],
   "source": [
    "print(\"PostgreSQL Connection Settings:\")\n",
    "print(f\"Host: {PGHOST}\")\n",
    "print(f\"Port: {PGPORT}\")\n",
    "print(f\"Database: {PGDATABASE}\")\n",
    "print(f\"User: {PGUSER}\")\n",
    "print(f\"Password: {'[SET]' if PGPASSWORD else '[NOT SET]'}\")"
   ]
  },
  {
   "cell_type": "code",
   "execution_count": 87,
   "id": "bb5d75ad",
   "metadata": {},
   "outputs": [
    {
     "name": "stdout",
     "output_type": "stream",
     "text": [
      "Connection psql string: postgresql+psycopg2://geo:@localhost:5432/mse_db\n"
     ]
    }
   ],
   "source": [
    "# Create SQLAlchemy engine (no password needed for local connections)\n",
    "connection_string = f\"postgresql+psycopg2://{PGUSER}:{PGPASSWORD}@{PGHOST}:{PGPORT}/{PGDATABASE}\"\n",
    "print(\"Connection psql string:\", connection_string)"
   ]
  },
  {
   "cell_type": "code",
   "execution_count": 88,
   "id": "672aa874",
   "metadata": {},
   "outputs": [
    {
     "name": "stdout",
     "output_type": "stream",
     "text": [
      "Connected as: ('geo', 'mse_db')\n"
     ]
    }
   ],
   "source": [
    "engine = create_engine(\n",
    "    connection_string,\n",
    "    pool_pre_ping=True,\n",
    ")\n",
    "\n",
    "# Test the connection\n",
    "with engine.connect() as conn:\n",
    "    who = conn.execute(text(\"SELECT current_user, current_database();\")).fetchone()\n",
    "    print(\"Connected as:\", who)"
   ]
  },
  {
   "cell_type": "code",
   "execution_count": 89,
   "id": "c9ec863c",
   "metadata": {},
   "outputs": [],
   "source": [
    "engine = create_engine(\n",
    "    connection_string,\n",
    "    pool_pre_ping=True,\n",
    ")\n",
    "# create a table\n",
    "query = \"\"\"create table if not exists counters (counter_id text primary key, ticker text not null, name text not null, listing_price real not null, date_listed date not null);\"\"\"\n",
    "with engine.begin() as conn:\n",
    "    conn.execute(text(query))"
   ]
  },
  {
   "cell_type": "code",
   "execution_count": 90,
   "id": "80c3cdc3",
   "metadata": {},
   "outputs": [
    {
     "name": "stderr",
     "output_type": "stream",
     "text": [
      "C:\\Users\\Geoffrey-RISA\\AppData\\Local\\Temp\\ipykernel_15596\\1463308007.py:5: UserWarning: Could not infer format, so each element will be parsed individually, falling back to `dateutil`. To ensure parsing is consistent and as-expected, please specify a format.\n",
      "  df['date_listed'] = pd.to_datetime(df['date_listed']).dt.date\n"
     ]
    },
    {
     "data": {
      "application/vnd.microsoft.datawrangler.viewer.v0+json": {
       "columns": [
        {
         "name": "index",
         "rawType": "int64",
         "type": "integer"
        },
        {
         "name": "counter_id",
         "rawType": "object",
         "type": "string"
        },
        {
         "name": "ticker",
         "rawType": "object",
         "type": "string"
        },
        {
         "name": "name",
         "rawType": "object",
         "type": "string"
        },
        {
         "name": "listing_price",
         "rawType": "float64",
         "type": "float"
        },
        {
         "name": "date_listed",
         "rawType": "object",
         "type": "unknown"
        }
       ],
       "ref": "ee486a5f-dcc7-41f4-a064-f28dfd35ce78",
       "rows": [
        [
         "0",
         "MWAIRT001156",
         "AIRTEL",
         "AIRTEL MALAWI PLC",
         "12.69",
         "2020-02-24"
        ],
        [
         "1",
         "MWBHL0010029",
         "BHL",
         "BLANTYRE HOTELS PLC",
         "0.84",
         "1997-03-25"
        ],
        [
         "2",
         "MWFDHB001166",
         "FDHB",
         "FDH BANK PLC",
         "10.0",
         "2020-08-03"
        ],
        [
         "3",
         "MWFMB0010138",
         "FMBCH",
         "FMB CAPITAL HOLDINGS PLC",
         "45.01",
         "2017-09-18"
        ],
        [
         "4",
         "MWICON001146",
         "ICON",
         "ICON PROPERTIES PLC",
         "8.75",
         "2019-01-21"
        ]
       ],
       "shape": {
        "columns": 5,
        "rows": 5
       }
      },
      "text/html": [
       "<div>\n",
       "<style scoped>\n",
       "    .dataframe tbody tr th:only-of-type {\n",
       "        vertical-align: middle;\n",
       "    }\n",
       "\n",
       "    .dataframe tbody tr th {\n",
       "        vertical-align: top;\n",
       "    }\n",
       "\n",
       "    .dataframe thead th {\n",
       "        text-align: right;\n",
       "    }\n",
       "</style>\n",
       "<table border=\"1\" class=\"dataframe\">\n",
       "  <thead>\n",
       "    <tr style=\"text-align: right;\">\n",
       "      <th></th>\n",
       "      <th>counter_id</th>\n",
       "      <th>ticker</th>\n",
       "      <th>name</th>\n",
       "      <th>listing_price</th>\n",
       "      <th>date_listed</th>\n",
       "    </tr>\n",
       "  </thead>\n",
       "  <tbody>\n",
       "    <tr>\n",
       "      <th>0</th>\n",
       "      <td>MWAIRT001156</td>\n",
       "      <td>AIRTEL</td>\n",
       "      <td>AIRTEL MALAWI PLC</td>\n",
       "      <td>12.69</td>\n",
       "      <td>2020-02-24</td>\n",
       "    </tr>\n",
       "    <tr>\n",
       "      <th>1</th>\n",
       "      <td>MWBHL0010029</td>\n",
       "      <td>BHL</td>\n",
       "      <td>BLANTYRE HOTELS PLC</td>\n",
       "      <td>0.84</td>\n",
       "      <td>1997-03-25</td>\n",
       "    </tr>\n",
       "    <tr>\n",
       "      <th>2</th>\n",
       "      <td>MWFDHB001166</td>\n",
       "      <td>FDHB</td>\n",
       "      <td>FDH BANK PLC</td>\n",
       "      <td>10.00</td>\n",
       "      <td>2020-08-03</td>\n",
       "    </tr>\n",
       "    <tr>\n",
       "      <th>3</th>\n",
       "      <td>MWFMB0010138</td>\n",
       "      <td>FMBCH</td>\n",
       "      <td>FMB CAPITAL HOLDINGS PLC</td>\n",
       "      <td>45.01</td>\n",
       "      <td>2017-09-18</td>\n",
       "    </tr>\n",
       "    <tr>\n",
       "      <th>4</th>\n",
       "      <td>MWICON001146</td>\n",
       "      <td>ICON</td>\n",
       "      <td>ICON PROPERTIES PLC</td>\n",
       "      <td>8.75</td>\n",
       "      <td>2019-01-21</td>\n",
       "    </tr>\n",
       "  </tbody>\n",
       "</table>\n",
       "</div>"
      ],
      "text/plain": [
       "     counter_id  ticker                      name  listing_price date_listed\n",
       "0  MWAIRT001156  AIRTEL         AIRTEL MALAWI PLC          12.69  2020-02-24\n",
       "1  MWBHL0010029     BHL       BLANTYRE HOTELS PLC           0.84  1997-03-25\n",
       "2  MWFDHB001166    FDHB              FDH BANK PLC          10.00  2020-08-03\n",
       "3  MWFMB0010138   FMBCH  FMB CAPITAL HOLDINGS PLC          45.01  2017-09-18\n",
       "4  MWICON001146    ICON       ICON PROPERTIES PLC           8.75  2019-01-21"
      ]
     },
     "execution_count": 90,
     "metadata": {},
     "output_type": "execute_result"
    }
   ],
   "source": [
    "df=pd.read_csv(r\"C:\\Users\\Geoffrey-RISA\\Documents\\GitHub\\AIMS-DSCBI-WEEK-3\\mse-api-assignment-Geo\\data\\master_csv\\site_data.csv\")\n",
    "df.head()\n",
    "df.columns=['name', 'ticker', 'counter_id', 'listing_price', 'date_listed']\n",
    "df=df[['counter_id', 'ticker', 'name', 'listing_price', 'date_listed']]\n",
    "df['date_listed'] = pd.to_datetime(df['date_listed']).dt.date\n",
    "df['listing_price'] = df['listing_price'].astype(float)\n",
    "df.head()"
   ]
  },
  {
   "cell_type": "code",
   "execution_count": 91,
   "id": "0e861dd6",
   "metadata": {},
   "outputs": [
    {
     "ename": "IntegrityError",
     "evalue": "(psycopg2.errors.UniqueViolation) duplicate key value violates unique constraint \"counters_pkey\"\nDETAIL:  Key (counter_id)=(MWAIRT001156) already exists.\n\n[SQL: INSERT INTO counters (counter_id, ticker, name, listing_price, date_listed) VALUES (%(counter_id__0)s, %(ticker__0)s, %(name__0)s, %(listing_price__0)s, %(date_listed__0)s), (%(counter_id__1)s, %(ticker__1)s, %(name__1)s, %(listing_price__1)s, %(date ... 1217 characters truncated ... 4)s), (%(counter_id__15)s, %(ticker__15)s, %(name__15)s, %(listing_price__15)s, %(date_listed__15)s)]\n[parameters: {'counter_id__0': 'MWAIRT001156', 'date_listed__0': datetime.date(2020, 2, 24), 'ticker__0': 'AIRTEL', 'listing_price__0': 12.69, 'name__0': 'AIRTEL MALAWI PLC', 'counter_id__1': 'MWBHL0010029', 'date_listed__1': datetime.date(1997, 3, 25), 'ticker__1': 'BHL', 'listing_price__1': 0.84, 'name__1': 'BLANTYRE HOTELS PLC', 'counter_id__2': 'MWFDHB001166', 'date_listed__2': datetime.date(2020, 8, 3), 'ticker__2': 'FDHB', 'listing_price__2': 10.0, 'name__2': 'FDH BANK PLC', 'counter_id__3': 'MWFMB0010138', 'date_listed__3': datetime.date(2017, 9, 18), 'ticker__3': 'FMBCH', 'listing_price__3': 45.01, 'name__3': 'FMB CAPITAL HOLDINGS PLC', 'counter_id__4': 'MWICON001146', 'date_listed__4': datetime.date(2019, 1, 21), 'ticker__4': 'ICON', 'listing_price__4': 8.75, 'name__4': 'ICON PROPERTIES PLC', 'counter_id__5': 'MWILLV010032', 'date_listed__5': datetime.date(1997, 11, 10), 'ticker__5': 'ILLOVO', 'listing_price__5': 2.25, 'name__5': 'ILLOVO SUGAR MALAWI PLC', 'counter_id__6': 'MWMPI0010116', 'date_listed__6': datetime.date(2007, 11, 12), 'ticker__6': 'MPICO', 'listing_price__6': 2.25, 'name__6': 'MALAWI PROPERTY INVESTMENT COMPANY PLC', 'counter_id__7': 'MWNBM0010074', 'date_listed__7': datetime.date(2000, 8, 21), 'ticker__7': 'NBM', 'listing_price__7': 4.0, 'name__7': 'NATIONAL BANK OF MALAWI', 'counter_id__8': 'MWNBS0010105', 'date_listed__8': datetime.date(2007, 6, 25), 'ticker__8': 'NBS', 'listing_price__8': 2.6, 'name__8': 'NBS BANK PLC', 'counter_id__9': 'MWNICO010014', 'date_listed__9': datetime.date(1996, 11, 11), 'ticker__9': 'NICO', 'listing_price__9': 2.0, 'name__9': 'NICO HOLDINGS PLC', 'counter_id__10': 'MWNITL010091', 'date_listed__10': datetime.date(2005, 3, 21), 'ticker__10': 'NITL', 'listing_price__10': 2.65, 'name__10': 'NATIONAL INVESTMENT TRUST PLC', 'counter_id__11': 'ZAE000255360', 'date_listed__11': datetime.date(2018, 6, 26), 'ticker__11': 'OMU', 'listing_price__11': 1580.22, 'name__11': 'OLD MUTUAL LIMITED', 'counter_id__12': 'MWPCL0010053', 'date_listed__12': datetime.date(2009, 9, 9), 'ticker__12': 'PCL', 'listing_price__12': 14.89, 'name__12': 'PRESS CORPORATION PLC', 'counter_id__13': 'MWSTD0010041', 'date_listed__13': datetime.date(1998, 6, 29), 'ticker__13': 'STANDARD', 'listing_price__13': 3.25, 'name__13': 'STANDARD BANK MALAWI PLC', 'counter_id__14': 'MWSTL0010085', 'date_listed__14': datetime.date(2002, 8, 21), 'ticker__14': 'SUNBIRD', 'listing_price__14': 2.6, 'name__14': 'SUNBIRD TOURISM PLC', 'counter_id__15': 'MWTNM0010126', 'date_listed__15': datetime.date(2008, 11, 3), 'ticker__15': 'TNM', 'listing_price__15': 2.0, 'name__15': 'TELEKOM NETWORKS MALAWI PLC'}]\n(Background on this error at: https://sqlalche.me/e/20/gkpj)",
     "output_type": "error",
     "traceback": [
      "\u001b[31m---------------------------------------------------------------------------\u001b[39m",
      "\u001b[31mUniqueViolation\u001b[39m                           Traceback (most recent call last)",
      "\u001b[36mFile \u001b[39m\u001b[32m~\\AppData\\Roaming\\Python\\Python311\\site-packages\\sqlalchemy\\engine\\base.py:2118\u001b[39m, in \u001b[36mConnection._exec_insertmany_context\u001b[39m\u001b[34m(self, dialect, context)\u001b[39m\n\u001b[32m   2117\u001b[39m     \u001b[38;5;28;01melse\u001b[39;00m:\n\u001b[32m-> \u001b[39m\u001b[32m2118\u001b[39m         \u001b[43mdialect\u001b[49m\u001b[43m.\u001b[49m\u001b[43mdo_execute\u001b[49m\u001b[43m(\u001b[49m\n\u001b[32m   2119\u001b[39m \u001b[43m            \u001b[49m\u001b[43mcursor\u001b[49m\u001b[43m,\u001b[49m\n\u001b[32m   2120\u001b[39m \u001b[43m            \u001b[49m\u001b[43msub_stmt\u001b[49m\u001b[43m,\u001b[49m\n\u001b[32m   2121\u001b[39m \u001b[43m            \u001b[49m\u001b[43msub_params\u001b[49m\u001b[43m,\u001b[49m\n\u001b[32m   2122\u001b[39m \u001b[43m            \u001b[49m\u001b[43mcontext\u001b[49m\u001b[43m,\u001b[49m\n\u001b[32m   2123\u001b[39m \u001b[43m        \u001b[49m\u001b[43m)\u001b[49m\n\u001b[32m   2125\u001b[39m \u001b[38;5;28;01mexcept\u001b[39;00m \u001b[38;5;167;01mBaseException\u001b[39;00m \u001b[38;5;28;01mas\u001b[39;00m e:\n",
      "\u001b[36mFile \u001b[39m\u001b[32m~\\AppData\\Roaming\\Python\\Python311\\site-packages\\sqlalchemy\\engine\\default.py:951\u001b[39m, in \u001b[36mDefaultDialect.do_execute\u001b[39m\u001b[34m(self, cursor, statement, parameters, context)\u001b[39m\n\u001b[32m    950\u001b[39m \u001b[38;5;28;01mdef\u001b[39;00m\u001b[38;5;250m \u001b[39m\u001b[34mdo_execute\u001b[39m(\u001b[38;5;28mself\u001b[39m, cursor, statement, parameters, context=\u001b[38;5;28;01mNone\u001b[39;00m):\n\u001b[32m--> \u001b[39m\u001b[32m951\u001b[39m     \u001b[43mcursor\u001b[49m\u001b[43m.\u001b[49m\u001b[43mexecute\u001b[49m\u001b[43m(\u001b[49m\u001b[43mstatement\u001b[49m\u001b[43m,\u001b[49m\u001b[43m \u001b[49m\u001b[43mparameters\u001b[49m\u001b[43m)\u001b[49m\n",
      "\u001b[31mUniqueViolation\u001b[39m: duplicate key value violates unique constraint \"counters_pkey\"\nDETAIL:  Key (counter_id)=(MWAIRT001156) already exists.\n",
      "\nThe above exception was the direct cause of the following exception:\n",
      "\u001b[31mIntegrityError\u001b[39m                            Traceback (most recent call last)",
      "\u001b[36mCell\u001b[39m\u001b[36m \u001b[39m\u001b[32mIn[91]\u001b[39m\u001b[32m, line 1\u001b[39m\n\u001b[32m----> \u001b[39m\u001b[32m1\u001b[39m \u001b[43mdf\u001b[49m\u001b[43m.\u001b[49m\u001b[43mto_sql\u001b[49m\u001b[43m(\u001b[49m\u001b[33;43m'\u001b[39;49m\u001b[33;43mcounters\u001b[39;49m\u001b[33;43m'\u001b[39;49m\u001b[43m,\u001b[49m\u001b[43m \u001b[49m\u001b[43mengine\u001b[49m\u001b[43m,\u001b[49m\u001b[43m \u001b[49m\u001b[43mif_exists\u001b[49m\u001b[43m=\u001b[49m\u001b[33;43m'\u001b[39;49m\u001b[33;43mappend\u001b[39;49m\u001b[33;43m'\u001b[39;49m\u001b[43m,\u001b[49m\u001b[43m \u001b[49m\u001b[43mindex\u001b[49m\u001b[43m=\u001b[49m\u001b[38;5;28;43;01mFalse\u001b[39;49;00m\u001b[43m)\u001b[49m\n",
      "\u001b[36mFile \u001b[39m\u001b[32m~\\AppData\\Roaming\\Python\\Python311\\site-packages\\pandas\\util\\_decorators.py:333\u001b[39m, in \u001b[36mdeprecate_nonkeyword_arguments.<locals>.decorate.<locals>.wrapper\u001b[39m\u001b[34m(*args, **kwargs)\u001b[39m\n\u001b[32m    327\u001b[39m \u001b[38;5;28;01mif\u001b[39;00m \u001b[38;5;28mlen\u001b[39m(args) > num_allow_args:\n\u001b[32m    328\u001b[39m     warnings.warn(\n\u001b[32m    329\u001b[39m         msg.format(arguments=_format_argument_list(allow_args)),\n\u001b[32m    330\u001b[39m         \u001b[38;5;167;01mFutureWarning\u001b[39;00m,\n\u001b[32m    331\u001b[39m         stacklevel=find_stack_level(),\n\u001b[32m    332\u001b[39m     )\n\u001b[32m--> \u001b[39m\u001b[32m333\u001b[39m \u001b[38;5;28;01mreturn\u001b[39;00m \u001b[43mfunc\u001b[49m\u001b[43m(\u001b[49m\u001b[43m*\u001b[49m\u001b[43margs\u001b[49m\u001b[43m,\u001b[49m\u001b[43m \u001b[49m\u001b[43m*\u001b[49m\u001b[43m*\u001b[49m\u001b[43mkwargs\u001b[49m\u001b[43m)\u001b[49m\n",
      "\u001b[36mFile \u001b[39m\u001b[32m~\\AppData\\Roaming\\Python\\Python311\\site-packages\\pandas\\core\\generic.py:3106\u001b[39m, in \u001b[36mNDFrame.to_sql\u001b[39m\u001b[34m(self, name, con, schema, if_exists, index, index_label, chunksize, dtype, method)\u001b[39m\n\u001b[32m   2908\u001b[39m \u001b[38;5;250m\u001b[39m\u001b[33;03m\"\"\"\u001b[39;00m\n\u001b[32m   2909\u001b[39m \u001b[33;03mWrite records stored in a DataFrame to a SQL database.\u001b[39;00m\n\u001b[32m   2910\u001b[39m \n\u001b[32m   (...)\u001b[39m\u001b[32m   3102\u001b[39m \u001b[33;03m[(1,), (None,), (2,)]\u001b[39;00m\n\u001b[32m   3103\u001b[39m \u001b[33;03m\"\"\"\u001b[39;00m  \u001b[38;5;66;03m# noqa: E501\u001b[39;00m\n\u001b[32m   3104\u001b[39m \u001b[38;5;28;01mfrom\u001b[39;00m\u001b[38;5;250m \u001b[39m\u001b[34;01mpandas\u001b[39;00m\u001b[34;01m.\u001b[39;00m\u001b[34;01mio\u001b[39;00m\u001b[38;5;250m \u001b[39m\u001b[38;5;28;01mimport\u001b[39;00m sql\n\u001b[32m-> \u001b[39m\u001b[32m3106\u001b[39m \u001b[38;5;28;01mreturn\u001b[39;00m \u001b[43msql\u001b[49m\u001b[43m.\u001b[49m\u001b[43mto_sql\u001b[49m\u001b[43m(\u001b[49m\n\u001b[32m   3107\u001b[39m \u001b[43m    \u001b[49m\u001b[38;5;28;43mself\u001b[39;49m\u001b[43m,\u001b[49m\n\u001b[32m   3108\u001b[39m \u001b[43m    \u001b[49m\u001b[43mname\u001b[49m\u001b[43m,\u001b[49m\n\u001b[32m   3109\u001b[39m \u001b[43m    \u001b[49m\u001b[43mcon\u001b[49m\u001b[43m,\u001b[49m\n\u001b[32m   3110\u001b[39m \u001b[43m    \u001b[49m\u001b[43mschema\u001b[49m\u001b[43m=\u001b[49m\u001b[43mschema\u001b[49m\u001b[43m,\u001b[49m\n\u001b[32m   3111\u001b[39m \u001b[43m    \u001b[49m\u001b[43mif_exists\u001b[49m\u001b[43m=\u001b[49m\u001b[43mif_exists\u001b[49m\u001b[43m,\u001b[49m\n\u001b[32m   3112\u001b[39m \u001b[43m    \u001b[49m\u001b[43mindex\u001b[49m\u001b[43m=\u001b[49m\u001b[43mindex\u001b[49m\u001b[43m,\u001b[49m\n\u001b[32m   3113\u001b[39m \u001b[43m    \u001b[49m\u001b[43mindex_label\u001b[49m\u001b[43m=\u001b[49m\u001b[43mindex_label\u001b[49m\u001b[43m,\u001b[49m\n\u001b[32m   3114\u001b[39m \u001b[43m    \u001b[49m\u001b[43mchunksize\u001b[49m\u001b[43m=\u001b[49m\u001b[43mchunksize\u001b[49m\u001b[43m,\u001b[49m\n\u001b[32m   3115\u001b[39m \u001b[43m    \u001b[49m\u001b[43mdtype\u001b[49m\u001b[43m=\u001b[49m\u001b[43mdtype\u001b[49m\u001b[43m,\u001b[49m\n\u001b[32m   3116\u001b[39m \u001b[43m    \u001b[49m\u001b[43mmethod\u001b[49m\u001b[43m=\u001b[49m\u001b[43mmethod\u001b[49m\u001b[43m,\u001b[49m\n\u001b[32m   3117\u001b[39m \u001b[43m\u001b[49m\u001b[43m)\u001b[49m\n",
      "\u001b[36mFile \u001b[39m\u001b[32m~\\AppData\\Roaming\\Python\\Python311\\site-packages\\pandas\\io\\sql.py:844\u001b[39m, in \u001b[36mto_sql\u001b[39m\u001b[34m(frame, name, con, schema, if_exists, index, index_label, chunksize, dtype, method, engine, **engine_kwargs)\u001b[39m\n\u001b[32m    839\u001b[39m     \u001b[38;5;28;01mraise\u001b[39;00m \u001b[38;5;167;01mNotImplementedError\u001b[39;00m(\n\u001b[32m    840\u001b[39m         \u001b[33m\"\u001b[39m\u001b[33m'\u001b[39m\u001b[33mframe\u001b[39m\u001b[33m'\u001b[39m\u001b[33m argument should be either a Series or a DataFrame\u001b[39m\u001b[33m\"\u001b[39m\n\u001b[32m    841\u001b[39m     )\n\u001b[32m    843\u001b[39m \u001b[38;5;28;01mwith\u001b[39;00m pandasSQL_builder(con, schema=schema, need_transaction=\u001b[38;5;28;01mTrue\u001b[39;00m) \u001b[38;5;28;01mas\u001b[39;00m pandas_sql:\n\u001b[32m--> \u001b[39m\u001b[32m844\u001b[39m     \u001b[38;5;28;01mreturn\u001b[39;00m \u001b[43mpandas_sql\u001b[49m\u001b[43m.\u001b[49m\u001b[43mto_sql\u001b[49m\u001b[43m(\u001b[49m\n\u001b[32m    845\u001b[39m \u001b[43m        \u001b[49m\u001b[43mframe\u001b[49m\u001b[43m,\u001b[49m\n\u001b[32m    846\u001b[39m \u001b[43m        \u001b[49m\u001b[43mname\u001b[49m\u001b[43m,\u001b[49m\n\u001b[32m    847\u001b[39m \u001b[43m        \u001b[49m\u001b[43mif_exists\u001b[49m\u001b[43m=\u001b[49m\u001b[43mif_exists\u001b[49m\u001b[43m,\u001b[49m\n\u001b[32m    848\u001b[39m \u001b[43m        \u001b[49m\u001b[43mindex\u001b[49m\u001b[43m=\u001b[49m\u001b[43mindex\u001b[49m\u001b[43m,\u001b[49m\n\u001b[32m    849\u001b[39m \u001b[43m        \u001b[49m\u001b[43mindex_label\u001b[49m\u001b[43m=\u001b[49m\u001b[43mindex_label\u001b[49m\u001b[43m,\u001b[49m\n\u001b[32m    850\u001b[39m \u001b[43m        \u001b[49m\u001b[43mschema\u001b[49m\u001b[43m=\u001b[49m\u001b[43mschema\u001b[49m\u001b[43m,\u001b[49m\n\u001b[32m    851\u001b[39m \u001b[43m        \u001b[49m\u001b[43mchunksize\u001b[49m\u001b[43m=\u001b[49m\u001b[43mchunksize\u001b[49m\u001b[43m,\u001b[49m\n\u001b[32m    852\u001b[39m \u001b[43m        \u001b[49m\u001b[43mdtype\u001b[49m\u001b[43m=\u001b[49m\u001b[43mdtype\u001b[49m\u001b[43m,\u001b[49m\n\u001b[32m    853\u001b[39m \u001b[43m        \u001b[49m\u001b[43mmethod\u001b[49m\u001b[43m=\u001b[49m\u001b[43mmethod\u001b[49m\u001b[43m,\u001b[49m\n\u001b[32m    854\u001b[39m \u001b[43m        \u001b[49m\u001b[43mengine\u001b[49m\u001b[43m=\u001b[49m\u001b[43mengine\u001b[49m\u001b[43m,\u001b[49m\n\u001b[32m    855\u001b[39m \u001b[43m        \u001b[49m\u001b[43m*\u001b[49m\u001b[43m*\u001b[49m\u001b[43mengine_kwargs\u001b[49m\u001b[43m,\u001b[49m\n\u001b[32m    856\u001b[39m \u001b[43m    \u001b[49m\u001b[43m)\u001b[49m\n",
      "\u001b[36mFile \u001b[39m\u001b[32m~\\AppData\\Roaming\\Python\\Python311\\site-packages\\pandas\\io\\sql.py:2030\u001b[39m, in \u001b[36mSQLDatabase.to_sql\u001b[39m\u001b[34m(self, frame, name, if_exists, index, index_label, schema, chunksize, dtype, method, engine, **engine_kwargs)\u001b[39m\n\u001b[32m   2018\u001b[39m sql_engine = get_engine(engine)\n\u001b[32m   2020\u001b[39m table = \u001b[38;5;28mself\u001b[39m.prep_table(\n\u001b[32m   2021\u001b[39m     frame=frame,\n\u001b[32m   2022\u001b[39m     name=name,\n\u001b[32m   (...)\u001b[39m\u001b[32m   2027\u001b[39m     dtype=dtype,\n\u001b[32m   2028\u001b[39m )\n\u001b[32m-> \u001b[39m\u001b[32m2030\u001b[39m total_inserted = \u001b[43msql_engine\u001b[49m\u001b[43m.\u001b[49m\u001b[43minsert_records\u001b[49m\u001b[43m(\u001b[49m\n\u001b[32m   2031\u001b[39m \u001b[43m    \u001b[49m\u001b[43mtable\u001b[49m\u001b[43m=\u001b[49m\u001b[43mtable\u001b[49m\u001b[43m,\u001b[49m\n\u001b[32m   2032\u001b[39m \u001b[43m    \u001b[49m\u001b[43mcon\u001b[49m\u001b[43m=\u001b[49m\u001b[38;5;28;43mself\u001b[39;49m\u001b[43m.\u001b[49m\u001b[43mcon\u001b[49m\u001b[43m,\u001b[49m\n\u001b[32m   2033\u001b[39m \u001b[43m    \u001b[49m\u001b[43mframe\u001b[49m\u001b[43m=\u001b[49m\u001b[43mframe\u001b[49m\u001b[43m,\u001b[49m\n\u001b[32m   2034\u001b[39m \u001b[43m    \u001b[49m\u001b[43mname\u001b[49m\u001b[43m=\u001b[49m\u001b[43mname\u001b[49m\u001b[43m,\u001b[49m\n\u001b[32m   2035\u001b[39m \u001b[43m    \u001b[49m\u001b[43mindex\u001b[49m\u001b[43m=\u001b[49m\u001b[43mindex\u001b[49m\u001b[43m,\u001b[49m\n\u001b[32m   2036\u001b[39m \u001b[43m    \u001b[49m\u001b[43mschema\u001b[49m\u001b[43m=\u001b[49m\u001b[43mschema\u001b[49m\u001b[43m,\u001b[49m\n\u001b[32m   2037\u001b[39m \u001b[43m    \u001b[49m\u001b[43mchunksize\u001b[49m\u001b[43m=\u001b[49m\u001b[43mchunksize\u001b[49m\u001b[43m,\u001b[49m\n\u001b[32m   2038\u001b[39m \u001b[43m    \u001b[49m\u001b[43mmethod\u001b[49m\u001b[43m=\u001b[49m\u001b[43mmethod\u001b[49m\u001b[43m,\u001b[49m\n\u001b[32m   2039\u001b[39m \u001b[43m    \u001b[49m\u001b[43m*\u001b[49m\u001b[43m*\u001b[49m\u001b[43mengine_kwargs\u001b[49m\u001b[43m,\u001b[49m\n\u001b[32m   2040\u001b[39m \u001b[43m\u001b[49m\u001b[43m)\u001b[49m\n\u001b[32m   2042\u001b[39m \u001b[38;5;28mself\u001b[39m.check_case_sensitive(name=name, schema=schema)\n\u001b[32m   2043\u001b[39m \u001b[38;5;28;01mreturn\u001b[39;00m total_inserted\n",
      "\u001b[36mFile \u001b[39m\u001b[32m~\\AppData\\Roaming\\Python\\Python311\\site-packages\\pandas\\io\\sql.py:1579\u001b[39m, in \u001b[36mSQLAlchemyEngine.insert_records\u001b[39m\u001b[34m(self, table, con, frame, name, index, schema, chunksize, method, **engine_kwargs)\u001b[39m\n\u001b[32m   1577\u001b[39m \u001b[38;5;28;01mif\u001b[39;00m re.search(msg, err_text):\n\u001b[32m   1578\u001b[39m     \u001b[38;5;28;01mraise\u001b[39;00m \u001b[38;5;167;01mValueError\u001b[39;00m(\u001b[33m\"\u001b[39m\u001b[33minf cannot be used with MySQL\u001b[39m\u001b[33m\"\u001b[39m) \u001b[38;5;28;01mfrom\u001b[39;00m\u001b[38;5;250m \u001b[39m\u001b[34;01merr\u001b[39;00m\n\u001b[32m-> \u001b[39m\u001b[32m1579\u001b[39m \u001b[38;5;28;01mraise\u001b[39;00m err\n",
      "\u001b[36mFile \u001b[39m\u001b[32m~\\AppData\\Roaming\\Python\\Python311\\site-packages\\pandas\\io\\sql.py:1570\u001b[39m, in \u001b[36mSQLAlchemyEngine.insert_records\u001b[39m\u001b[34m(self, table, con, frame, name, index, schema, chunksize, method, **engine_kwargs)\u001b[39m\n\u001b[32m   1567\u001b[39m \u001b[38;5;28;01mfrom\u001b[39;00m\u001b[38;5;250m \u001b[39m\u001b[34;01msqlalchemy\u001b[39;00m\u001b[38;5;250m \u001b[39m\u001b[38;5;28;01mimport\u001b[39;00m exc\n\u001b[32m   1569\u001b[39m \u001b[38;5;28;01mtry\u001b[39;00m:\n\u001b[32m-> \u001b[39m\u001b[32m1570\u001b[39m     \u001b[38;5;28;01mreturn\u001b[39;00m \u001b[43mtable\u001b[49m\u001b[43m.\u001b[49m\u001b[43minsert\u001b[49m\u001b[43m(\u001b[49m\u001b[43mchunksize\u001b[49m\u001b[43m=\u001b[49m\u001b[43mchunksize\u001b[49m\u001b[43m,\u001b[49m\u001b[43m \u001b[49m\u001b[43mmethod\u001b[49m\u001b[43m=\u001b[49m\u001b[43mmethod\u001b[49m\u001b[43m)\u001b[49m\n\u001b[32m   1571\u001b[39m \u001b[38;5;28;01mexcept\u001b[39;00m exc.StatementError \u001b[38;5;28;01mas\u001b[39;00m err:\n\u001b[32m   1572\u001b[39m     \u001b[38;5;66;03m# GH34431\u001b[39;00m\n\u001b[32m   1573\u001b[39m     \u001b[38;5;66;03m# https://stackoverflow.com/a/67358288/6067848\u001b[39;00m\n\u001b[32m   1574\u001b[39m     msg = \u001b[33mr\u001b[39m\u001b[33m\"\"\"\u001b[39m\u001b[33m(\u001b[39m\u001b[33m\\\u001b[39m\u001b[33m(1054, \u001b[39m\u001b[33m\"\u001b[39m\u001b[33mUnknown column \u001b[39m\u001b[33m'\u001b[39m\u001b[33minf(e0)?\u001b[39m\u001b[33m'\u001b[39m\u001b[33m in \u001b[39m\u001b[33m'\u001b[39m\u001b[33mfield list\u001b[39m\u001b[33m'\u001b[39m\u001b[33m\"\u001b[39m\u001b[33m\\\u001b[39m\u001b[33m))(?#\u001b[39m\n\u001b[32m   1575\u001b[39m \u001b[33m    )|inf can not be used with MySQL\u001b[39m\u001b[33m\"\"\"\u001b[39m\n",
      "\u001b[36mFile \u001b[39m\u001b[32m~\\AppData\\Roaming\\Python\\Python311\\site-packages\\pandas\\io\\sql.py:1121\u001b[39m, in \u001b[36mSQLTable.insert\u001b[39m\u001b[34m(self, chunksize, method)\u001b[39m\n\u001b[32m   1118\u001b[39m     \u001b[38;5;28;01mbreak\u001b[39;00m\n\u001b[32m   1120\u001b[39m chunk_iter = \u001b[38;5;28mzip\u001b[39m(*(arr[start_i:end_i] \u001b[38;5;28;01mfor\u001b[39;00m arr \u001b[38;5;129;01min\u001b[39;00m data_list))\n\u001b[32m-> \u001b[39m\u001b[32m1121\u001b[39m num_inserted = \u001b[43mexec_insert\u001b[49m\u001b[43m(\u001b[49m\u001b[43mconn\u001b[49m\u001b[43m,\u001b[49m\u001b[43m \u001b[49m\u001b[43mkeys\u001b[49m\u001b[43m,\u001b[49m\u001b[43m \u001b[49m\u001b[43mchunk_iter\u001b[49m\u001b[43m)\u001b[49m\n\u001b[32m   1122\u001b[39m \u001b[38;5;66;03m# GH 46891\u001b[39;00m\n\u001b[32m   1123\u001b[39m \u001b[38;5;28;01mif\u001b[39;00m num_inserted \u001b[38;5;129;01mis\u001b[39;00m \u001b[38;5;129;01mnot\u001b[39;00m \u001b[38;5;28;01mNone\u001b[39;00m:\n",
      "\u001b[36mFile \u001b[39m\u001b[32m~\\AppData\\Roaming\\Python\\Python311\\site-packages\\pandas\\io\\sql.py:1012\u001b[39m, in \u001b[36mSQLTable._execute_insert\u001b[39m\u001b[34m(self, conn, keys, data_iter)\u001b[39m\n\u001b[32m   1000\u001b[39m \u001b[38;5;250m\u001b[39m\u001b[33;03m\"\"\"\u001b[39;00m\n\u001b[32m   1001\u001b[39m \u001b[33;03mExecute SQL statement inserting data\u001b[39;00m\n\u001b[32m   1002\u001b[39m \n\u001b[32m   (...)\u001b[39m\u001b[32m   1009\u001b[39m \u001b[33;03m   Each item contains a list of values to be inserted\u001b[39;00m\n\u001b[32m   1010\u001b[39m \u001b[33;03m\"\"\"\u001b[39;00m\n\u001b[32m   1011\u001b[39m data = [\u001b[38;5;28mdict\u001b[39m(\u001b[38;5;28mzip\u001b[39m(keys, row)) \u001b[38;5;28;01mfor\u001b[39;00m row \u001b[38;5;129;01min\u001b[39;00m data_iter]\n\u001b[32m-> \u001b[39m\u001b[32m1012\u001b[39m result = \u001b[43mconn\u001b[49m\u001b[43m.\u001b[49m\u001b[43mexecute\u001b[49m\u001b[43m(\u001b[49m\u001b[38;5;28;43mself\u001b[39;49m\u001b[43m.\u001b[49m\u001b[43mtable\u001b[49m\u001b[43m.\u001b[49m\u001b[43minsert\u001b[49m\u001b[43m(\u001b[49m\u001b[43m)\u001b[49m\u001b[43m,\u001b[49m\u001b[43m \u001b[49m\u001b[43mdata\u001b[49m\u001b[43m)\u001b[49m\n\u001b[32m   1013\u001b[39m \u001b[38;5;28;01mreturn\u001b[39;00m result.rowcount\n",
      "\u001b[36mFile \u001b[39m\u001b[32m~\\AppData\\Roaming\\Python\\Python311\\site-packages\\sqlalchemy\\engine\\base.py:1419\u001b[39m, in \u001b[36mConnection.execute\u001b[39m\u001b[34m(self, statement, parameters, execution_options)\u001b[39m\n\u001b[32m   1417\u001b[39m     \u001b[38;5;28;01mraise\u001b[39;00m exc.ObjectNotExecutableError(statement) \u001b[38;5;28;01mfrom\u001b[39;00m\u001b[38;5;250m \u001b[39m\u001b[34;01merr\u001b[39;00m\n\u001b[32m   1418\u001b[39m \u001b[38;5;28;01melse\u001b[39;00m:\n\u001b[32m-> \u001b[39m\u001b[32m1419\u001b[39m     \u001b[38;5;28;01mreturn\u001b[39;00m \u001b[43mmeth\u001b[49m\u001b[43m(\u001b[49m\n\u001b[32m   1420\u001b[39m \u001b[43m        \u001b[49m\u001b[38;5;28;43mself\u001b[39;49m\u001b[43m,\u001b[49m\n\u001b[32m   1421\u001b[39m \u001b[43m        \u001b[49m\u001b[43mdistilled_parameters\u001b[49m\u001b[43m,\u001b[49m\n\u001b[32m   1422\u001b[39m \u001b[43m        \u001b[49m\u001b[43mexecution_options\u001b[49m\u001b[43m \u001b[49m\u001b[38;5;129;43;01mor\u001b[39;49;00m\u001b[43m \u001b[49m\u001b[43mNO_OPTIONS\u001b[49m\u001b[43m,\u001b[49m\n\u001b[32m   1423\u001b[39m \u001b[43m    \u001b[49m\u001b[43m)\u001b[49m\n",
      "\u001b[36mFile \u001b[39m\u001b[32m~\\AppData\\Roaming\\Python\\Python311\\site-packages\\sqlalchemy\\sql\\elements.py:526\u001b[39m, in \u001b[36mClauseElement._execute_on_connection\u001b[39m\u001b[34m(self, connection, distilled_params, execution_options)\u001b[39m\n\u001b[32m    524\u001b[39m     \u001b[38;5;28;01mif\u001b[39;00m TYPE_CHECKING:\n\u001b[32m    525\u001b[39m         \u001b[38;5;28;01massert\u001b[39;00m \u001b[38;5;28misinstance\u001b[39m(\u001b[38;5;28mself\u001b[39m, Executable)\n\u001b[32m--> \u001b[39m\u001b[32m526\u001b[39m     \u001b[38;5;28;01mreturn\u001b[39;00m \u001b[43mconnection\u001b[49m\u001b[43m.\u001b[49m\u001b[43m_execute_clauseelement\u001b[49m\u001b[43m(\u001b[49m\n\u001b[32m    527\u001b[39m \u001b[43m        \u001b[49m\u001b[38;5;28;43mself\u001b[39;49m\u001b[43m,\u001b[49m\u001b[43m \u001b[49m\u001b[43mdistilled_params\u001b[49m\u001b[43m,\u001b[49m\u001b[43m \u001b[49m\u001b[43mexecution_options\u001b[49m\n\u001b[32m    528\u001b[39m \u001b[43m    \u001b[49m\u001b[43m)\u001b[49m\n\u001b[32m    529\u001b[39m \u001b[38;5;28;01melse\u001b[39;00m:\n\u001b[32m    530\u001b[39m     \u001b[38;5;28;01mraise\u001b[39;00m exc.ObjectNotExecutableError(\u001b[38;5;28mself\u001b[39m)\n",
      "\u001b[36mFile \u001b[39m\u001b[32m~\\AppData\\Roaming\\Python\\Python311\\site-packages\\sqlalchemy\\engine\\base.py:1641\u001b[39m, in \u001b[36mConnection._execute_clauseelement\u001b[39m\u001b[34m(self, elem, distilled_parameters, execution_options)\u001b[39m\n\u001b[32m   1629\u001b[39m compiled_cache: Optional[CompiledCacheType] = execution_options.get(\n\u001b[32m   1630\u001b[39m     \u001b[33m\"\u001b[39m\u001b[33mcompiled_cache\u001b[39m\u001b[33m\"\u001b[39m, \u001b[38;5;28mself\u001b[39m.engine._compiled_cache\n\u001b[32m   1631\u001b[39m )\n\u001b[32m   1633\u001b[39m compiled_sql, extracted_params, cache_hit = elem._compile_w_cache(\n\u001b[32m   1634\u001b[39m     dialect=dialect,\n\u001b[32m   1635\u001b[39m     compiled_cache=compiled_cache,\n\u001b[32m   (...)\u001b[39m\u001b[32m   1639\u001b[39m     linting=\u001b[38;5;28mself\u001b[39m.dialect.compiler_linting | compiler.WARN_LINTING,\n\u001b[32m   1640\u001b[39m )\n\u001b[32m-> \u001b[39m\u001b[32m1641\u001b[39m ret = \u001b[38;5;28;43mself\u001b[39;49m\u001b[43m.\u001b[49m\u001b[43m_execute_context\u001b[49m\u001b[43m(\u001b[49m\n\u001b[32m   1642\u001b[39m \u001b[43m    \u001b[49m\u001b[43mdialect\u001b[49m\u001b[43m,\u001b[49m\n\u001b[32m   1643\u001b[39m \u001b[43m    \u001b[49m\u001b[43mdialect\u001b[49m\u001b[43m.\u001b[49m\u001b[43mexecution_ctx_cls\u001b[49m\u001b[43m.\u001b[49m\u001b[43m_init_compiled\u001b[49m\u001b[43m,\u001b[49m\n\u001b[32m   1644\u001b[39m \u001b[43m    \u001b[49m\u001b[43mcompiled_sql\u001b[49m\u001b[43m,\u001b[49m\n\u001b[32m   1645\u001b[39m \u001b[43m    \u001b[49m\u001b[43mdistilled_parameters\u001b[49m\u001b[43m,\u001b[49m\n\u001b[32m   1646\u001b[39m \u001b[43m    \u001b[49m\u001b[43mexecution_options\u001b[49m\u001b[43m,\u001b[49m\n\u001b[32m   1647\u001b[39m \u001b[43m    \u001b[49m\u001b[43mcompiled_sql\u001b[49m\u001b[43m,\u001b[49m\n\u001b[32m   1648\u001b[39m \u001b[43m    \u001b[49m\u001b[43mdistilled_parameters\u001b[49m\u001b[43m,\u001b[49m\n\u001b[32m   1649\u001b[39m \u001b[43m    \u001b[49m\u001b[43melem\u001b[49m\u001b[43m,\u001b[49m\n\u001b[32m   1650\u001b[39m \u001b[43m    \u001b[49m\u001b[43mextracted_params\u001b[49m\u001b[43m,\u001b[49m\n\u001b[32m   1651\u001b[39m \u001b[43m    \u001b[49m\u001b[43mcache_hit\u001b[49m\u001b[43m=\u001b[49m\u001b[43mcache_hit\u001b[49m\u001b[43m,\u001b[49m\n\u001b[32m   1652\u001b[39m \u001b[43m\u001b[49m\u001b[43m)\u001b[49m\n\u001b[32m   1653\u001b[39m \u001b[38;5;28;01mif\u001b[39;00m has_events:\n\u001b[32m   1654\u001b[39m     \u001b[38;5;28mself\u001b[39m.dispatch.after_execute(\n\u001b[32m   1655\u001b[39m         \u001b[38;5;28mself\u001b[39m,\n\u001b[32m   1656\u001b[39m         elem,\n\u001b[32m   (...)\u001b[39m\u001b[32m   1660\u001b[39m         ret,\n\u001b[32m   1661\u001b[39m     )\n",
      "\u001b[36mFile \u001b[39m\u001b[32m~\\AppData\\Roaming\\Python\\Python311\\site-packages\\sqlalchemy\\engine\\base.py:1844\u001b[39m, in \u001b[36mConnection._execute_context\u001b[39m\u001b[34m(self, dialect, constructor, statement, parameters, execution_options, *args, **kw)\u001b[39m\n\u001b[32m   1841\u001b[39m context.pre_exec()\n\u001b[32m   1843\u001b[39m \u001b[38;5;28;01mif\u001b[39;00m context.execute_style \u001b[38;5;129;01mis\u001b[39;00m ExecuteStyle.INSERTMANYVALUES:\n\u001b[32m-> \u001b[39m\u001b[32m1844\u001b[39m     \u001b[38;5;28;01mreturn\u001b[39;00m \u001b[38;5;28;43mself\u001b[39;49m\u001b[43m.\u001b[49m\u001b[43m_exec_insertmany_context\u001b[49m\u001b[43m(\u001b[49m\u001b[43mdialect\u001b[49m\u001b[43m,\u001b[49m\u001b[43m \u001b[49m\u001b[43mcontext\u001b[49m\u001b[43m)\u001b[49m\n\u001b[32m   1845\u001b[39m \u001b[38;5;28;01melse\u001b[39;00m:\n\u001b[32m   1846\u001b[39m     \u001b[38;5;28;01mreturn\u001b[39;00m \u001b[38;5;28mself\u001b[39m._exec_single_context(\n\u001b[32m   1847\u001b[39m         dialect, context, statement, parameters\n\u001b[32m   1848\u001b[39m     )\n",
      "\u001b[36mFile \u001b[39m\u001b[32m~\\AppData\\Roaming\\Python\\Python311\\site-packages\\sqlalchemy\\engine\\base.py:2126\u001b[39m, in \u001b[36mConnection._exec_insertmany_context\u001b[39m\u001b[34m(self, dialect, context)\u001b[39m\n\u001b[32m   2118\u001b[39m         dialect.do_execute(\n\u001b[32m   2119\u001b[39m             cursor,\n\u001b[32m   2120\u001b[39m             sub_stmt,\n\u001b[32m   2121\u001b[39m             sub_params,\n\u001b[32m   2122\u001b[39m             context,\n\u001b[32m   2123\u001b[39m         )\n\u001b[32m   2125\u001b[39m \u001b[38;5;28;01mexcept\u001b[39;00m \u001b[38;5;167;01mBaseException\u001b[39;00m \u001b[38;5;28;01mas\u001b[39;00m e:\n\u001b[32m-> \u001b[39m\u001b[32m2126\u001b[39m     \u001b[38;5;28;43mself\u001b[39;49m\u001b[43m.\u001b[49m\u001b[43m_handle_dbapi_exception\u001b[49m\u001b[43m(\u001b[49m\n\u001b[32m   2127\u001b[39m \u001b[43m        \u001b[49m\u001b[43me\u001b[49m\u001b[43m,\u001b[49m\n\u001b[32m   2128\u001b[39m \u001b[43m        \u001b[49m\u001b[43msql_util\u001b[49m\u001b[43m.\u001b[49m\u001b[43m_long_statement\u001b[49m\u001b[43m(\u001b[49m\u001b[43msub_stmt\u001b[49m\u001b[43m)\u001b[49m\u001b[43m,\u001b[49m\n\u001b[32m   2129\u001b[39m \u001b[43m        \u001b[49m\u001b[43msub_params\u001b[49m\u001b[43m,\u001b[49m\n\u001b[32m   2130\u001b[39m \u001b[43m        \u001b[49m\u001b[43mcursor\u001b[49m\u001b[43m,\u001b[49m\n\u001b[32m   2131\u001b[39m \u001b[43m        \u001b[49m\u001b[43mcontext\u001b[49m\u001b[43m,\u001b[49m\n\u001b[32m   2132\u001b[39m \u001b[43m        \u001b[49m\u001b[43mis_sub_exec\u001b[49m\u001b[43m=\u001b[49m\u001b[38;5;28;43;01mTrue\u001b[39;49;00m\u001b[43m,\u001b[49m\n\u001b[32m   2133\u001b[39m \u001b[43m    \u001b[49m\u001b[43m)\u001b[49m\n\u001b[32m   2135\u001b[39m \u001b[38;5;28;01mif\u001b[39;00m engine_events:\n\u001b[32m   2136\u001b[39m     \u001b[38;5;28mself\u001b[39m.dispatch.after_cursor_execute(\n\u001b[32m   2137\u001b[39m         \u001b[38;5;28mself\u001b[39m,\n\u001b[32m   2138\u001b[39m         cursor,\n\u001b[32m   (...)\u001b[39m\u001b[32m   2142\u001b[39m         context.executemany,\n\u001b[32m   2143\u001b[39m     )\n",
      "\u001b[36mFile \u001b[39m\u001b[32m~\\AppData\\Roaming\\Python\\Python311\\site-packages\\sqlalchemy\\engine\\base.py:2355\u001b[39m, in \u001b[36mConnection._handle_dbapi_exception\u001b[39m\u001b[34m(self, e, statement, parameters, cursor, context, is_sub_exec)\u001b[39m\n\u001b[32m   2353\u001b[39m \u001b[38;5;28;01melif\u001b[39;00m should_wrap:\n\u001b[32m   2354\u001b[39m     \u001b[38;5;28;01massert\u001b[39;00m sqlalchemy_exception \u001b[38;5;129;01mis\u001b[39;00m \u001b[38;5;129;01mnot\u001b[39;00m \u001b[38;5;28;01mNone\u001b[39;00m\n\u001b[32m-> \u001b[39m\u001b[32m2355\u001b[39m     \u001b[38;5;28;01mraise\u001b[39;00m sqlalchemy_exception.with_traceback(exc_info[\u001b[32m2\u001b[39m]) \u001b[38;5;28;01mfrom\u001b[39;00m\u001b[38;5;250m \u001b[39m\u001b[34;01me\u001b[39;00m\n\u001b[32m   2356\u001b[39m \u001b[38;5;28;01melse\u001b[39;00m:\n\u001b[32m   2357\u001b[39m     \u001b[38;5;28;01massert\u001b[39;00m exc_info[\u001b[32m1\u001b[39m] \u001b[38;5;129;01mis\u001b[39;00m \u001b[38;5;129;01mnot\u001b[39;00m \u001b[38;5;28;01mNone\u001b[39;00m\n",
      "\u001b[36mFile \u001b[39m\u001b[32m~\\AppData\\Roaming\\Python\\Python311\\site-packages\\sqlalchemy\\engine\\base.py:2118\u001b[39m, in \u001b[36mConnection._exec_insertmany_context\u001b[39m\u001b[34m(self, dialect, context)\u001b[39m\n\u001b[32m   2116\u001b[39m             \u001b[38;5;28;01mbreak\u001b[39;00m\n\u001b[32m   2117\u001b[39m     \u001b[38;5;28;01melse\u001b[39;00m:\n\u001b[32m-> \u001b[39m\u001b[32m2118\u001b[39m         \u001b[43mdialect\u001b[49m\u001b[43m.\u001b[49m\u001b[43mdo_execute\u001b[49m\u001b[43m(\u001b[49m\n\u001b[32m   2119\u001b[39m \u001b[43m            \u001b[49m\u001b[43mcursor\u001b[49m\u001b[43m,\u001b[49m\n\u001b[32m   2120\u001b[39m \u001b[43m            \u001b[49m\u001b[43msub_stmt\u001b[49m\u001b[43m,\u001b[49m\n\u001b[32m   2121\u001b[39m \u001b[43m            \u001b[49m\u001b[43msub_params\u001b[49m\u001b[43m,\u001b[49m\n\u001b[32m   2122\u001b[39m \u001b[43m            \u001b[49m\u001b[43mcontext\u001b[49m\u001b[43m,\u001b[49m\n\u001b[32m   2123\u001b[39m \u001b[43m        \u001b[49m\u001b[43m)\u001b[49m\n\u001b[32m   2125\u001b[39m \u001b[38;5;28;01mexcept\u001b[39;00m \u001b[38;5;167;01mBaseException\u001b[39;00m \u001b[38;5;28;01mas\u001b[39;00m e:\n\u001b[32m   2126\u001b[39m     \u001b[38;5;28mself\u001b[39m._handle_dbapi_exception(\n\u001b[32m   2127\u001b[39m         e,\n\u001b[32m   2128\u001b[39m         sql_util._long_statement(sub_stmt),\n\u001b[32m   (...)\u001b[39m\u001b[32m   2132\u001b[39m         is_sub_exec=\u001b[38;5;28;01mTrue\u001b[39;00m,\n\u001b[32m   2133\u001b[39m     )\n",
      "\u001b[36mFile \u001b[39m\u001b[32m~\\AppData\\Roaming\\Python\\Python311\\site-packages\\sqlalchemy\\engine\\default.py:951\u001b[39m, in \u001b[36mDefaultDialect.do_execute\u001b[39m\u001b[34m(self, cursor, statement, parameters, context)\u001b[39m\n\u001b[32m    950\u001b[39m \u001b[38;5;28;01mdef\u001b[39;00m\u001b[38;5;250m \u001b[39m\u001b[34mdo_execute\u001b[39m(\u001b[38;5;28mself\u001b[39m, cursor, statement, parameters, context=\u001b[38;5;28;01mNone\u001b[39;00m):\n\u001b[32m--> \u001b[39m\u001b[32m951\u001b[39m     \u001b[43mcursor\u001b[49m\u001b[43m.\u001b[49m\u001b[43mexecute\u001b[49m\u001b[43m(\u001b[49m\u001b[43mstatement\u001b[49m\u001b[43m,\u001b[49m\u001b[43m \u001b[49m\u001b[43mparameters\u001b[49m\u001b[43m)\u001b[49m\n",
      "\u001b[31mIntegrityError\u001b[39m: (psycopg2.errors.UniqueViolation) duplicate key value violates unique constraint \"counters_pkey\"\nDETAIL:  Key (counter_id)=(MWAIRT001156) already exists.\n\n[SQL: INSERT INTO counters (counter_id, ticker, name, listing_price, date_listed) VALUES (%(counter_id__0)s, %(ticker__0)s, %(name__0)s, %(listing_price__0)s, %(date_listed__0)s), (%(counter_id__1)s, %(ticker__1)s, %(name__1)s, %(listing_price__1)s, %(date ... 1217 characters truncated ... 4)s), (%(counter_id__15)s, %(ticker__15)s, %(name__15)s, %(listing_price__15)s, %(date_listed__15)s)]\n[parameters: {'counter_id__0': 'MWAIRT001156', 'date_listed__0': datetime.date(2020, 2, 24), 'ticker__0': 'AIRTEL', 'listing_price__0': 12.69, 'name__0': 'AIRTEL MALAWI PLC', 'counter_id__1': 'MWBHL0010029', 'date_listed__1': datetime.date(1997, 3, 25), 'ticker__1': 'BHL', 'listing_price__1': 0.84, 'name__1': 'BLANTYRE HOTELS PLC', 'counter_id__2': 'MWFDHB001166', 'date_listed__2': datetime.date(2020, 8, 3), 'ticker__2': 'FDHB', 'listing_price__2': 10.0, 'name__2': 'FDH BANK PLC', 'counter_id__3': 'MWFMB0010138', 'date_listed__3': datetime.date(2017, 9, 18), 'ticker__3': 'FMBCH', 'listing_price__3': 45.01, 'name__3': 'FMB CAPITAL HOLDINGS PLC', 'counter_id__4': 'MWICON001146', 'date_listed__4': datetime.date(2019, 1, 21), 'ticker__4': 'ICON', 'listing_price__4': 8.75, 'name__4': 'ICON PROPERTIES PLC', 'counter_id__5': 'MWILLV010032', 'date_listed__5': datetime.date(1997, 11, 10), 'ticker__5': 'ILLOVO', 'listing_price__5': 2.25, 'name__5': 'ILLOVO SUGAR MALAWI PLC', 'counter_id__6': 'MWMPI0010116', 'date_listed__6': datetime.date(2007, 11, 12), 'ticker__6': 'MPICO', 'listing_price__6': 2.25, 'name__6': 'MALAWI PROPERTY INVESTMENT COMPANY PLC', 'counter_id__7': 'MWNBM0010074', 'date_listed__7': datetime.date(2000, 8, 21), 'ticker__7': 'NBM', 'listing_price__7': 4.0, 'name__7': 'NATIONAL BANK OF MALAWI', 'counter_id__8': 'MWNBS0010105', 'date_listed__8': datetime.date(2007, 6, 25), 'ticker__8': 'NBS', 'listing_price__8': 2.6, 'name__8': 'NBS BANK PLC', 'counter_id__9': 'MWNICO010014', 'date_listed__9': datetime.date(1996, 11, 11), 'ticker__9': 'NICO', 'listing_price__9': 2.0, 'name__9': 'NICO HOLDINGS PLC', 'counter_id__10': 'MWNITL010091', 'date_listed__10': datetime.date(2005, 3, 21), 'ticker__10': 'NITL', 'listing_price__10': 2.65, 'name__10': 'NATIONAL INVESTMENT TRUST PLC', 'counter_id__11': 'ZAE000255360', 'date_listed__11': datetime.date(2018, 6, 26), 'ticker__11': 'OMU', 'listing_price__11': 1580.22, 'name__11': 'OLD MUTUAL LIMITED', 'counter_id__12': 'MWPCL0010053', 'date_listed__12': datetime.date(2009, 9, 9), 'ticker__12': 'PCL', 'listing_price__12': 14.89, 'name__12': 'PRESS CORPORATION PLC', 'counter_id__13': 'MWSTD0010041', 'date_listed__13': datetime.date(1998, 6, 29), 'ticker__13': 'STANDARD', 'listing_price__13': 3.25, 'name__13': 'STANDARD BANK MALAWI PLC', 'counter_id__14': 'MWSTL0010085', 'date_listed__14': datetime.date(2002, 8, 21), 'ticker__14': 'SUNBIRD', 'listing_price__14': 2.6, 'name__14': 'SUNBIRD TOURISM PLC', 'counter_id__15': 'MWTNM0010126', 'date_listed__15': datetime.date(2008, 11, 3), 'ticker__15': 'TNM', 'listing_price__15': 2.0, 'name__15': 'TELEKOM NETWORKS MALAWI PLC'}]\n(Background on this error at: https://sqlalche.me/e/20/gkpj)"
     ]
    }
   ],
   "source": [
    "df.to_sql('counters', engine, if_exists='append', index=False)"
   ]
  },
  {
   "cell_type": "code",
   "execution_count": null,
   "id": "cb400092",
   "metadata": {},
   "outputs": [],
   "source": [
    "# Create prices_daily table\n",
    "query=\"\"\"create table if not exists prices (\n",
    "    counter_id text REFERENCES counters(counter_id),\n",
    "    trade_date date,\n",
    "    open_mwk real,\n",
    "    high_mwk real,\n",
    "    low_mwk real,\n",
    "    close_mwk real,\n",
    "    volume real\n",
    "    );\"\"\"\n",
    "with engine.begin() as conn:\n",
    "    conn.execute(text(query))"
   ]
  },
  {
   "cell_type": "code",
   "execution_count": null,
   "id": "9ae50913",
   "metadata": {},
   "outputs": [
    {
     "data": {
      "application/vnd.microsoft.datawrangler.viewer.v0+json": {
       "columns": [
        {
         "name": "index",
         "rawType": "int64",
         "type": "integer"
        },
        {
         "name": "counter_id",
         "rawType": "object",
         "type": "string"
        },
        {
         "name": "trade_date",
         "rawType": "datetime64[ns]",
         "type": "datetime"
        },
        {
         "name": "open_mwk",
         "rawType": "float64",
         "type": "float"
        },
        {
         "name": "high_mwk",
         "rawType": "float64",
         "type": "float"
        },
        {
         "name": "low_mwk",
         "rawType": "float64",
         "type": "float"
        },
        {
         "name": "close_mwk",
         "rawType": "float64",
         "type": "float"
        },
        {
         "name": "volume",
         "rawType": "float64",
         "type": "float"
        }
       ],
       "ref": "6e1cbd00-6398-431f-b0ee-5254a01e5761",
       "rows": [
        [
         "0",
         "MWAIRT001156",
         "2025-09-19 00:00:00",
         "12.69",
         "138.97",
         "137.94",
         "137.98",
         "79004.0"
        ],
        [
         "1",
         "MWBHL0010029",
         "2025-09-19 00:00:00",
         "0.84",
         "15.02",
         "15.02",
         "15.02",
         "7042.0"
        ],
        [
         "2",
         "MWFDHB001166",
         "2025-09-19 00:00:00",
         "10.0",
         "637.95",
         "637.91",
         "637.93",
         "101411.0"
        ],
        [
         "3",
         "MWFMB0010138",
         "2025-09-19 00:00:00",
         "45.01",
         "1897.99",
         "1897.99",
         "1897.99",
         "15133.0"
        ],
        [
         "4",
         "MWICON001146",
         "2025-09-19 00:00:00",
         "8.75",
         "17.94",
         "17.94",
         "17.94",
         "18168.0"
        ]
       ],
       "shape": {
        "columns": 7,
        "rows": 5
       }
      },
      "text/html": [
       "<div>\n",
       "<style scoped>\n",
       "    .dataframe tbody tr th:only-of-type {\n",
       "        vertical-align: middle;\n",
       "    }\n",
       "\n",
       "    .dataframe tbody tr th {\n",
       "        vertical-align: top;\n",
       "    }\n",
       "\n",
       "    .dataframe thead th {\n",
       "        text-align: right;\n",
       "    }\n",
       "</style>\n",
       "<table border=\"1\" class=\"dataframe\">\n",
       "  <thead>\n",
       "    <tr style=\"text-align: right;\">\n",
       "      <th></th>\n",
       "      <th>counter_id</th>\n",
       "      <th>trade_date</th>\n",
       "      <th>open_mwk</th>\n",
       "      <th>high_mwk</th>\n",
       "      <th>low_mwk</th>\n",
       "      <th>close_mwk</th>\n",
       "      <th>volume</th>\n",
       "    </tr>\n",
       "  </thead>\n",
       "  <tbody>\n",
       "    <tr>\n",
       "      <th>0</th>\n",
       "      <td>MWAIRT001156</td>\n",
       "      <td>2025-09-19</td>\n",
       "      <td>12.69</td>\n",
       "      <td>138.97</td>\n",
       "      <td>137.94</td>\n",
       "      <td>137.98</td>\n",
       "      <td>79004.0</td>\n",
       "    </tr>\n",
       "    <tr>\n",
       "      <th>1</th>\n",
       "      <td>MWBHL0010029</td>\n",
       "      <td>2025-09-19</td>\n",
       "      <td>0.84</td>\n",
       "      <td>15.02</td>\n",
       "      <td>15.02</td>\n",
       "      <td>15.02</td>\n",
       "      <td>7042.0</td>\n",
       "    </tr>\n",
       "    <tr>\n",
       "      <th>2</th>\n",
       "      <td>MWFDHB001166</td>\n",
       "      <td>2025-09-19</td>\n",
       "      <td>10.00</td>\n",
       "      <td>637.95</td>\n",
       "      <td>637.91</td>\n",
       "      <td>637.93</td>\n",
       "      <td>101411.0</td>\n",
       "    </tr>\n",
       "    <tr>\n",
       "      <th>3</th>\n",
       "      <td>MWFMB0010138</td>\n",
       "      <td>2025-09-19</td>\n",
       "      <td>45.01</td>\n",
       "      <td>1897.99</td>\n",
       "      <td>1897.99</td>\n",
       "      <td>1897.99</td>\n",
       "      <td>15133.0</td>\n",
       "    </tr>\n",
       "    <tr>\n",
       "      <th>4</th>\n",
       "      <td>MWICON001146</td>\n",
       "      <td>2025-09-19</td>\n",
       "      <td>8.75</td>\n",
       "      <td>17.94</td>\n",
       "      <td>17.94</td>\n",
       "      <td>17.94</td>\n",
       "      <td>18168.0</td>\n",
       "    </tr>\n",
       "  </tbody>\n",
       "</table>\n",
       "</div>"
      ],
      "text/plain": [
       "     counter_id trade_date  open_mwk  high_mwk  low_mwk  close_mwk    volume\n",
       "0  MWAIRT001156 2025-09-19     12.69    138.97   137.94     137.98   79004.0\n",
       "1  MWBHL0010029 2025-09-19      0.84     15.02    15.02      15.02    7042.0\n",
       "2  MWFDHB001166 2025-09-19     10.00    637.95   637.91     637.93  101411.0\n",
       "3  MWFMB0010138 2025-09-19     45.01   1897.99  1897.99    1897.99   15133.0\n",
       "4  MWICON001146 2025-09-19      8.75     17.94    17.94      17.94   18168.0"
      ]
     },
     "execution_count": 28,
     "metadata": {},
     "output_type": "execute_result"
    }
   ],
   "source": [
    "df_prices.head()"
   ]
  },
  {
   "cell_type": "code",
   "execution_count": null,
   "id": "5ebac039",
   "metadata": {},
   "outputs": [
    {
     "data": {
      "text/plain": [
       "810"
      ]
     },
     "execution_count": 29,
     "metadata": {},
     "output_type": "execute_result"
    }
   ],
   "source": [
    "df_prices.to_sql('prices', engine, if_exists='append', index=False)"
   ]
  }
 ],
 "metadata": {
  "kernelspec": {
   "display_name": ".venv-ntl",
   "language": "python",
   "name": "python3"
  },
  "language_info": {
   "codemirror_mode": {
    "name": "ipython",
    "version": 3
   },
   "file_extension": ".py",
   "mimetype": "text/x-python",
   "name": "python",
   "nbconvert_exporter": "python",
   "pygments_lexer": "ipython3",
   "version": "3.11.6"
  }
 },
 "nbformat": 4,
 "nbformat_minor": 5
}
